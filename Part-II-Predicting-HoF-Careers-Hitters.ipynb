{
 "cells": [
  {
   "cell_type": "markdown",
   "metadata": {},
   "source": [
    "## Part II: Predicting Hall of Fame Careers"
   ]
  },
  {
   "cell_type": "markdown",
   "metadata": {},
   "source": [
    "# Try the model without using cross val predict.  Split into train and test like in part I to get the model right... then figure out cross val predict."
   ]
  },
  {
   "cell_type": "code",
   "execution_count": 223,
   "metadata": {
    "collapsed": true
   },
   "outputs": [],
   "source": [
    "# Connecting to SQLite Database\n",
    "import pandas as pd\n",
    "import sqlite3\n",
    "conn = sqlite3.connect(\"lahman2016.sqlite\")"
   ]
  },
  {
   "cell_type": "code",
   "execution_count": 224,
   "metadata": {
    "collapsed": true
   },
   "outputs": [],
   "source": [
    "queryMaster = 'select playerID,nameFirst,nameLast,bats,throws,debut,finalGame from Master;'\n",
    "queryFielding = 'select * from Fielding;'\n",
    "queryAwards = 'select playerID,awardID,yearID from AwardsPlayers;'\n",
    "queryAllStar = 'select playerID, YearID from AllstarFull;'\n",
    "queryHOF = '''select playerID,yearid,votedBy,needed_note from HallofFame where (votedBy == \"BBWAA\" or votedBy == \"Run Off\") \n",
    "and inducted == \"Y\" and category == \"Player\";'''"
   ]
  },
  {
   "cell_type": "code",
   "execution_count": 225,
   "metadata": {
    "collapsed": false
   },
   "outputs": [],
   "source": [
    "batting_df = pd.read_csv('Batting.csv')"
   ]
  },
  {
   "cell_type": "code",
   "execution_count": 226,
   "metadata": {
    "collapsed": false
   },
   "outputs": [],
   "source": [
    "master = conn.execute(queryMaster).fetchall()\n",
    "master_df = pd.DataFrame(master)\n",
    "fielding = conn.execute(queryFielding).fetchall()\n",
    "fielding_df = pd.DataFrame(fielding)\n",
    "awards = conn.execute(queryAwards).fetchall()\n",
    "awards_df = pd.DataFrame(awards)\n",
    "allstar = conn.execute(queryAllStar).fetchall()\n",
    "allstar_df = pd.DataFrame(allstar)\n",
    "hof = conn.execute(queryHOF).fetchall()\n",
    "hof_df = pd.DataFrame(hof)"
   ]
  },
  {
   "cell_type": "code",
   "execution_count": 227,
   "metadata": {
    "collapsed": false
   },
   "outputs": [],
   "source": [
    "master_cols = ['playerID','nameFirst','nameLast','bats','throws','debut','finalGame']\n",
    "master_df.columns = master_cols\n",
    "\n",
    "fielding_cols = ['playerID','yearID','stint','teamID','lgID','Pos','G','GS','InnOuts','PO','A','E','DP','PB','WP','SB','CS','ZR']\n",
    "fielding_df.columns = fielding_cols\n",
    "\n",
    "awards_cols = ['playerID','awardID','yearID']\n",
    "awards_df.columns = awards_cols\n",
    "\n",
    "allstar_cols = ['playerID','YearID']\n",
    "allstar_df.columns = allstar_cols\n",
    "\n",
    "hof_cols = ['playerID','yearid','votedBy','needed_note']\n",
    "hof_df.columns = hof_cols"
   ]
  },
  {
   "cell_type": "code",
   "execution_count": 228,
   "metadata": {
    "collapsed": false
   },
   "outputs": [
    {
     "name": "stdout",
     "output_type": "stream",
     "text": [
      "    playerID  yearID  stint teamID lgID   G   AB   R   H  2B  ...    RBI   SB  \\\n",
      "0  abercda01    1871      1    TRO  NaN   1    4   0   0   0  ...    0.0  0.0   \n",
      "1   addybo01    1871      1    RC1  NaN  25  118  30  32   6  ...   13.0  8.0   \n",
      "2  allisar01    1871      1    CL1  NaN  29  137  28  40   4  ...   19.0  3.0   \n",
      "3  allisdo01    1871      1    WS3  NaN  27  133  28  44  10  ...   27.0  1.0   \n",
      "4  ansonca01    1871      1    RC1  NaN  25  120  29  39  11  ...   16.0  6.0   \n",
      "\n",
      "    CS  BB   SO  IBB  HBP  SH  SF  GIDP  \n",
      "0  0.0   0  0.0  NaN  NaN NaN NaN   NaN  \n",
      "1  1.0   4  0.0  NaN  NaN NaN NaN   NaN  \n",
      "2  1.0   2  5.0  NaN  NaN NaN NaN   NaN  \n",
      "3  1.0   0  2.0  NaN  NaN NaN NaN   NaN  \n",
      "4  2.0   2  1.0  NaN  NaN NaN NaN   NaN  \n",
      "\n",
      "[5 rows x 22 columns]\n"
     ]
    }
   ],
   "source": [
    "print(batting_df.head())"
   ]
  },
  {
   "cell_type": "code",
   "execution_count": 229,
   "metadata": {
    "collapsed": false
   },
   "outputs": [],
   "source": [
    "player_stats = {}\n",
    "years_played = {}\n",
    "for i, row in batting_df.iterrows():\n",
    "    playerID = row['playerID']\n",
    "    G = row['G']\n",
    "    AB = row['AB']\n",
    "    R = row['R']\n",
    "    H = row['H']\n",
    "    twoB = row['2B']\n",
    "    threeB = row['3B']\n",
    "    HR = row['HR']\n",
    "    RBI = row['RBI']\n",
    "    SB = row['SB']\n",
    "    CS = row['CS']\n",
    "    BB = row['BB']\n",
    "    SO = row['SO']\n",
    "    IBB = row['IBB']\n",
    "    HBP = row['HBP']\n",
    "    SH = row['SH']\n",
    "    SF = row['SF']\n",
    "    GIDP = row['GIDP']\n",
    "    yearID = row['yearID']\n",
    "    if playerID in player_stats:\n",
    "        player_stats[playerID]['G'] = player_stats[playerID]['G'] + G\n",
    "        player_stats[playerID]['AB'] = player_stats[playerID]['AB'] + AB\n",
    "        player_stats[playerID]['R'] = player_stats[playerID]['R'] + R\n",
    "        player_stats[playerID]['H'] = player_stats[playerID]['H'] + H\n",
    "        player_stats[playerID]['2B'] = player_stats[playerID]['2B'] + twoB\n",
    "        player_stats[playerID]['3B'] = player_stats[playerID]['3B'] + threeB\n",
    "        player_stats[playerID]['HR'] = player_stats[playerID]['HR'] + HR\n",
    "        player_stats[playerID]['RBI'] = player_stats[playerID]['RBI'] + RBI\n",
    "        player_stats[playerID]['SB'] = player_stats[playerID]['SB'] + SB\n",
    "        player_stats[playerID]['CS'] = player_stats[playerID]['CS'] + CS\n",
    "        player_stats[playerID]['BB'] = player_stats[playerID]['BB'] + BB\n",
    "        player_stats[playerID]['SO'] = player_stats[playerID]['SO'] + SO\n",
    "        player_stats[playerID]['IBB'] = player_stats[playerID]['IBB'] + IBB\n",
    "        player_stats[playerID]['HBP'] = player_stats[playerID]['HBP'] + HBP\n",
    "        player_stats[playerID]['SH'] = player_stats[playerID]['SH'] + SH\n",
    "        player_stats[playerID]['GIDP'] = player_stats[playerID]['GIDP'] + GIDP\n",
    "        years_played[playerID].append(yearID)        \n",
    "    else:\n",
    "        player_stats[playerID] = {}\n",
    "        player_stats[playerID]['G'] = G\n",
    "        player_stats[playerID]['AB'] = AB\n",
    "        player_stats[playerID]['R'] = R\n",
    "        player_stats[playerID]['H'] = H\n",
    "        player_stats[playerID]['2B'] = twoB\n",
    "        player_stats[playerID]['3B'] = threeB\n",
    "        player_stats[playerID]['HR'] = HR\n",
    "        player_stats[playerID]['RBI'] = RBI\n",
    "        player_stats[playerID]['SB'] = SB\n",
    "        player_stats[playerID]['CS'] = CS\n",
    "        player_stats[playerID]['BB'] = BB\n",
    "        player_stats[playerID]['SO'] = SO\n",
    "        player_stats[playerID]['IBB'] = IBB\n",
    "        player_stats[playerID]['HBP'] = HBP\n",
    "        player_stats[playerID]['SH'] = SH\n",
    "        player_stats[playerID]['GIDP'] = GIDP\n",
    "        years_played[playerID] = []\n",
    "        years_played[playerID].append(yearID)"
   ]
  },
  {
   "cell_type": "code",
   "execution_count": 230,
   "metadata": {
    "collapsed": true
   },
   "outputs": [],
   "source": [
    "eras_played = {}\n",
    "for k, v in years_played.items():\n",
    "    eras_played[k] = {}\n",
    "    player_stats[k]['Years_Played'] = len(list(set(v)))\n",
    "    for year in v:\n",
    "        if year < 1920:\n",
    "            eras_played[k]['pre1920'] = 1\n",
    "        elif year >= 1920 and year <= 1941:\n",
    "            eras_played[k]['1920-41'] = 1\n",
    "        elif year >= 1942 and year <= 1945:\n",
    "            eras_played[k]['1942-45'] = 1\n",
    "        elif year >= 1946 and year <= 1962:\n",
    "            eras_played[k]['1946-62'] = 1\n",
    "        elif year >= 1963 and year <= 1976:\n",
    "            eras_played[k]['1963-76'] = 1\n",
    "        elif year >= 1977 and year <= 1992:\n",
    "            eras_played[k]['1977-92'] = 1\n",
    "        elif year >= 1993 and year <= 2009:\n",
    "            eras_played[k]['1993-2009'] = 1"
   ]
  },
  {
   "cell_type": "code",
   "execution_count": 231,
   "metadata": {
    "collapsed": true
   },
   "outputs": [],
   "source": [
    "eras_df = pd.DataFrame.from_dict(eras_played, orient='index')"
   ]
  },
  {
   "cell_type": "code",
   "execution_count": 232,
   "metadata": {
    "collapsed": false
   },
   "outputs": [
    {
     "name": "stdout",
     "output_type": "stream",
     "text": [
      "           1993-2009  pre1920  1920-41  1963-76  1942-45  1946-62  1977-92\n",
      "aardsda01        1.0      NaN      NaN      NaN      NaN      NaN      NaN\n",
      "aaronha01        NaN      NaN      NaN      1.0      NaN      1.0      NaN\n",
      "aaronto01        NaN      NaN      NaN      1.0      NaN      1.0      NaN\n",
      "aasedo01         NaN      NaN      NaN      NaN      NaN      NaN      1.0\n",
      "abadan01         1.0      NaN      NaN      NaN      NaN      NaN      NaN\n"
     ]
    }
   ],
   "source": [
    "print(eras_df.head())"
   ]
  },
  {
   "cell_type": "markdown",
   "metadata": {},
   "source": [
    "## Add in years played and eras played in."
   ]
  },
  {
   "cell_type": "code",
   "execution_count": 233,
   "metadata": {
    "collapsed": true
   },
   "outputs": [],
   "source": [
    "fielder_list = []\n",
    "for i, row in fielding_df.iterrows():\n",
    "    playerID = row['playerID']\n",
    "    Gf = row['G']\n",
    "    GSf = row['GS']\n",
    "    InnOutsf = row['InnOuts']\n",
    "    POf = row['PO']\n",
    "    Af = row['A']\n",
    "    Ef = row['E']\n",
    "    DPf = row['DP']\n",
    "    PBfc = row['PB']\n",
    "    WPfc = row['WP']\n",
    "    SBfc = row['SB']\n",
    "    CSfc = row['CS']\n",
    "    if playerID in player_stats and playerID in fielder_list:\n",
    "        player_stats[playerID]['Gf'] = player_stats[playerID]['Gf'] + Gf\n",
    "        player_stats[playerID]['GSf'] = player_stats[playerID]['GSf'] + GSf\n",
    "        player_stats[playerID]['InnOutsf'] = player_stats[playerID]['InnOutsf'] + InnOutsf\n",
    "        player_stats[playerID]['POf'] = player_stats[playerID]['POf'] + POf\n",
    "        player_stats[playerID]['Af'] = player_stats[playerID]['Af'] + Af\n",
    "        player_stats[playerID]['Ef'] = player_stats[playerID]['Ef'] + Ef\n",
    "        player_stats[playerID]['DPf'] = player_stats[playerID]['DPf'] + DPf\n",
    "        player_stats[playerID]['PBfc'] = player_stats[playerID]['PBfc'] + PBfc\n",
    "        player_stats[playerID]['WPfc'] = player_stats[playerID]['WPfc'] + WPfc\n",
    "        player_stats[playerID]['SBfc'] = player_stats[playerID]['SBfc'] + SBfc\n",
    "        player_stats[playerID]['CSfc'] = player_stats[playerID]['CSfc'] + CSfc\n",
    "    else:\n",
    "        fielder_list.append(playerID)\n",
    "        player_stats[playerID]['Gf'] = Gf\n",
    "        player_stats[playerID]['GSf'] = GSf\n",
    "        player_stats[playerID]['InnOutsf'] = InnOutsf\n",
    "        player_stats[playerID]['POf'] = POf\n",
    "        player_stats[playerID]['Af'] = Af\n",
    "        player_stats[playerID]['Ef'] = Ef\n",
    "        player_stats[playerID]['DPf'] = DPf\n",
    "        player_stats[playerID]['PBfc'] = PBfc\n",
    "        player_stats[playerID]['WPfc'] = WPfc\n",
    "        player_stats[playerID]['SBfc'] = SBfc\n",
    "        player_stats[playerID]['CSfc'] = CSfc"
   ]
  },
  {
   "cell_type": "code",
   "execution_count": 234,
   "metadata": {
    "collapsed": false
   },
   "outputs": [
    {
     "name": "stdout",
     "output_type": "stream",
     "text": [
      "['Pitching Triple Crown' 'Triple Crown' 'Baseball Magazine All-Star'\n",
      " 'Most Valuable Player' 'TSN All-Star' 'TSN Guide MVP'\n",
      " 'TSN Major League Player of the Year' 'TSN Pitcher of the Year'\n",
      " 'TSN Player of the Year' 'Rookie of the Year' 'Babe Ruth Award'\n",
      " 'Lou Gehrig Memorial Award' 'World Series MVP' 'Cy Young Award'\n",
      " 'Gold Glove' 'TSN Fireman of the Year' 'All-Star Game MVP' 'Hutch Award'\n",
      " 'Roberto Clemente Award' 'Rolaids Relief Man Award' 'NLCS MVP' 'ALCS MVP'\n",
      " 'Silver Slugger' 'Branch Rickey Award' 'Hank Aaron Award'\n",
      " 'TSN Reliever of the Year' 'Comeback Player of the Year'\n",
      " 'Outstanding DH Award' 'Reliever of the Year Award']\n"
     ]
    }
   ],
   "source": [
    "print(awards_df['awardID'].unique())"
   ]
  },
  {
   "cell_type": "code",
   "execution_count": 235,
   "metadata": {
    "collapsed": false
   },
   "outputs": [],
   "source": [
    "mvp_df = awards_df[awards_df['awardID'] == 'Most Valuable Player']\n",
    "roy_df = awards_df[awards_df['awardID'] == 'Rookie of the Year']\n",
    "gg_df = awards_df[awards_df['awardID'] == 'Gold Glove']\n",
    "ss_df = awards_df[awards_df['awardID'] == 'Silver Slugger']\n",
    "\n",
    "awards_list = [mvp_df,roy_df,gg_df,ss_df]"
   ]
  },
  {
   "cell_type": "code",
   "execution_count": 236,
   "metadata": {
    "collapsed": false
   },
   "outputs": [
    {
     "name": "stdout",
     "output_type": "stream",
     "text": [
      "       playerID             awardID  yearID\n",
      "1796  robinja02  Rookie of the Year    1947\n",
      "1845   darkal01  Rookie of the Year    1948\n",
      "1899  sievero01  Rookie of the Year    1949\n",
      "1900  newcodo01  Rookie of the Year    1949\n",
      "1953  dropowa01  Rookie of the Year    1950\n"
     ]
    }
   ],
   "source": [
    "print(awards_list[1].head())"
   ]
  },
  {
   "cell_type": "code",
   "execution_count": 237,
   "metadata": {
    "collapsed": false
   },
   "outputs": [],
   "source": [
    "mvp_list = []\n",
    "roy_list = []\n",
    "gg_list = []\n",
    "ss_list = []\n",
    "lists = [mvp_list,roy_list,gg_list,ss_list]"
   ]
  },
  {
   "cell_type": "code",
   "execution_count": 238,
   "metadata": {
    "collapsed": false
   },
   "outputs": [],
   "source": [
    "for index, v in enumerate(awards_list):\n",
    "    for i, row in v.iterrows():\n",
    "        playerID = row['playerID']\n",
    "        award = row['awardID']\n",
    "        if playerID in player_stats and playerID in lists[index]:\n",
    "            player_stats[playerID][award] += 1\n",
    "        else:\n",
    "            lists[index].append(playerID)\n",
    "            player_stats[playerID][award] = 1"
   ]
  },
  {
   "cell_type": "code",
   "execution_count": 239,
   "metadata": {
    "collapsed": true
   },
   "outputs": [],
   "source": [
    "allstar_list = []\n",
    "for i, row in allstar_df.iterrows():\n",
    "    playerID = row['playerID']\n",
    "    if playerID in player_stats and playerID in allstar_list:\n",
    "        player_stats[playerID]['AS_games'] += 1\n",
    "    else:\n",
    "        allstar_list.append(playerID)\n",
    "        player_stats[playerID]['AS_games'] = 1"
   ]
  },
  {
   "cell_type": "code",
   "execution_count": 240,
   "metadata": {
    "collapsed": false
   },
   "outputs": [],
   "source": [
    "for i, row in hof_df.iterrows():\n",
    "    playerID = row['playerID']\n",
    "    if playerID in player_stats:\n",
    "        player_stats[playerID]['HoF'] = 1"
   ]
  },
  {
   "cell_type": "code",
   "execution_count": 241,
   "metadata": {
    "collapsed": false
   },
   "outputs": [
    {
     "name": "stdout",
     "output_type": "stream",
     "text": [
      "122\n",
      "19105\n"
     ]
    }
   ],
   "source": [
    "print(len(hof_df))\n",
    "print(len(master_df))"
   ]
  },
  {
   "cell_type": "code",
   "execution_count": 242,
   "metadata": {
    "collapsed": false
   },
   "outputs": [
    {
     "name": "stdout",
     "output_type": "stream",
     "text": [
      "{'jenkige01': {'Af': 98.0, 'Gf': 1277, 'HBP': 96.0, 'DPf': 28.0, 'RBI': 733.0, 'R': 688, 'CS': 14.0, 'SBfc': nan, 'IBB': 77.0, 'PBfc': nan, '2B': 303, 'AB': 4700, 'POf': 2381, 'SH': 3.0, 'CSfc': nan, 'AS_games': 1, 'SO': 1186.0, 'GSf': 1210.0, 'GIDP': 113.0, 'H': 1293, 'InnOutsf': 31828.0, 'SB': 32.0, 'BB': 418, 'Years_Played': 11, 'HR': 221, 'G': 1349, '3B': 22, 'WPfc': nan, 'Ef': 42.0}, 'robitch01': {'Af': 45.0, 'Gf': 26, 'HBP': 0.0, 'DPf': 1.0, 'RBI': 3.0, 'R': 2, 'CS': nan, 'SBfc': nan, 'IBB': nan, 'PBfc': nan, '2B': 0, 'AB': 66, 'POf': 7, 'SH': 1.0, 'CSfc': nan, 'SO': nan, 'GSf': nan, 'GIDP': nan, 'H': 8, 'InnOutsf': nan, 'SB': 1.0, 'BB': 0, 'Years_Played': 2, 'HR': 0, 'G': 26, '3B': 0, 'WPfc': nan, 'Ef': 0.0}}\n"
     ]
    }
   ],
   "source": [
    "print(dict(list(player_stats.items())[0:2]))"
   ]
  },
  {
   "cell_type": "code",
   "execution_count": 243,
   "metadata": {
    "collapsed": false
   },
   "outputs": [],
   "source": [
    "stats_df = pd.DataFrame.from_dict(player_stats, orient='index')"
   ]
  },
  {
   "cell_type": "code",
   "execution_count": 244,
   "metadata": {
    "collapsed": false
   },
   "outputs": [],
   "source": [
    "stats_df['playerID'] = stats_df.index"
   ]
  },
  {
   "cell_type": "code",
   "execution_count": 245,
   "metadata": {
    "collapsed": false
   },
   "outputs": [
    {
     "name": "stdout",
     "output_type": "stream",
     "text": [
      "              Af      Gf   HBP    DPf     RBI     R    CS  SBfc  IBB  PBfc  \\\n",
      "aardsda01   29.0   331.0   0.0    2.0     0.0     0   0.0   NaN  0.0   NaN   \n",
      "aaronha01  429.0  3020.0  32.0  218.0  2297.0  2174  73.0   NaN  NaN   NaN   \n",
      "aaronto01  113.0   387.0   0.0  124.0    94.0   102   8.0   NaN  3.0   NaN   \n",
      "aasedo01   135.0   448.0   0.0   10.0     0.0     0   0.0   NaN  0.0   NaN   \n",
      "abadan01     1.0     9.0   0.0    3.0     0.0     1   1.0   NaN  0.0   NaN   \n",
      "\n",
      "             ...         G  3B  WPfc     Ef  HoF  Silver Slugger  Gold Glove  \\\n",
      "aardsda01    ...       331   0   NaN    3.0  NaN             NaN         NaN   \n",
      "aaronha01    ...      3298  98   NaN  144.0  1.0             NaN         3.0   \n",
      "aaronto01    ...       437   6   NaN   22.0  NaN             NaN         NaN   \n",
      "aasedo01     ...       448   0   NaN   13.0  NaN             NaN         NaN   \n",
      "abadan01     ...        15   0   NaN    1.0  NaN             NaN         NaN   \n",
      "\n",
      "           Rookie of the Year  Most Valuable Player   playerID  \n",
      "aardsda01                 NaN                   NaN  aardsda01  \n",
      "aaronha01                 NaN                   1.0  aaronha01  \n",
      "aaronto01                 NaN                   NaN  aaronto01  \n",
      "aasedo01                  NaN                   NaN   aasedo01  \n",
      "abadan01                  NaN                   NaN   abadan01  \n",
      "\n",
      "[5 rows x 35 columns]\n"
     ]
    }
   ],
   "source": [
    "print(stats_df.head())"
   ]
  },
  {
   "cell_type": "code",
   "execution_count": 246,
   "metadata": {
    "collapsed": false
   },
   "outputs": [
    {
     "name": "stdout",
     "output_type": "stream",
     "text": [
      "aaronha01    aaronha01\n",
      "alexape01    alexape01\n",
      "alomaro01    alomaro01\n",
      "aparilu01    aparilu01\n",
      "applilu01    applilu01\n",
      "bagweje01    bagweje01\n",
      "bankser01    bankser01\n",
      "benchjo01    benchjo01\n",
      "berrayo01    berrayo01\n",
      "biggicr01    biggicr01\n",
      "blylebe01    blylebe01\n",
      "boggswa01    boggswa01\n",
      "boudrlo01    boudrlo01\n",
      "brettge01    brettge01\n",
      "brocklo01    brocklo01\n",
      "camparo01    camparo01\n",
      "carewro01    carewro01\n",
      "carltst01    carltst01\n",
      "cartega01    cartega01\n",
      "cobbty01      cobbty01\n",
      "cochrmi01    cochrmi01\n",
      "collied01    collied01\n",
      "cronijo01    cronijo01\n",
      "dawsoan01    dawsoan01\n",
      "deandi01      deandi01\n",
      "dickebi01    dickebi01\n",
      "dimagjo01    dimagjo01\n",
      "drysddo01    drysddo01\n",
      "eckerde01    eckerde01\n",
      "fellebo01    fellebo01\n",
      "               ...    \n",
      "ruffire01    ruffire01\n",
      "ruthba01      ruthba01\n",
      "ryanno01      ryanno01\n",
      "sandbry01    sandbry01\n",
      "schmimi01    schmimi01\n",
      "seaveto01    seaveto01\n",
      "simmoal01    simmoal01\n",
      "sislege01    sislege01\n",
      "smithoz01    smithoz01\n",
      "smoltjo01    smoltjo01\n",
      "snidedu01    snidedu01\n",
      "spahnwa01    spahnwa01\n",
      "speaktr01    speaktr01\n",
      "stargwi01    stargwi01\n",
      "suttebr01    suttebr01\n",
      "suttodo01    suttodo01\n",
      "terrybi01    terrybi01\n",
      "thomafr04    thomafr04\n",
      "traynpi01    traynpi01\n",
      "vanceda01    vanceda01\n",
      "wagneho01    wagneho01\n",
      "wanerpa01    wanerpa01\n",
      "wilheho01    wilheho01\n",
      "willibi01    willibi01\n",
      "willite01    willite01\n",
      "winfida01    winfida01\n",
      "wynnea01      wynnea01\n",
      "yastrca01    yastrca01\n",
      "youngcy01    youngcy01\n",
      "yountro01    yountro01\n",
      "Name: playerID, dtype: object\n",
      "122\n"
     ]
    }
   ],
   "source": [
    "hof_dftest = stats_df[stats_df['HoF'] == 1]\n",
    "print(hof_dftest['playerID'])\n",
    "print(len(hof_dftest))"
   ]
  },
  {
   "cell_type": "code",
   "execution_count": 247,
   "metadata": {
    "collapsed": false
   },
   "outputs": [
    {
     "name": "stdout",
     "output_type": "stream",
     "text": [
      "    playerID nameFirst nameLast bats throws       debut   finalGame\n",
      "0  aardsda01     David  Aardsma    R      R  2004-04-06  2015-08-23\n",
      "1  aaronha01      Hank    Aaron    R      R  1954-04-13  1976-10-03\n",
      "2  aaronto01    Tommie    Aaron    R      R  1962-04-10  1971-09-26\n",
      "3   aasedo01       Don     Aase    R      R  1977-07-26  1990-10-03\n",
      "4   abadan01      Andy     Abad    L      L  2001-09-10  2006-04-13\n"
     ]
    }
   ],
   "source": [
    "print(master_df.head())"
   ]
  },
  {
   "cell_type": "code",
   "execution_count": 248,
   "metadata": {
    "collapsed": false
   },
   "outputs": [],
   "source": [
    "df = master_df.join(stats_df,on='playerID',how='inner',rsuffix='mstr')"
   ]
  },
  {
   "cell_type": "code",
   "execution_count": 249,
   "metadata": {
    "collapsed": false
   },
   "outputs": [
    {
     "name": "stdout",
     "output_type": "stream",
     "text": [
      "    playerID nameFirst nameLast bats throws       debut   finalGame     Af  \\\n",
      "0  aardsda01     David  Aardsma    R      R  2004-04-06  2015-08-23   29.0   \n",
      "1  aaronha01      Hank    Aaron    R      R  1954-04-13  1976-10-03  429.0   \n",
      "2  aaronto01    Tommie    Aaron    R      R  1962-04-10  1971-09-26  113.0   \n",
      "3   aasedo01       Don     Aase    R      R  1977-07-26  1990-10-03  135.0   \n",
      "4   abadan01      Andy     Abad    L      L  2001-09-10  2006-04-13    1.0   \n",
      "\n",
      "       Gf   HBP      ...          G  3B  WPfc     Ef  HoF  Silver Slugger  \\\n",
      "0   331.0   0.0      ...        331   0   NaN    3.0  NaN             NaN   \n",
      "1  3020.0  32.0      ...       3298  98   NaN  144.0  1.0             NaN   \n",
      "2   387.0   0.0      ...        437   6   NaN   22.0  NaN             NaN   \n",
      "3   448.0   0.0      ...        448   0   NaN   13.0  NaN             NaN   \n",
      "4     9.0   0.0      ...         15   0   NaN    1.0  NaN             NaN   \n",
      "\n",
      "   Gold Glove  Rookie of the Year  Most Valuable Player  playerIDmstr  \n",
      "0         NaN                 NaN                   NaN     aardsda01  \n",
      "1         3.0                 NaN                   1.0     aaronha01  \n",
      "2         NaN                 NaN                   NaN     aaronto01  \n",
      "3         NaN                 NaN                   NaN      aasedo01  \n",
      "4         NaN                 NaN                   NaN      abadan01  \n",
      "\n",
      "[5 rows x 42 columns]\n",
      "18915\n",
      "18915\n",
      "19105\n"
     ]
    }
   ],
   "source": [
    "print(df.head())\n",
    "print(len(stats_df))\n",
    "print(len(df))\n",
    "print(len(master_df))"
   ]
  },
  {
   "cell_type": "code",
   "execution_count": 250,
   "metadata": {
    "collapsed": false
   },
   "outputs": [],
   "source": [
    "def bats_throws(col):\n",
    "    if col == \"R\":\n",
    "        return 1\n",
    "    else:\n",
    "        return 0\n",
    "        \n",
    "df['bats_R'] = df['bats'].apply(bats_throws)\n",
    "df['throws_R'] = df['throws'].apply(bats_throws)"
   ]
  },
  {
   "cell_type": "code",
   "execution_count": 251,
   "metadata": {
    "collapsed": false
   },
   "outputs": [],
   "source": [
    "pos_list = []\n",
    "pos_dict = {}\n",
    "for i, row in fielding_df.iterrows():\n",
    "    playerID = row['playerID']\n",
    "    games = row['G']\n",
    "    pos = row['Pos']\n",
    "    if playerID in pos_dict:\n",
    "        if pos in pos_dict[playerID]:\n",
    "            pos_dict[playerID][pos] = pos_dict[playerID][pos] + games\n",
    "        else:\n",
    "            pos_dict[playerID][pos] = games\n",
    "    else:\n",
    "        pos_dict[playerID] = {}\n",
    "        pos_dict[playerID][pos] = games"
   ]
  },
  {
   "cell_type": "code",
   "execution_count": 252,
   "metadata": {
    "collapsed": false
   },
   "outputs": [],
   "source": [
    "primary_pos_dict = {}\n",
    "player_list = []\n",
    "for k, v in pos_dict.items():\n",
    "    playerID = k\n",
    "    primary_pos_dict[playerID] = {}\n",
    "    for key, val in v.items():\n",
    "        primary_pos_dict[playerID]['game_count'] = 0\n",
    "        if val > primary_pos_dict[playerID]['game_count']:\n",
    "            primary_pos_dict[playerID]['pos'] = key\n",
    "            primary_pos_dict[playerID]['game_count'] = val"
   ]
  },
  {
   "cell_type": "code",
   "execution_count": 253,
   "metadata": {
    "collapsed": true
   },
   "outputs": [],
   "source": [
    "primary_pos_df = pd.DataFrame.from_dict(primary_pos_dict, orient='index')"
   ]
  },
  {
   "cell_type": "code",
   "execution_count": 254,
   "metadata": {
    "collapsed": true
   },
   "outputs": [],
   "source": [
    "primary_pos_df = primary_pos_df.drop('game_count', axis=1)"
   ]
  },
  {
   "cell_type": "code",
   "execution_count": 255,
   "metadata": {
    "collapsed": true
   },
   "outputs": [],
   "source": [
    "df = df.join(primary_pos_df,on='playerID',how='inner')"
   ]
  },
  {
   "cell_type": "code",
   "execution_count": 256,
   "metadata": {
    "collapsed": false
   },
   "outputs": [],
   "source": [
    "dummy_df = pd.get_dummies(df['pos'], prefix='pos_')\n",
    "df = pd.concat([df, dummy_df], axis=1)"
   ]
  },
  {
   "cell_type": "code",
   "execution_count": null,
   "metadata": {
    "collapsed": true
   },
   "outputs": [],
   "source": []
  },
  {
   "cell_type": "code",
   "execution_count": 257,
   "metadata": {
    "collapsed": true
   },
   "outputs": [],
   "source": [
    "from datetime import datetime\n",
    "df['debut'] =  pd.to_datetime(df['debut'])\n",
    "df['finalGame'] = pd.to_datetime(df['finalGame'])"
   ]
  },
  {
   "cell_type": "code",
   "execution_count": 258,
   "metadata": {
    "collapsed": false
   },
   "outputs": [],
   "source": [
    "df['debutYear'] = pd.to_numeric(df['debut'].dt.strftime('%Y'), errors='coerce')\n",
    "df['finalYear'] = pd.to_numeric(df['finalGame'].dt.strftime('%Y'), errors='coerce')"
   ]
  },
  {
   "cell_type": "code",
   "execution_count": 259,
   "metadata": {
    "collapsed": false
   },
   "outputs": [],
   "source": [
    "df['YSR'] = 2016 - df['finalYear']"
   ]
  },
  {
   "cell_type": "code",
   "execution_count": 260,
   "metadata": {
    "collapsed": true
   },
   "outputs": [],
   "source": [
    "df = df[df['YSR'] > 15]"
   ]
  },
  {
   "cell_type": "code",
   "execution_count": 261,
   "metadata": {
    "collapsed": true
   },
   "outputs": [],
   "source": [
    "df['AVE'] = df['H'] / df['AB']"
   ]
  },
  {
   "cell_type": "code",
   "execution_count": 262,
   "metadata": {
    "collapsed": true
   },
   "outputs": [],
   "source": [
    "df['OBP'] = (df['H'] + df['BB']) / (df['AB'] + df['BB'])"
   ]
  },
  {
   "cell_type": "code",
   "execution_count": 263,
   "metadata": {
    "collapsed": true
   },
   "outputs": [],
   "source": [
    "df['Slug_Percent'] = ((df['HR'] * 4) + (df['3B'] * 3) + (df['2B'] * 2) + (df['H'] - df['2B'] - df['3B'] - df['HR'])) / df['AB']"
   ]
  },
  {
   "cell_type": "code",
   "execution_count": 264,
   "metadata": {
    "collapsed": true
   },
   "outputs": [],
   "source": [
    "df['OPS'] = ((df['HR'] * 4) + (df['3B'] * 3) + (df['2B'] * 2) + (df['H'] - df['2B'] - df['3B'] - df['HR']) + df['BB']) / (df['AB'] + df['BB'])  "
   ]
  },
  {
   "cell_type": "code",
   "execution_count": 265,
   "metadata": {
    "collapsed": false
   },
   "outputs": [
    {
     "name": "stdout",
     "output_type": "stream",
     "text": [
      "    playerID nameFirst     nameLast bats throws      debut  finalGame      Af  \\\n",
      "1  aaronha01      Hank        Aaron    R      R 1954-04-13 1976-10-03   429.0   \n",
      "2  aaronto01    Tommie        Aaron    R      R 1962-04-10 1971-09-26   113.0   \n",
      "3   aasedo01       Don         Aase    R      R 1977-07-26 1990-10-03   135.0   \n",
      "6  abadijo01      John       Abadie    R      R 1875-04-26 1875-06-10     3.0   \n",
      "7  abbated01        Ed  Abbaticchio    R      R 1897-09-04 1910-09-15  2368.0   \n",
      "\n",
      "       Gf   HBP    ...     pos__OF  pos__P  pos__SS  debutYear  finalYear  \\\n",
      "1  3020.0  32.0    ...         0.0     0.0      0.0     1954.0     1976.0   \n",
      "2   387.0   0.0    ...         0.0     0.0      0.0     1962.0     1971.0   \n",
      "3   448.0   0.0    ...         0.0     1.0      0.0     1977.0     1990.0   \n",
      "6    12.0   NaN    ...         0.0     0.0      0.0     1875.0     1875.0   \n",
      "7   830.0  33.0    ...         0.0     0.0      0.0     1897.0     1910.0   \n",
      "\n",
      "     YSR       AVE       OBP  Slug_Percent       OPS  \n",
      "1   40.0  0.304998  0.375781      0.554513  0.599884  \n",
      "2   45.0  0.228814  0.293204      0.327331  0.383495  \n",
      "3   26.0  0.000000  0.000000      0.000000  0.000000  \n",
      "6  141.0  0.224490  0.224490      0.224490  0.224490  \n",
      "7  106.0  0.253614  0.318332      0.325230  0.383738  \n",
      "\n",
      "[5 rows x 59 columns]\n"
     ]
    }
   ],
   "source": [
    "print(df.head())"
   ]
  },
  {
   "cell_type": "code",
   "execution_count": 266,
   "metadata": {
    "collapsed": false
   },
   "outputs": [],
   "source": [
    "df = df.join(eras_df,on='playerID',how='inner')"
   ]
  },
  {
   "cell_type": "code",
   "execution_count": 267,
   "metadata": {
    "collapsed": false
   },
   "outputs": [],
   "source": [
    "df_hitters = df[df['pos__P'] == 0]"
   ]
  },
  {
   "cell_type": "code",
   "execution_count": 268,
   "metadata": {
    "collapsed": false
   },
   "outputs": [],
   "source": [
    "df_hitters = df_hitters[(df_hitters['playerID'] != 'bendech01') & (df_hitters['playerID'] != 'clarkjo01') & \n",
    "(df_hitters['playerID'] != 'galvipu01') & (df_hitters['playerID'] != 'griffcl01') & (df_hitters['playerID'] != 'brownmo01') &\n",
    "(df_hitters['playerID'] != 'jossad01') & (df_hitters['playerID'] != 'keefeti01') &\n",
    "(df_hitters['playerID'] != 'mcginjo01') & (df_hitters['playerID'] != 'radboch01')]"
   ]
  },
  {
   "cell_type": "code",
   "execution_count": 269,
   "metadata": {
    "collapsed": false
   },
   "outputs": [
    {
     "name": "stdout",
     "output_type": "stream",
     "text": [
      "7873\n"
     ]
    }
   ],
   "source": [
    "print(len(df_hitters))"
   ]
  },
  {
   "cell_type": "code",
   "execution_count": 270,
   "metadata": {
    "collapsed": false
   },
   "outputs": [
    {
     "name": "stdout",
     "output_type": "stream",
     "text": [
      "        playerID nameFirst     nameLast bats throws      debut  finalGame  \\\n",
      "1      aaronha01      Hank        Aaron    R      R 1954-04-13 1976-10-03   \n",
      "177    alexape01      Pete    Alexander    R      R 1911-04-15 1930-05-28   \n",
      "398    aparilu01      Luis     Aparicio    R      R 1956-04-17 1973-09-28   \n",
      "405    applilu01      Luke      Appling    R      R 1930-09-10 1950-10-01   \n",
      "714    bankser01     Ernie        Banks    R      R 1953-09-17 1971-09-26   \n",
      "1133   benchjo01    Johnny        Bench    R      R 1967-08-28 1983-09-29   \n",
      "1232   berrayo01      Yogi        Berra    L      R 1946-09-22 1965-05-09   \n",
      "1481   blylebe01      Bert     Blyleven    R      R 1970-06-05 1992-10-04   \n",
      "1515   boggswa01      Wade        Boggs    L      R 1982-04-10 1999-08-27   \n",
      "1653   boudrlo01       Lou     Boudreau    R      R 1938-09-09 1952-08-24   \n",
      "1860   brettge01    George        Brett    L      R 1973-08-02 1993-10-03   \n",
      "1935   brocklo01       Lou        Brock    L      L 1961-09-10 1979-09-30   \n",
      "2486   camparo01       Roy   Campanella    R      R 1948-04-20 1957-09-29   \n",
      "2581   carewro01       Rod        Carew    L      R 1967-04-11 1985-10-05   \n",
      "2608   carltst01     Steve      Carlton    L      L 1965-04-12 1988-04-23   \n",
      "2682   cartega01      Gary       Carter    R      R 1974-09-16 1992-09-27   \n",
      "3182    cobbty01        Ty         Cobb    L      R 1905-08-30 1928-09-11   \n",
      "3188   cochrmi01    Mickey     Cochrane    L      R 1925-04-14 1937-05-25   \n",
      "3270   collied01     Eddie      Collins    L      R 1906-09-17 1930-08-05   \n",
      "3707   cronijo01       Joe       Cronin    R      R 1926-04-29 1945-04-19   \n",
      "4085   dawsoan01     Andre       Dawson    R      R 1976-09-11 1996-09-29   \n",
      "4106    deandi01     Dizzy         Dean    R      R 1930-09-28 1947-09-28   \n",
      "4357   dickebi01      Bill       Dickey    L      R 1928-08-15 1946-09-08   \n",
      "4411   dimagjo01       Joe     DiMaggio    R      R 1936-05-03 1951-09-30   \n",
      "4660   drysddo01       Don     Drysdale    R      R 1956-04-17 1969-08-05   \n",
      "4851   eckerde01    Dennis    Eckersley    R      R 1975-04-12 1998-09-26   \n",
      "5264   fellebo01       Bob       Feller    R      R 1936-07-19 1956-09-30   \n",
      "5364   fingero01    Rollie      Fingers    R      R 1968-09-15 1985-09-17   \n",
      "5420    fiskca01   Carlton         Fisk    R      R 1969-09-18 1993-06-22   \n",
      "5575    fordwh01    Whitey         Ford    L      L 1950-07-01 1967-05-21   \n",
      "...          ...       ...          ...  ...    ...        ...        ...   \n",
      "14623  robinfr02     Frank     Robinson    R      R 1956-04-17 1976-09-18   \n",
      "14627  robinja02    Jackie     Robinson    R      R 1947-04-15 1956-09-30   \n",
      "14959  ruffire01       Red      Ruffing    R      R 1924-05-31 1947-09-15   \n",
      "15008   ruthba01      Babe         Ruth    L      L 1914-07-11 1935-05-30   \n",
      "15036   ryanno01     Nolan         Ryan    R      R 1966-09-11 1993-09-22   \n",
      "15153  sandbry01      Ryne     Sandberg    R      R 1981-09-02 1997-09-28   \n",
      "15387  schmimi01      Mike      Schmidt    R      R 1972-09-12 1989-05-28   \n",
      "15533  seaveto01       Tom       Seaver    R      R 1967-04-13 1986-09-19   \n",
      "15867  simmoal01        Al      Simmons    R      R 1924-04-15 1944-07-01   \n",
      "15922  sislege01    George       Sisler    L      L 1915-06-28 1930-09-22   \n",
      "16116  smithoz01     Ozzie        Smith    B      R 1978-04-07 1996-09-29   \n",
      "16176  snidedu01      Duke       Snider    L      R 1947-04-17 1964-10-03   \n",
      "16279  spahnwa01    Warren        Spahn    L      L 1942-04-19 1965-10-01   \n",
      "16292  speaktr01      Tris      Speaker    L      L 1907-09-12 1928-08-30   \n",
      "16435  stargwi01    Willie     Stargell    L      L 1962-09-16 1982-10-03   \n",
      "16822  suttebr01     Bruce       Sutter    R      R 1976-05-09 1988-09-09   \n",
      "16825  suttodo01       Don       Sutton    R      R 1966-04-14 1988-08-09   \n",
      "17080  terrybi01      Bill        Terry    L      L 1923-09-24 1936-09-22   \n",
      "17405  traynpi01       Pie      Traynor    R      R 1920-09-15 1937-08-14   \n",
      "17647  vanceda01     Dazzy        Vance    R      R 1915-04-16 1935-08-14   \n",
      "17869  wagneho01     Honus       Wagner    R      R 1897-07-19 1917-09-17   \n",
      "18008  wanerpa01      Paul        Waner    L      L 1926-04-13 1945-04-26   \n",
      "18437  wilheho01      Hoyt      Wilhelm    R      R 1952-04-18 1972-07-10   \n",
      "18473  willibi01     Billy     Williams    L      R 1959-08-06 1976-10-02   \n",
      "18555  willite01       Ted     Williams    L      R 1939-04-20 1960-09-28   \n",
      "18665  winfida01      Dave     Winfield    R      R 1973-06-19 1995-10-01   \n",
      "18896   wynnea01     Early         Wynn    B      R 1939-09-13 1963-09-13   \n",
      "18916  yastrca01      Carl  Yastrzemski    L      R 1961-04-11 1983-10-02   \n",
      "18971  youngcy01        Cy        Young    R      R 1890-08-06 1911-10-06   \n",
      "19011  yountro01     Robin        Yount    R      R 1974-04-05 1993-10-03   \n",
      "\n",
      "           Af      Gf    HBP   ...          OBP  Slug_Percent       OPS  \\\n",
      "1       429.0  3020.0   32.0   ...     0.375781      0.554513  0.599884   \n",
      "177    1419.0   697.0    2.0   ...     0.241123      0.274586  0.304187   \n",
      "398    8016.0  2583.0   27.0   ...     0.311235      0.342522  0.386650   \n",
      "405    7543.0  2359.0   11.0   ...     0.398799      0.398374  0.475487   \n",
      "714    4355.0  2476.0   70.0   ...     0.328555      0.499522  0.537019   \n",
      "1133   1191.0  2193.0   19.0   ...     0.343783      0.475842  0.530471   \n",
      "1232    819.0  1962.0   52.0   ...     0.345562      0.482197  0.526335   \n",
      "1481    662.0   692.0    2.0   ...     0.140351      0.146341  0.155702   \n",
      "1515   4304.0  2285.0   23.0   ...     0.417485      0.442702  0.516994   \n",
      "1653   4877.0  1618.0   34.0   ...     0.377289      0.414662  0.482930   \n",
      "1860   3984.0  2200.0   33.0   ...     0.371341      0.487390  0.536479   \n",
      "1935    142.0  2507.0   49.0   ...     0.341116      0.410182  0.450645   \n",
      "2486    550.0  1183.0   30.0   ...     0.357535      0.499643  0.555931   \n",
      "2581   3709.0  2321.0   25.0   ...     0.393980      0.429200  0.485435   \n",
      "2608    724.0   741.0   10.0   ...     0.219886      0.259453  0.276705   \n",
      "2682   1247.0  2272.0   68.0   ...     0.333371      0.438715  0.492686   \n",
      "3182    410.0  2954.0   94.0   ...     0.428763      0.511982  0.560041   \n",
      "3188    840.0  1452.0   29.0   ...     0.416362      0.477849  0.552108   \n",
      "3270   7716.0  2701.0   77.0   ...     0.420510      0.428988  0.503756   \n",
      "3707   6052.0  2005.0   34.0   ...     0.387127      0.467872  0.533110   \n",
      "4085    157.0  2323.0  111.0   ...     0.319798      0.482220  0.511221   \n",
      "4106    283.0   317.0    1.0   ...     0.234160      0.301255  0.309917   \n",
      "4357    954.0  1708.0   31.0   ...     0.379335      0.486032  0.535970   \n",
      "4411    153.0  1722.0   46.0   ...     0.394692      0.578801  0.622520   \n",
      "4660    686.0   518.0    5.0   ...     0.226200      0.295124  0.329536   \n",
      "4851    365.0  1071.0    0.0   ...     0.173684      0.198895  0.236842   \n",
      "5264    510.0   570.0    3.0   ...     0.212012      0.211388  0.268452   \n",
      "5364    253.0   944.0    0.0   ...     0.185792      0.222222  0.234973   \n",
      "5420   1075.0  2298.0  143.0   ...     0.333680      0.456715  0.504737   \n",
      "5575    630.0   498.0    3.0   ...     0.255282      0.200391  0.279930   \n",
      "...       ...     ...    ...   ...          ...           ...       ...   \n",
      "14623   333.0  2450.0  198.0   ...     0.381848      0.536978  0.594521   \n",
      "14627  2728.0  1364.0   72.0   ...     0.401994      0.473652  0.542994   \n",
      "14959   677.0   627.0    6.0   ...     0.303835      0.388745  0.417896   \n",
      "15008   569.0  2436.0   43.0   ...     0.471797      0.689807  0.750956   \n",
      "15036   547.0   807.0    0.0   ...     0.148315      0.133803  0.170787   \n",
      "15153  6648.0  2135.0   34.0   ...     0.344085      0.451640  0.497267   \n",
      "15387  5193.0  2399.0   79.0   ...     0.379450      0.527299  0.599554   \n",
      "15533   692.0   656.0    4.0   ...     0.217850      0.209886  0.269852   \n",
      "15867   169.0  2143.0   30.0   ...     0.377854      0.534878  0.565394   \n",
      "15922  1573.0  2036.0   48.0   ...     0.375787      0.468247  0.496968   \n",
      "16116  8375.0  2511.0   33.0   ...     0.337409      0.328225  0.397019   \n",
      "16176   123.0  1918.0   21.0   ...     0.379611      0.539729  0.594688   \n",
      "16279   999.0   750.0    7.0   ...     0.232452      0.286859  0.320956   \n",
      "16292   462.0  2717.0  103.0   ...     0.422858      0.500343  0.559952   \n",
      "16435   486.0  2144.0   78.0   ...     0.357514      0.528573  0.578407   \n",
      "16822   145.0   661.0    1.0   ...     0.146789      0.088235  0.146789   \n",
      "16825   613.0   774.0    6.0   ...     0.180339      0.156573  0.192362   \n",
      "17080  1111.0  1594.0    9.0   ...     0.391960      0.505912  0.544006   \n",
      "17405  3672.0  1914.0   31.0   ...     0.359607      0.435110  0.468310   \n",
      "17647   570.0   442.0    7.0   ...     0.214286      0.197734  0.258095   \n",
      "17869  6781.0  2775.0  125.0   ...     0.384271      0.466155  0.511279   \n",
      "18008   270.0  2361.0   38.0   ...     0.402180      0.473412  0.527867   \n",
      "18437   373.0  1070.0    0.0   ...     0.139738      0.106481  0.157205   \n",
      "18473   219.0  2184.0   43.0   ...     0.361328      0.491872  0.542953   \n",
      "18555   142.0  2152.0   39.0   ...     0.480621      0.633792  0.709880   \n",
      "18665   168.0  2479.0   25.0   ...     0.354039      0.474507  0.526803   \n",
      "18896   670.0   691.0    2.0   ...     0.274255      0.284624  0.339295   \n",
      "18916   775.0  2874.0   40.0   ...     0.380539      0.462045  0.533796   \n",
      "18971  2015.0   911.0   10.0   ...     0.231503      0.281757  0.300888   \n",
      "19011  4850.0  2709.0   48.0   ...     0.343077      0.429688  0.475697   \n",
      "\n",
      "       1993-2009  pre1920  1920-41  1963-76  1942-45  1946-62  1977-92  \n",
      "1            NaN      NaN      NaN      1.0      NaN      1.0      NaN  \n",
      "177          NaN      1.0      1.0      NaN      NaN      NaN      NaN  \n",
      "398          NaN      NaN      NaN      1.0      NaN      1.0      NaN  \n",
      "405          NaN      NaN      1.0      NaN      1.0      1.0      NaN  \n",
      "714          NaN      NaN      NaN      1.0      NaN      1.0      NaN  \n",
      "1133         NaN      NaN      NaN      1.0      NaN      NaN      1.0  \n",
      "1232         NaN      NaN      NaN      1.0      NaN      1.0      NaN  \n",
      "1481         NaN      NaN      NaN      1.0      NaN      NaN      1.0  \n",
      "1515         1.0      NaN      NaN      NaN      NaN      NaN      1.0  \n",
      "1653         NaN      NaN      1.0      NaN      1.0      1.0      NaN  \n",
      "1860         1.0      NaN      NaN      1.0      NaN      NaN      1.0  \n",
      "1935         NaN      NaN      NaN      1.0      NaN      1.0      1.0  \n",
      "2486         NaN      NaN      NaN      NaN      NaN      1.0      NaN  \n",
      "2581         NaN      NaN      NaN      1.0      NaN      NaN      1.0  \n",
      "2608         NaN      NaN      NaN      1.0      NaN      NaN      1.0  \n",
      "2682         NaN      NaN      NaN      1.0      NaN      NaN      1.0  \n",
      "3182         NaN      1.0      1.0      NaN      NaN      NaN      NaN  \n",
      "3188         NaN      NaN      1.0      NaN      NaN      NaN      NaN  \n",
      "3270         NaN      1.0      1.0      NaN      NaN      NaN      NaN  \n",
      "3707         NaN      NaN      1.0      NaN      1.0      NaN      NaN  \n",
      "4085         1.0      NaN      NaN      1.0      NaN      NaN      1.0  \n",
      "4106         NaN      NaN      1.0      NaN      NaN      1.0      NaN  \n",
      "4357         NaN      NaN      1.0      NaN      1.0      1.0      NaN  \n",
      "4411         NaN      NaN      1.0      NaN      1.0      1.0      NaN  \n",
      "4660         NaN      NaN      NaN      1.0      NaN      1.0      NaN  \n",
      "4851         1.0      NaN      NaN      1.0      NaN      NaN      1.0  \n",
      "5264         NaN      NaN      1.0      NaN      1.0      1.0      NaN  \n",
      "5364         NaN      NaN      NaN      1.0      NaN      NaN      1.0  \n",
      "5420         1.0      NaN      NaN      1.0      NaN      NaN      1.0  \n",
      "5575         NaN      NaN      NaN      1.0      NaN      1.0      NaN  \n",
      "...          ...      ...      ...      ...      ...      ...      ...  \n",
      "14623        NaN      NaN      NaN      1.0      NaN      1.0      NaN  \n",
      "14627        NaN      NaN      NaN      NaN      NaN      1.0      NaN  \n",
      "14959        NaN      NaN      1.0      NaN      1.0      1.0      NaN  \n",
      "15008        NaN      1.0      1.0      NaN      NaN      NaN      NaN  \n",
      "15036        1.0      NaN      NaN      1.0      NaN      NaN      1.0  \n",
      "15153        1.0      NaN      NaN      NaN      NaN      NaN      1.0  \n",
      "15387        NaN      NaN      NaN      1.0      NaN      NaN      1.0  \n",
      "15533        NaN      NaN      NaN      1.0      NaN      NaN      1.0  \n",
      "15867        NaN      NaN      1.0      NaN      1.0      NaN      NaN  \n",
      "15922        NaN      1.0      1.0      NaN      NaN      NaN      NaN  \n",
      "16116        1.0      NaN      NaN      NaN      NaN      NaN      1.0  \n",
      "16176        NaN      NaN      NaN      1.0      NaN      1.0      NaN  \n",
      "16279        NaN      NaN      NaN      1.0      1.0      1.0      NaN  \n",
      "16292        NaN      1.0      1.0      NaN      NaN      NaN      NaN  \n",
      "16435        NaN      NaN      NaN      1.0      NaN      1.0      1.0  \n",
      "16822        NaN      NaN      NaN      1.0      NaN      NaN      1.0  \n",
      "16825        NaN      NaN      NaN      1.0      NaN      NaN      1.0  \n",
      "17080        NaN      NaN      1.0      NaN      NaN      NaN      NaN  \n",
      "17405        NaN      NaN      1.0      NaN      NaN      NaN      NaN  \n",
      "17647        NaN      1.0      1.0      NaN      NaN      NaN      NaN  \n",
      "17869        NaN      1.0      NaN      NaN      NaN      NaN      NaN  \n",
      "18008        NaN      NaN      1.0      NaN      1.0      NaN      NaN  \n",
      "18437        NaN      NaN      NaN      1.0      NaN      1.0      NaN  \n",
      "18473        NaN      NaN      NaN      1.0      NaN      1.0      NaN  \n",
      "18555        NaN      NaN      1.0      NaN      1.0      1.0      NaN  \n",
      "18665        1.0      NaN      NaN      1.0      NaN      NaN      1.0  \n",
      "18896        NaN      NaN      1.0      1.0      1.0      1.0      NaN  \n",
      "18916        NaN      NaN      NaN      1.0      NaN      1.0      1.0  \n",
      "18971        NaN      1.0      NaN      NaN      NaN      NaN      NaN  \n",
      "19011        1.0      NaN      NaN      1.0      NaN      NaN      1.0  \n",
      "\n",
      "[105 rows x 66 columns]\n",
      "105\n"
     ]
    }
   ],
   "source": [
    "df_hof = df[df['HoF'] == 1]\n",
    "print(df_hof)\n",
    "print(len(df_hof))"
   ]
  },
  {
   "cell_type": "code",
   "execution_count": 271,
   "metadata": {
    "collapsed": false
   },
   "outputs": [
    {
     "data": {
      "image/png": "[encoded data removed]",
      "text/plain": [
       "<matplotlib.figure.Figure at 0x1e48087c400>"
      ]
     },
     "metadata": {},
     "output_type": "display_data"
    }
   ],
   "source": [
    "import matplotlib.pyplot as plt\n",
    "%matplotlib inline\n",
    "\n",
    "plt.hist(df_hof['G'])\n",
    "plt.show()"
   ]
  },
  {
   "cell_type": "code",
   "execution_count": 272,
   "metadata": {
    "collapsed": false
   },
   "outputs": [
    {
     "name": "stdout",
     "output_type": "stream",
     "text": [
      "Index(['playerID', 'nameFirst', 'nameLast', 'bats', 'throws', 'debut',\n",
      "       'finalGame', 'Af', 'Gf', 'HBP', 'DPf', 'RBI', 'R', 'CS', 'SBfc', 'IBB',\n",
      "       'PBfc', '2B', 'AB', 'POf', 'SH', 'CSfc', 'AS_games', 'SO', 'GSf',\n",
      "       'GIDP', 'H', 'InnOutsf', 'SB', 'BB', 'Years_Played', 'HR', 'G', '3B',\n",
      "       'WPfc', 'Ef', 'HoF', 'Silver Slugger', 'Gold Glove',\n",
      "       'Rookie of the Year', 'Most Valuable Player', 'playerIDmstr', 'bats_R',\n",
      "       'throws_R', 'pos', 'pos__1B', 'pos__2B', 'pos__3B', 'pos__C', 'pos__OF',\n",
      "       'pos__P', 'pos__SS', 'debutYear', 'finalYear', 'YSR', 'AVE', 'OBP',\n",
      "       'Slug_Percent', 'OPS', '1993-2009', 'pre1920', '1920-41', '1963-76',\n",
      "       '1942-45', '1946-62', '1977-92'],\n",
      "      dtype='object')\n"
     ]
    }
   ],
   "source": [
    "print(df.columns)"
   ]
  },
  {
   "cell_type": "code",
   "execution_count": 273,
   "metadata": {
    "collapsed": true
   },
   "outputs": [],
   "source": [
    "numeric_cols = ['Rp', 'SVp', 'RBI', 'BFPp', 'HRp', 'SHOp', 'CSfc', 'SB', 'GSp', 'CS', 'Ef', 'R', 'IPOutsp',\n",
    "       'PBfc', 'BB', 'SBfc', 'Af', '2B', '3B', 'SO',\n",
    "       'HR', 'CGp', 'WPfc', 'Lp', 'G', 'IBB',\n",
    "       'H', 'SOp', 'AB', 'ERp', 'Wp', 'AS_games', 'HoF', 'Gold Glove', 'Rookie of the Year',\n",
    "       'Silver Slugger', 'Most Valuable Player', 'Cy Young Award', 'bats_R',\n",
    "       'throws_R','pos__1B', 'pos__2B',\n",
    "       'pos__3B', 'pos__C', 'pos__OF', 'pos__P', 'pos__SS', 'YSR', 'AVE']"
   ]
  },
  {
   "cell_type": "code",
   "execution_count": 274,
   "metadata": {
    "collapsed": true
   },
   "outputs": [],
   "source": [
    "numeric_cols1 = ['Rp', 'SVp', 'GIDP', 'RBI', 'IBBp', 'BFPp', 'InnOutsf',\n",
    "       'HRp', 'SHOp', 'CSfc', 'SB', 'GSp', 'CS', 'Ef', 'R', 'BKp', 'IPOutsp',\n",
    "       'WPp', 'PBfc', 'BB', 'SBfc', 'Af', 'HBPp', '2B', '3B', 'SFp', 'SO',\n",
    "       'HR', 'DPf', 'POf', 'Gf', 'CGp', 'WPfc', 'Lp', 'Gp', 'SH', 'G', 'IBB',\n",
    "       'H', 'SOp', 'AB', 'ERp', 'Hp', 'GSf', 'SHp', 'HBP', 'BBp', 'GIDPp',\n",
    "       'Wp', 'GFp', 'AS_games', 'HoF', 'Gold Glove', 'Rookie of the Year',\n",
    "       'Silver Slugger', 'Most Valuable Player', 'Cy Young Award', 'bats_R',\n",
    "       'throws_R','pos__1B', 'pos__2B',\n",
    "       'pos__3B', 'pos__C', 'pos__OF', 'pos__P', 'pos__SS', 'YSR', 'AVE']"
   ]
  },
  {
   "cell_type": "code",
   "execution_count": 275,
   "metadata": {
    "collapsed": true
   },
   "outputs": [],
   "source": [
    "num_cols_hitters_w_fielding = ['SB','CS','R','BB','SBfc', 'Af', '2B', '3B','HR',\n",
    "       'WPfc','G', 'IBB', 'H', 'AB', 'AS_games','Gold Glove', 'Rookie of the Year', \n",
    "       'Silver Slugger', 'Most Valuable Player','bats_R',\n",
    "       'throws_R','pos__1B', 'pos__2B',\n",
    "       'pos__3B', 'pos__C', 'pos__OF', 'pos__SS', 'YSR', 'AVE', 'HoF', 'pre1920', '1920-41', '1942-45', '1946-62', '1963-76',\n",
    "       '1977-92', '1993-2009', 'Years_Played', 'OBP', 'Slug_Percent']"
   ]
  },
  {
   "cell_type": "code",
   "execution_count": 276,
   "metadata": {
    "collapsed": false
   },
   "outputs": [],
   "source": [
    "num_cols_hitters = ['SB','CS','R','BB', '2B', '3B','HR', 'RBI',\n",
    "       'G', 'IBB', 'H', 'AB', 'AS_games','Gold Glove', 'Rookie of the Year', \n",
    "       'Silver Slugger', 'Most Valuable Player','bats_R',\n",
    "       'throws_R','pos__1B', 'pos__2B',\n",
    "       'pos__3B', 'pos__C', 'pos__OF', 'pos__SS', 'YSR', 'AVE', 'HoF', 'pre1920', '1920-41', '1942-45', '1946-62', '1963-76',\n",
    "       '1977-92', '1993-2009', 'Years_Played', 'OBP', 'Slug_Percent']\n",
    "data = df_hitters[num_cols_hitters]"
   ]
  },
  {
   "cell_type": "code",
   "execution_count": 278,
   "metadata": {
    "collapsed": false
   },
   "outputs": [
    {
     "name": "stdout",
     "output_type": "stream",
     "text": [
      "Index(['SB', 'CS', 'R', 'BB', '2B', '3B', 'HR', 'RBI', 'G', 'IBB', 'H', 'AB',\n",
      "       'AS_games', 'Gold Glove', 'Rookie of the Year', 'Silver Slugger',\n",
      "       'Most Valuable Player', 'bats_R', 'throws_R', 'pos__1B', 'pos__2B',\n",
      "       'pos__3B', 'pos__C', 'pos__OF', 'pos__SS', 'YSR', 'AVE', 'HoF',\n",
      "       'pre1920', '1920-41', '1942-45', '1946-62', '1963-76', '1977-92',\n",
      "       '1993-2009', 'Years_Played', 'OBP', 'Slug_Percent'],\n",
      "      dtype='object')\n"
     ]
    }
   ],
   "source": [
    "print(data.columns)"
   ]
  },
  {
   "cell_type": "code",
   "execution_count": 277,
   "metadata": {
    "collapsed": false
   },
   "outputs": [
    {
     "name": "stdout",
     "output_type": "stream",
     "text": [
      "[430, 3866, 0, 0, 0, 0, 0, 273, 0, 5168, 0, 0, 7223, 7717, 7812, 7791, 7786, 0, 0, 0, 0, 0, 0, 0, 0, 0, 55, 7809, 4826, 6274, 7267, 6575, 6601, 6332, 7242, 0, 50, 55]\n"
     ]
    }
   ],
   "source": [
    "print(data.isnull().sum(axis=0).tolist())"
   ]
  },
  {
   "cell_type": "code",
   "execution_count": 280,
   "metadata": {
    "collapsed": false
   },
   "outputs": [
    {
     "name": "stdout",
     "output_type": "stream",
     "text": [
      "7873\n"
     ]
    }
   ],
   "source": [
    "print(len(data))"
   ]
  },
  {
   "cell_type": "code",
   "execution_count": 281,
   "metadata": {
    "collapsed": false
   },
   "outputs": [
    {
     "name": "stdout",
     "output_type": "stream",
     "text": [
      "1         NaN\n",
      "2         3.0\n",
      "6         NaN\n",
      "7         NaN\n",
      "11        NaN\n",
      "17        NaN\n",
      "20        NaN\n",
      "27        NaN\n",
      "29       10.0\n",
      "30        NaN\n",
      "34        NaN\n",
      "39        NaN\n",
      "53        NaN\n",
      "57       31.0\n",
      "58        NaN\n",
      "63        NaN\n",
      "66        NaN\n",
      "67        0.0\n",
      "68        NaN\n",
      "71        NaN\n",
      "72        0.0\n",
      "73        NaN\n",
      "74        8.0\n",
      "75        NaN\n",
      "76        NaN\n",
      "83        0.0\n",
      "87        3.0\n",
      "90        NaN\n",
      "91        NaN\n",
      "95        NaN\n",
      "         ... \n",
      "19039     NaN\n",
      "19042     NaN\n",
      "19048     3.0\n",
      "19049     NaN\n",
      "19050     1.0\n",
      "19051     NaN\n",
      "19055     0.0\n",
      "19058     NaN\n",
      "19059     NaN\n",
      "19062     NaN\n",
      "19065     NaN\n",
      "19066     NaN\n",
      "19067     NaN\n",
      "19068     NaN\n",
      "19069     NaN\n",
      "19070     NaN\n",
      "19071     NaN\n",
      "19072    12.0\n",
      "19076     NaN\n",
      "19080     NaN\n",
      "19081     NaN\n",
      "19085     1.0\n",
      "19086    52.0\n",
      "19088     NaN\n",
      "19093     0.0\n",
      "19095     1.0\n",
      "19099     3.0\n",
      "19100     0.0\n",
      "19101     1.0\n",
      "19103     NaN\n",
      "Name: IBB, dtype: float64\n"
     ]
    }
   ],
   "source": [
    "print(data['IBB'])"
   ]
  },
  {
   "cell_type": "code",
   "execution_count": 190,
   "metadata": {
    "collapsed": true
   },
   "outputs": [],
   "source": [
    "data = data.fillna(0)"
   ]
  },
  {
   "cell_type": "code",
   "execution_count": 191,
   "metadata": {
    "collapsed": true
   },
   "outputs": [],
   "source": [
    "data_hof = data[data['HoF'] == 1]"
   ]
  },
  {
   "cell_type": "code",
   "execution_count": 192,
   "metadata": {
    "collapsed": false
   },
   "outputs": [
    {
     "data": {
      "image/png": "[encoded data removed]",
      "text/plain": [
       "<matplotlib.figure.Figure at 0x1e4e82db7f0>"
      ]
     },
     "metadata": {},
     "output_type": "display_data"
    }
   ],
   "source": [
    "plt.hist(data_hof['G'])\n",
    "plt.show()"
   ]
  },
  {
   "cell_type": "code",
   "execution_count": 193,
   "metadata": {
    "collapsed": false
   },
   "outputs": [
    {
     "data": {
      "image/png": "[encoded data removed]",
      "text/plain": [
       "<matplotlib.figure.Figure at 0x1e4e8190a58>"
      ]
     },
     "metadata": {},
     "output_type": "display_data"
    }
   ],
   "source": [
    "plt.hist(data_hof['H'])\n",
    "plt.show()"
   ]
  },
  {
   "cell_type": "code",
   "execution_count": 194,
   "metadata": {
    "collapsed": false
   },
   "outputs": [
    {
     "name": "stdout",
     "output_type": "stream",
     "text": [
      "        SB   CS    R    BB   2B  3B   HR     RBI     G  IBB      ...       \\\n",
      "2486  25.0  0.0  627   533  178  18  242   856.0  1215  0.0      ...        \n",
      "9123  22.0  0.0  971  1011  216  39  369  1015.0  1472  0.0      ...        \n",
      "\n",
      "      pre1920  1920-41  1942-45  1946-62  1963-76  1977-92  1993-2009  \\\n",
      "2486      0.0      0.0      0.0      1.0      0.0      0.0        0.0   \n",
      "9123      0.0      0.0      0.0      1.0      0.0      0.0        0.0   \n",
      "\n",
      "      Years_Played       OBP  Slug_Percent  \n",
      "2486            10  0.357535      0.499643  \n",
      "9123            10  0.396075      0.547935  \n",
      "\n",
      "[2 rows x 38 columns]\n"
     ]
    }
   ],
   "source": [
    "print(data_hof[data_hof['H'] < 1500])"
   ]
  },
  {
   "cell_type": "code",
   "execution_count": 198,
   "metadata": {
    "collapsed": false
   },
   "outputs": [
    {
     "name": "stdout",
     "output_type": "stream",
     "text": [
      "          SB    CS     R    BB   2B  3B   HR     RBI     G  IBB      ...       \\\n",
      "2486    25.0   0.0   627   533  178  18  242   856.0  1215  0.0      ...        \n",
      "3188    64.0  46.0  1041   857  333  64  119   832.0  1482  0.0      ...        \n",
      "6624    58.0   0.0  1051   852  379  71  331  1276.0  1394  0.0      ...        \n",
      "9123    22.0   0.0   971  1011  216  39  369  1015.0  1472  0.0      ...        \n",
      "14627  197.0   0.0   947   740  273  54  137   734.0  1382  0.0      ...        \n",
      "\n",
      "       pre1920  1920-41  1942-45  1946-62  1963-76  1977-92  1993-2009  \\\n",
      "2486       0.0      0.0      0.0      1.0      0.0      0.0        0.0   \n",
      "3188       0.0      1.0      0.0      0.0      0.0      0.0        0.0   \n",
      "6624       0.0      1.0      1.0      1.0      0.0      0.0        0.0   \n",
      "9123       0.0      0.0      0.0      1.0      0.0      0.0        0.0   \n",
      "14627      0.0      0.0      0.0      1.0      0.0      0.0        0.0   \n",
      "\n",
      "       Years_Played       OBP  Slug_Percent  \n",
      "2486             10  0.357535      0.499643  \n",
      "3188             13  0.416362      0.477849  \n",
      "6624             13  0.410256      0.605045  \n",
      "9123             10  0.396075      0.547935  \n",
      "14627            10  0.401994      0.473652  \n",
      "\n",
      "[5 rows x 38 columns]\n"
     ]
    }
   ],
   "source": [
    "print(data_hof[data_hof['G'] < 1500])"
   ]
  },
  {
   "cell_type": "code",
   "execution_count": 222,
   "metadata": {
    "collapsed": false
   },
   "outputs": [
    {
     "name": "stdout",
     "output_type": "stream",
     "text": [
      "playerID                          robinja02\n",
      "nameFirst                            Jackie\n",
      "nameLast                           Robinson\n",
      "bats                                      R\n",
      "throws                                    R\n",
      "debut                   1947-04-15 00:00:00\n",
      "finalGame               1956-09-30 00:00:00\n",
      "Af                                     2728\n",
      "Gf                                     1364\n",
      "HBP                                      72\n",
      "DPf                                     830\n",
      "RBI                                     734\n",
      "R                                       947\n",
      "CS                                      NaN\n",
      "SBfc                                    NaN\n",
      "IBB                                     NaN\n",
      "PBfc                                    NaN\n",
      "2B                                      273\n",
      "AB                                     4877\n",
      "POf                                    4007\n",
      "SH                                      104\n",
      "CSfc                                    NaN\n",
      "AS_games                                  6\n",
      "SO                                      291\n",
      "GSf                                     NaN\n",
      "GIDP                                    113\n",
      "H                                      1518\n",
      "InnOutsf                                NaN\n",
      "SB                                      197\n",
      "BB                                      740\n",
      "                               ...         \n",
      "HoF                                       1\n",
      "Silver Slugger                          NaN\n",
      "Gold Glove                              NaN\n",
      "Rookie of the Year                        1\n",
      "Most Valuable Player                      1\n",
      "playerIDmstr                      robinja02\n",
      "bats_R                                    1\n",
      "throws_R                                  1\n",
      "pos                                      2B\n",
      "pos__1B                                   0\n",
      "pos__2B                                   1\n",
      "pos__3B                                   0\n",
      "pos__C                                    0\n",
      "pos__OF                                   0\n",
      "pos__P                                    0\n",
      "pos__SS                                   0\n",
      "debutYear                              1947\n",
      "finalYear                              1956\n",
      "YSR                                      60\n",
      "AVE                                0.311257\n",
      "OBP                                0.401994\n",
      "Slug_Percent                       0.473652\n",
      "OPS                                0.542994\n",
      "1993-2009                               NaN\n",
      "pre1920                                 NaN\n",
      "1920-41                                 NaN\n",
      "1963-76                                 NaN\n",
      "1942-45                                 NaN\n",
      "1946-62                                   1\n",
      "1977-92                                 NaN\n",
      "Name: 14627, dtype: object\n"
     ]
    }
   ],
   "source": [
    "print(df.loc[14627])"
   ]
  },
  {
   "cell_type": "code",
   "execution_count": 199,
   "metadata": {
    "collapsed": false
   },
   "outputs": [
    {
     "name": "stdout",
     "output_type": "stream",
     "text": [
      "Index(['SB', 'CS', 'R', 'BB', '2B', '3B', 'HR', 'RBI', 'G', 'IBB', 'H', 'AB',\n",
      "       'AS_games', 'Gold Glove', 'Rookie of the Year', 'Silver Slugger',\n",
      "       'Most Valuable Player', 'bats_R', 'throws_R', 'pos__1B', 'pos__2B',\n",
      "       'pos__3B', 'pos__C', 'pos__OF', 'pos__SS', 'YSR', 'AVE', 'HoF',\n",
      "       'pre1920', '1920-41', '1942-45', '1946-62', '1963-76', '1977-92',\n",
      "       '1993-2009', 'Years_Played', 'OBP', 'Slug_Percent'],\n",
      "      dtype='object')\n"
     ]
    }
   ],
   "source": [
    "print(data_hof.columns)"
   ]
  },
  {
   "cell_type": "code",
   "execution_count": 200,
   "metadata": {
    "collapsed": false
   },
   "outputs": [
    {
     "name": "stdout",
     "output_type": "stream",
     "text": [
      "1161\n"
     ]
    }
   ],
   "source": [
    "print(data_hof['H'].min())"
   ]
  },
  {
   "cell_type": "code",
   "execution_count": 201,
   "metadata": {
    "collapsed": true
   },
   "outputs": [],
   "source": [
    "# Split data DataFrame into train and test sets\n",
    "train = data.sample(frac=0.60, random_state=1)\n",
    "test = data.loc[~data.index.isin(train.index)]"
   ]
  },
  {
   "cell_type": "code",
   "execution_count": 202,
   "metadata": {
    "collapsed": false
   },
   "outputs": [],
   "source": [
    "target = data['HoF']\n",
    "features = data.drop('HoF', axis=1)"
   ]
  },
  {
   "cell_type": "code",
   "execution_count": 203,
   "metadata": {
    "collapsed": true
   },
   "outputs": [],
   "source": [
    "train_target_t = train['HoF']\n",
    "train_features_t = train.drop('HoF', axis=1)\n",
    "test_target_t = test['HoF']\n",
    "test_features_t = test.drop('HoF', axis=1)"
   ]
  },
  {
   "cell_type": "code",
   "execution_count": 204,
   "metadata": {
    "collapsed": false
   },
   "outputs": [
    {
     "name": "stdout",
     "output_type": "stream",
     "text": [
      "7873\n"
     ]
    }
   ],
   "source": [
    "print(len(data))"
   ]
  },
  {
   "cell_type": "markdown",
   "metadata": {},
   "source": [
    "## Don't forget to deal with class imbalance."
   ]
  },
  {
   "cell_type": "code",
   "execution_count": 205,
   "metadata": {
    "collapsed": false
   },
   "outputs": [],
   "source": [
    "from sklearn.cross_validation import cross_val_predict, KFold\n",
    "from sklearn.linear_model import LogisticRegression\n",
    "\n",
    "lr = LogisticRegression(class_weight='balanced')\n",
    "kf = KFold(features.shape[0], random_state=1)\n",
    "\n",
    "predictions = cross_val_predict(lr, features, target, cv=kf)\n",
    "predictions = pd.Series(predictions)"
   ]
  },
  {
   "cell_type": "code",
   "execution_count": 206,
   "metadata": {
    "collapsed": true
   },
   "outputs": [],
   "source": [
    "tn_filter = (predictions == 0) & (data['HoF'] == 0)\n",
    "tn = len(predictions[tn_filter])\n",
    "\n",
    "tp_filter = (predictions == 1) & (data['HoF'] == 1)\n",
    "tp = len(predictions[tp_filter])\n",
    "\n",
    "fn_filter = (predictions == 0) & (data['HoF'] == 1)\n",
    "fn = len(predictions[fn_filter])\n",
    "\n",
    "fp_filter = (predictions == 1) & (data['HoF'] == 0)\n",
    "fp = len(predictions[fp_filter])"
   ]
  },
  {
   "cell_type": "code",
   "execution_count": 207,
   "metadata": {
    "collapsed": false
   },
   "outputs": [
    {
     "name": "stdout",
     "output_type": "stream",
     "text": [
      "3142\n",
      "1\n",
      "25\n",
      "57\n",
      "0.017818068146295718\n",
      "0.038461538461538464\n"
     ]
    }
   ],
   "source": [
    "print(tn)\n",
    "print(tp)\n",
    "print(fn)\n",
    "print(fp)\n",
    "fpr = fp / (fp + tn)\n",
    "tpr = tp / (tp + fn)\n",
    "print(fpr)\n",
    "print(tpr)"
   ]
  },
  {
   "cell_type": "code",
   "execution_count": 208,
   "metadata": {
    "collapsed": false
   },
   "outputs": [
    {
     "data": {
      "text/plain": [
       "4724"
      ]
     },
     "execution_count": 208,
     "metadata": {},
     "output_type": "execute_result"
    }
   ],
   "source": [
    "len(train_target_t)"
   ]
  },
  {
   "cell_type": "code",
   "execution_count": 209,
   "metadata": {
    "collapsed": false
   },
   "outputs": [],
   "source": [
    "lr.fit(train_features_t, train_target_t)\n",
    "test_predictions = lr.predict(test_features_t)"
   ]
  },
  {
   "cell_type": "code",
   "execution_count": 210,
   "metadata": {
    "collapsed": false
   },
   "outputs": [],
   "source": [
    "test_predictions = pd.Series(test_predictions)\n",
    "\n",
    "tn_filter = (test_predictions == 0) & (test_target_t == 0)\n",
    "tn = len(test_predictions[tn_filter])\n",
    "\n",
    "tp_filter = (test_predictions == 1) & (test_target_t == 1)\n",
    "tp = len(test_predictions[tp_filter])\n",
    "\n",
    "fn_filter = (test_predictions == 0) & (test_target_t == 1)\n",
    "fn = len(test_predictions[fn_filter])\n",
    "\n",
    "fp_filter = (test_predictions == 1) & (test_target_t == 0)\n",
    "fp = len(test_predictions[fp_filter])"
   ]
  },
  {
   "cell_type": "code",
   "execution_count": 211,
   "metadata": {
    "collapsed": false
   },
   "outputs": [
    {
     "name": "stdout",
     "output_type": "stream",
     "text": [
      "507\n",
      "0\n",
      "3\n",
      "10\n",
      "0.019342359767891684\n",
      "0.0\n"
     ]
    }
   ],
   "source": [
    "print(tn)\n",
    "print(tp)\n",
    "print(fn)\n",
    "print(fp)\n",
    "fpr = fp / (fp + tn)\n",
    "tpr = tp / (tp + fn)\n",
    "print(fpr)\n",
    "print(tpr)"
   ]
  },
  {
   "cell_type": "code",
   "execution_count": 212,
   "metadata": {
    "collapsed": false
   },
   "outputs": [
    {
     "name": "stdout",
     "output_type": "stream",
     "text": [
      "7873\n",
      "14070\n",
      "7873\n"
     ]
    }
   ],
   "source": [
    "print(len(target))\n",
    "print(len(df))\n",
    "print(len(predictions))"
   ]
  },
  {
   "cell_type": "code",
   "execution_count": 213,
   "metadata": {
    "collapsed": true
   },
   "outputs": [],
   "source": [
    "from sklearn.ensemble import RandomForestClassifier\n",
    "\n",
    "rf = RandomForestClassifier(random_state=1, class_weight='balanced')\n",
    "predictions = cross_val_predict(rf, features, target, cv=kf)\n",
    "predictions= pd.Series(predictions)"
   ]
  },
  {
   "cell_type": "code",
   "execution_count": 214,
   "metadata": {
    "collapsed": false
   },
   "outputs": [],
   "source": [
    "tn_filter = (predictions == 0) & (data['HoF'] == 0)\n",
    "tn = len(predictions[tn_filter])\n",
    "\n",
    "tp_filter = (predictions == 1) & (data['HoF'] == 1)\n",
    "tp = len(predictions[tp_filter])\n",
    "\n",
    "fn_filter = (predictions == 0) & (data['HoF'] == 1)\n",
    "fn = len(predictions[fn_filter])\n",
    "\n",
    "fp_filter = (predictions == 1) & (data['HoF'] == 0)\n",
    "fp = len(predictions[fp_filter])"
   ]
  },
  {
   "cell_type": "code",
   "execution_count": 215,
   "metadata": {
    "collapsed": false
   },
   "outputs": [
    {
     "name": "stdout",
     "output_type": "stream",
     "text": [
      "3184\n",
      "0\n",
      "26\n",
      "15\n"
     ]
    }
   ],
   "source": [
    "print(tn)\n",
    "print(tp)\n",
    "print(fn)\n",
    "print(fp)"
   ]
  },
  {
   "cell_type": "code",
   "execution_count": 216,
   "metadata": {
    "collapsed": true
   },
   "outputs": [],
   "source": [
    "fpr = fp / (fp + tn)\n",
    "tpr = tp / (tp + fn)"
   ]
  },
  {
   "cell_type": "code",
   "execution_count": 217,
   "metadata": {
    "collapsed": false
   },
   "outputs": [
    {
     "name": "stdout",
     "output_type": "stream",
     "text": [
      "0.004688965301656768\n",
      "0.0\n"
     ]
    }
   ],
   "source": [
    "print(fpr)\n",
    "print(tpr)"
   ]
  }
 ],
 "metadata": {
  "anaconda-cloud": {},
  "kernelspec": {
   "display_name": "Python [conda root]",
   "language": "python",
   "name": "conda-root-py"
  },
  "language_info": {
   "codemirror_mode": {
    "name": "ipython",
    "version": 3
   },
   "file_extension": ".py",
   "mimetype": "text/x-python",
   "name": "python",
   "nbconvert_exporter": "python",
   "pygments_lexer": "ipython3",
   "version": "3.5.2"
  }
 },
 "nbformat": 4,
 "nbformat_minor": 1
}
