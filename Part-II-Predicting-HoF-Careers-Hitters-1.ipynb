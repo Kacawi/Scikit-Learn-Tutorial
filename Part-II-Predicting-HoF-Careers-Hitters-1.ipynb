{
 "cells": [
  {
   "cell_type": "markdown",
   "metadata": {},
   "source": [
    "## Part II: Predicting Hall of Fame Careers"
   ]
  },
  {
   "cell_type": "markdown",
   "metadata": {},
   "source": [
    "# Try the model without using cross val predict.  Split into train and test like in part I to get the model right... then figure out cross val predict."
   ]
  },
  {
   "cell_type": "code",
   "execution_count": 262,
   "metadata": {
    "collapsed": true
   },
   "outputs": [],
   "source": [
    "# Connecting to SQLite Database\n",
    "import pandas as pd\n",
    "import sqlite3\n",
    "conn = sqlite3.connect(\"lahman2016.sqlite\")"
   ]
  },
  {
   "cell_type": "code",
   "execution_count": 263,
   "metadata": {
    "collapsed": true
   },
   "outputs": [],
   "source": [
    "queryMaster = 'select playerID,nameFirst,nameLast,bats,throws,debut,finalGame from Master;'\n",
    "queryFielding = 'select * from Fielding;'\n",
    "queryAwards = 'select playerID,awardID,yearID from AwardsPlayers;'\n",
    "queryAllStar = 'select playerID, YearID from AllstarFull;'\n",
    "queryHOF = '''select playerID,yearid,votedBy,needed_note from HallofFame where (votedBy == \"BBWAA\" or votedBy == \"Run Off\") \n",
    "and inducted == \"Y\" and category == \"Player\";'''"
   ]
  },
  {
   "cell_type": "code",
   "execution_count": 264,
   "metadata": {
    "collapsed": false
   },
   "outputs": [],
   "source": [
    "batting_df = pd.read_csv('Batting.csv')"
   ]
  },
  {
   "cell_type": "code",
   "execution_count": 265,
   "metadata": {
    "collapsed": false
   },
   "outputs": [],
   "source": [
    "master = conn.execute(queryMaster).fetchall()\n",
    "master_df = pd.DataFrame(master)\n",
    "fielding = conn.execute(queryFielding).fetchall()\n",
    "fielding_df = pd.DataFrame(fielding)\n",
    "awards = conn.execute(queryAwards).fetchall()\n",
    "awards_df = pd.DataFrame(awards)\n",
    "allstar = conn.execute(queryAllStar).fetchall()\n",
    "allstar_df = pd.DataFrame(allstar)\n",
    "hof = conn.execute(queryHOF).fetchall()\n",
    "hof_df = pd.DataFrame(hof)"
   ]
  },
  {
   "cell_type": "code",
   "execution_count": 266,
   "metadata": {
    "collapsed": false
   },
   "outputs": [],
   "source": [
    "master_cols = ['playerID','nameFirst','nameLast','bats','throws','debut','finalGame']\n",
    "master_df.columns = master_cols\n",
    "\n",
    "fielding_cols = ['playerID','yearID','stint','teamID','lgID','Pos','G','GS','InnOuts','PO','A','E','DP','PB','WP','SB','CS','ZR']\n",
    "fielding_df.columns = fielding_cols\n",
    "\n",
    "awards_cols = ['playerID','awardID','yearID']\n",
    "awards_df.columns = awards_cols\n",
    "\n",
    "allstar_cols = ['playerID','YearID']\n",
    "allstar_df.columns = allstar_cols\n",
    "\n",
    "hof_cols = ['playerID','yearid','votedBy','needed_note']\n",
    "hof_df.columns = hof_cols"
   ]
  },
  {
   "cell_type": "code",
   "execution_count": 267,
   "metadata": {
    "collapsed": false
   },
   "outputs": [
    {
     "name": "stdout",
     "output_type": "stream",
     "text": [
      "    playerID  yearID  stint teamID lgID   G   AB   R   H  2B  ...    RBI   SB  \\\n",
      "0  abercda01    1871      1    TRO  NaN   1    4   0   0   0  ...    0.0  0.0   \n",
      "1   addybo01    1871      1    RC1  NaN  25  118  30  32   6  ...   13.0  8.0   \n",
      "2  allisar01    1871      1    CL1  NaN  29  137  28  40   4  ...   19.0  3.0   \n",
      "3  allisdo01    1871      1    WS3  NaN  27  133  28  44  10  ...   27.0  1.0   \n",
      "4  ansonca01    1871      1    RC1  NaN  25  120  29  39  11  ...   16.0  6.0   \n",
      "\n",
      "    CS  BB   SO  IBB  HBP  SH  SF  GIDP  \n",
      "0  0.0   0  0.0  NaN  NaN NaN NaN   NaN  \n",
      "1  1.0   4  0.0  NaN  NaN NaN NaN   NaN  \n",
      "2  1.0   2  5.0  NaN  NaN NaN NaN   NaN  \n",
      "3  1.0   0  2.0  NaN  NaN NaN NaN   NaN  \n",
      "4  2.0   2  1.0  NaN  NaN NaN NaN   NaN  \n",
      "\n",
      "[5 rows x 22 columns]\n"
     ]
    }
   ],
   "source": [
    "print(batting_df.head())"
   ]
  },
  {
   "cell_type": "code",
   "execution_count": 268,
   "metadata": {
    "collapsed": false
   },
   "outputs": [],
   "source": [
    "player_stats = {}\n",
    "years_played = {}\n",
    "for i, row in batting_df.iterrows():\n",
    "    playerID = row['playerID']\n",
    "    G = row['G']\n",
    "    AB = row['AB']\n",
    "    R = row['R']\n",
    "    H = row['H']\n",
    "    twoB = row['2B']\n",
    "    threeB = row['3B']\n",
    "    HR = row['HR']\n",
    "    RBI = row['RBI']\n",
    "    SB = row['SB']\n",
    "    CS = row['CS']\n",
    "    BB = row['BB']\n",
    "    SO = row['SO']\n",
    "    IBB = row['IBB']\n",
    "    HBP = row['HBP']\n",
    "    SH = row['SH']\n",
    "    SF = row['SF']\n",
    "    GIDP = row['GIDP']\n",
    "    yearID = row['yearID']\n",
    "    if playerID in player_stats:\n",
    "        player_stats[playerID]['G'] = player_stats[playerID]['G'] + G\n",
    "        player_stats[playerID]['AB'] = player_stats[playerID]['AB'] + AB\n",
    "        player_stats[playerID]['R'] = player_stats[playerID]['R'] + R\n",
    "        player_stats[playerID]['H'] = player_stats[playerID]['H'] + H\n",
    "        player_stats[playerID]['2B'] = player_stats[playerID]['2B'] + twoB\n",
    "        player_stats[playerID]['3B'] = player_stats[playerID]['3B'] + threeB\n",
    "        player_stats[playerID]['HR'] = player_stats[playerID]['HR'] + HR\n",
    "        player_stats[playerID]['RBI'] = player_stats[playerID]['RBI'] + RBI\n",
    "        player_stats[playerID]['SB'] = player_stats[playerID]['SB'] + SB\n",
    "        player_stats[playerID]['CS'] = player_stats[playerID]['CS'] + CS\n",
    "        player_stats[playerID]['BB'] = player_stats[playerID]['BB'] + BB\n",
    "        player_stats[playerID]['SO'] = player_stats[playerID]['SO'] + SO\n",
    "        player_stats[playerID]['IBB'] = player_stats[playerID]['IBB'] + IBB\n",
    "        player_stats[playerID]['HBP'] = player_stats[playerID]['HBP'] + HBP\n",
    "        player_stats[playerID]['SH'] = player_stats[playerID]['SH'] + SH\n",
    "        player_stats[playerID]['SF'] = player_stats[playerID]['SF'] + SF\n",
    "        player_stats[playerID]['GIDP'] = player_stats[playerID]['GIDP'] + GIDP\n",
    "        years_played[playerID].append(yearID)        \n",
    "    else:\n",
    "        player_stats[playerID] = {}\n",
    "        player_stats[playerID]['G'] = G\n",
    "        player_stats[playerID]['AB'] = AB\n",
    "        player_stats[playerID]['R'] = R\n",
    "        player_stats[playerID]['H'] = H\n",
    "        player_stats[playerID]['2B'] = twoB\n",
    "        player_stats[playerID]['3B'] = threeB\n",
    "        player_stats[playerID]['HR'] = HR\n",
    "        player_stats[playerID]['RBI'] = RBI\n",
    "        player_stats[playerID]['SB'] = SB\n",
    "        player_stats[playerID]['CS'] = CS\n",
    "        player_stats[playerID]['BB'] = BB\n",
    "        player_stats[playerID]['SO'] = SO\n",
    "        player_stats[playerID]['IBB'] = IBB\n",
    "        player_stats[playerID]['HBP'] = HBP\n",
    "        player_stats[playerID]['SH'] = SH\n",
    "        player_stats[playerID]['SF'] = SF\n",
    "        player_stats[playerID]['GIDP'] = GIDP\n",
    "        years_played[playerID] = []\n",
    "        years_played[playerID].append(yearID)"
   ]
  },
  {
   "cell_type": "code",
   "execution_count": 269,
   "metadata": {
    "collapsed": true
   },
   "outputs": [],
   "source": [
    "eras_played = {}\n",
    "for k, v in years_played.items():\n",
    "    eras_played[k] = {}\n",
    "    player_stats[k]['Years_Played'] = len(list(set(v)))\n",
    "    for year in v:\n",
    "        if year < 1920:\n",
    "            eras_played[k]['pre1920'] = 1\n",
    "        elif year >= 1920 and year <= 1941:\n",
    "            eras_played[k]['1920-41'] = 1\n",
    "        elif year >= 1942 and year <= 1945:\n",
    "            eras_played[k]['1942-45'] = 1\n",
    "        elif year >= 1946 and year <= 1962:\n",
    "            eras_played[k]['1946-62'] = 1\n",
    "        elif year >= 1963 and year <= 1976:\n",
    "            eras_played[k]['1963-76'] = 1\n",
    "        elif year >= 1977 and year <= 1992:\n",
    "            eras_played[k]['1977-92'] = 1\n",
    "        elif year >= 1993 and year <= 2009:\n",
    "            eras_played[k]['1993-2009'] = 1"
   ]
  },
  {
   "cell_type": "code",
   "execution_count": 270,
   "metadata": {
    "collapsed": true
   },
   "outputs": [],
   "source": [
    "eras_df = pd.DataFrame.from_dict(eras_played, orient='index')"
   ]
  },
  {
   "cell_type": "markdown",
   "metadata": {},
   "source": [
    "## Add in years played and eras played in."
   ]
  },
  {
   "cell_type": "code",
   "execution_count": 271,
   "metadata": {
    "collapsed": true
   },
   "outputs": [],
   "source": [
    "fielder_list = []\n",
    "for i, row in fielding_df.iterrows():\n",
    "    playerID = row['playerID']\n",
    "    Gf = row['G']\n",
    "    GSf = row['GS']\n",
    "    InnOutsf = row['InnOuts']\n",
    "    POf = row['PO']\n",
    "    Af = row['A']\n",
    "    Ef = row['E']\n",
    "    DPf = row['DP']\n",
    "    PBfc = row['PB']\n",
    "    WPfc = row['WP']\n",
    "    SBfc = row['SB']\n",
    "    CSfc = row['CS']\n",
    "    if playerID in player_stats and playerID in fielder_list:\n",
    "        player_stats[playerID]['Gf'] = player_stats[playerID]['Gf'] + Gf\n",
    "        player_stats[playerID]['GSf'] = player_stats[playerID]['GSf'] + GSf\n",
    "        player_stats[playerID]['InnOutsf'] = player_stats[playerID]['InnOutsf'] + InnOutsf\n",
    "        player_stats[playerID]['POf'] = player_stats[playerID]['POf'] + POf\n",
    "        player_stats[playerID]['Af'] = player_stats[playerID]['Af'] + Af\n",
    "        player_stats[playerID]['Ef'] = player_stats[playerID]['Ef'] + Ef\n",
    "        player_stats[playerID]['DPf'] = player_stats[playerID]['DPf'] + DPf\n",
    "        player_stats[playerID]['PBfc'] = player_stats[playerID]['PBfc'] + PBfc\n",
    "        player_stats[playerID]['WPfc'] = player_stats[playerID]['WPfc'] + WPfc\n",
    "        player_stats[playerID]['SBfc'] = player_stats[playerID]['SBfc'] + SBfc\n",
    "        player_stats[playerID]['CSfc'] = player_stats[playerID]['CSfc'] + CSfc\n",
    "    else:\n",
    "        fielder_list.append(playerID)\n",
    "        player_stats[playerID]['Gf'] = Gf\n",
    "        player_stats[playerID]['GSf'] = GSf\n",
    "        player_stats[playerID]['InnOutsf'] = InnOutsf\n",
    "        player_stats[playerID]['POf'] = POf\n",
    "        player_stats[playerID]['Af'] = Af\n",
    "        player_stats[playerID]['Ef'] = Ef\n",
    "        player_stats[playerID]['DPf'] = DPf\n",
    "        player_stats[playerID]['PBfc'] = PBfc\n",
    "        player_stats[playerID]['WPfc'] = WPfc\n",
    "        player_stats[playerID]['SBfc'] = SBfc\n",
    "        player_stats[playerID]['CSfc'] = CSfc"
   ]
  },
  {
   "cell_type": "code",
   "execution_count": 272,
   "metadata": {
    "collapsed": false
   },
   "outputs": [
    {
     "name": "stdout",
     "output_type": "stream",
     "text": [
      "['Pitching Triple Crown' 'Triple Crown' 'Baseball Magazine All-Star'\n",
      " 'Most Valuable Player' 'TSN All-Star' 'TSN Guide MVP'\n",
      " 'TSN Major League Player of the Year' 'TSN Pitcher of the Year'\n",
      " 'TSN Player of the Year' 'Rookie of the Year' 'Babe Ruth Award'\n",
      " 'Lou Gehrig Memorial Award' 'World Series MVP' 'Cy Young Award'\n",
      " 'Gold Glove' 'TSN Fireman of the Year' 'All-Star Game MVP' 'Hutch Award'\n",
      " 'Roberto Clemente Award' 'Rolaids Relief Man Award' 'NLCS MVP' 'ALCS MVP'\n",
      " 'Silver Slugger' 'Branch Rickey Award' 'Hank Aaron Award'\n",
      " 'TSN Reliever of the Year' 'Comeback Player of the Year'\n",
      " 'Outstanding DH Award' 'Reliever of the Year Award']\n"
     ]
    }
   ],
   "source": [
    "print(awards_df['awardID'].unique())"
   ]
  },
  {
   "cell_type": "code",
   "execution_count": 273,
   "metadata": {
    "collapsed": false
   },
   "outputs": [],
   "source": [
    "mvp_df = awards_df[awards_df['awardID'] == 'Most Valuable Player']\n",
    "roy_df = awards_df[awards_df['awardID'] == 'Rookie of the Year']\n",
    "gg_df = awards_df[awards_df['awardID'] == 'Gold Glove']\n",
    "ss_df = awards_df[awards_df['awardID'] == 'Silver Slugger']\n",
    "\n",
    "awards_list = [mvp_df,roy_df,gg_df,ss_df]"
   ]
  },
  {
   "cell_type": "code",
   "execution_count": 274,
   "metadata": {
    "collapsed": false
   },
   "outputs": [
    {
     "name": "stdout",
     "output_type": "stream",
     "text": [
      "       playerID             awardID  yearID\n",
      "1796  robinja02  Rookie of the Year    1947\n",
      "1845   darkal01  Rookie of the Year    1948\n",
      "1899  sievero01  Rookie of the Year    1949\n",
      "1900  newcodo01  Rookie of the Year    1949\n",
      "1953  dropowa01  Rookie of the Year    1950\n"
     ]
    }
   ],
   "source": [
    "print(awards_list[1].head())"
   ]
  },
  {
   "cell_type": "code",
   "execution_count": 275,
   "metadata": {
    "collapsed": false
   },
   "outputs": [],
   "source": [
    "mvp_list = []\n",
    "roy_list = []\n",
    "gg_list = []\n",
    "ss_list = []\n",
    "lists = [mvp_list,roy_list,gg_list,ss_list]"
   ]
  },
  {
   "cell_type": "code",
   "execution_count": 276,
   "metadata": {
    "collapsed": false
   },
   "outputs": [],
   "source": [
    "for index, v in enumerate(awards_list):\n",
    "    for i, row in v.iterrows():\n",
    "        playerID = row['playerID']\n",
    "        award = row['awardID']\n",
    "        if playerID in player_stats and playerID in lists[index]:\n",
    "            player_stats[playerID][award] += 1\n",
    "        else:\n",
    "            lists[index].append(playerID)\n",
    "            player_stats[playerID][award] = 1"
   ]
  },
  {
   "cell_type": "code",
   "execution_count": 277,
   "metadata": {
    "collapsed": true
   },
   "outputs": [],
   "source": [
    "allstar_list = []\n",
    "for i, row in allstar_df.iterrows():\n",
    "    playerID = row['playerID']\n",
    "    if playerID in player_stats and playerID in allstar_list:\n",
    "        player_stats[playerID]['AS_games'] += 1\n",
    "    else:\n",
    "        allstar_list.append(playerID)\n",
    "        player_stats[playerID]['AS_games'] = 1"
   ]
  },
  {
   "cell_type": "code",
   "execution_count": 278,
   "metadata": {
    "collapsed": false
   },
   "outputs": [],
   "source": [
    "for i, row in hof_df.iterrows():\n",
    "    playerID = row['playerID']\n",
    "    if playerID in player_stats:\n",
    "        player_stats[playerID]['HoF'] = 1"
   ]
  },
  {
   "cell_type": "code",
   "execution_count": 279,
   "metadata": {
    "collapsed": false
   },
   "outputs": [
    {
     "name": "stdout",
     "output_type": "stream",
     "text": [
      "122\n",
      "19105\n"
     ]
    }
   ],
   "source": [
    "print(len(hof_df))\n",
    "print(len(master_df))"
   ]
  },
  {
   "cell_type": "code",
   "execution_count": 280,
   "metadata": {
    "collapsed": false
   },
   "outputs": [
    {
     "name": "stdout",
     "output_type": "stream",
     "text": [
      "{'kelleha01': {'SO': 14.0, 'Ef': 8.0, 'PBfc': nan, 'SBfc': nan, 'GIDP': nan, 'IBB': nan, 'GSf': nan, 'WPfc': nan, 'SH': 11.0, 'Gf': 146, 'HR': 0, 'POf': 29, '3B': 0, 'AB': 232, 'CS': 0.0, 'RBI': 25.0, 'InnOutsf': nan, 'SB': 0.0, 'R': 16, 'HBP': 1.0, 'BB': 5, 'Af': 114.0, '2B': 9, 'SF': nan, 'G': 147, 'CSfc': nan, 'DPf': 8.0, 'Years_Played': 6, 'H': 50}, 'hermije01': {'SO': 517.0, 'Ef': 27.0, 'PBfc': nan, 'SBfc': nan, 'GIDP': 40.0, 'IBB': 16.0, 'GSf': 520.0, 'WPfc': nan, 'SH': 4.0, 'Gf': 565, 'HR': 65, 'POf': 1068, '3B': 9, 'AB': 2012, 'CS': 8.0, 'RBI': 250.0, 'InnOutsf': 13600.0, 'SB': 22.0, 'R': 248, 'HBP': 21.0, 'BB': 216, 'Af': 20.0, '2B': 104, 'SF': 8.0, 'G': 632, 'CSfc': nan, 'DPf': 2.0, 'Years_Played': 8, 'H': 517}}\n"
     ]
    }
   ],
   "source": [
    "print(dict(list(player_stats.items())[0:2]))"
   ]
  },
  {
   "cell_type": "code",
   "execution_count": 281,
   "metadata": {
    "collapsed": false
   },
   "outputs": [],
   "source": [
    "stats_df = pd.DataFrame.from_dict(player_stats, orient='index')"
   ]
  },
  {
   "cell_type": "code",
   "execution_count": 282,
   "metadata": {
    "collapsed": false
   },
   "outputs": [],
   "source": [
    "stats_df['playerID'] = stats_df.index"
   ]
  },
  {
   "cell_type": "code",
   "execution_count": 283,
   "metadata": {
    "collapsed": false
   },
   "outputs": [
    {
     "name": "stdout",
     "output_type": "stream",
     "text": [
      "               SO     Ef  PBfc  SBfc   GIDP  IBB     GSf  WPfc    SH      Gf  \\\n",
      "aardsda01     2.0    3.0   NaN   NaN    0.0  0.0     0.0   NaN   1.0   331.0   \n",
      "aaronha01  1383.0  144.0   NaN   NaN  328.0  NaN  2977.0   NaN  21.0  3020.0   \n",
      "aaronto01   145.0   22.0   NaN   NaN   36.0  3.0   206.0   NaN   9.0   387.0   \n",
      "aasedo01      3.0   13.0   NaN   NaN    0.0  0.0    91.0   NaN   0.0   448.0   \n",
      "abadan01      5.0    1.0   NaN   NaN    1.0  0.0     4.0   NaN   0.0     9.0   \n",
      "\n",
      "             ...        DPf  Years_Played     H  Most Valuable Player  \\\n",
      "aardsda01    ...        2.0             9     0                   NaN   \n",
      "aaronha01    ...      218.0            23  3771                   1.0   \n",
      "aaronto01    ...      124.0             7   216                   NaN   \n",
      "aasedo01     ...       10.0            13     0                   NaN   \n",
      "abadan01     ...        3.0             3     2                   NaN   \n",
      "\n",
      "           AS_games  HoF  Rookie of the Year  Silver Slugger  Gold Glove  \\\n",
      "aardsda01       NaN  NaN                 NaN             NaN         NaN   \n",
      "aaronha01      25.0  1.0                 NaN             NaN         3.0   \n",
      "aaronto01       NaN  NaN                 NaN             NaN         NaN   \n",
      "aasedo01        1.0  NaN                 NaN             NaN         NaN   \n",
      "abadan01        NaN  NaN                 NaN             NaN         NaN   \n",
      "\n",
      "            playerID  \n",
      "aardsda01  aardsda01  \n",
      "aaronha01  aaronha01  \n",
      "aaronto01  aaronto01  \n",
      "aasedo01    aasedo01  \n",
      "abadan01    abadan01  \n",
      "\n",
      "[5 rows x 36 columns]\n"
     ]
    }
   ],
   "source": [
    "print(stats_df.head())"
   ]
  },
  {
   "cell_type": "code",
   "execution_count": 284,
   "metadata": {
    "collapsed": false
   },
   "outputs": [
    {
     "name": "stdout",
     "output_type": "stream",
     "text": [
      "    playerID nameFirst nameLast bats throws       debut   finalGame\n",
      "0  aardsda01     David  Aardsma    R      R  2004-04-06  2015-08-23\n",
      "1  aaronha01      Hank    Aaron    R      R  1954-04-13  1976-10-03\n",
      "2  aaronto01    Tommie    Aaron    R      R  1962-04-10  1971-09-26\n",
      "3   aasedo01       Don     Aase    R      R  1977-07-26  1990-10-03\n",
      "4   abadan01      Andy     Abad    L      L  2001-09-10  2006-04-13\n"
     ]
    }
   ],
   "source": [
    "print(master_df.head())"
   ]
  },
  {
   "cell_type": "code",
   "execution_count": 285,
   "metadata": {
    "collapsed": false
   },
   "outputs": [],
   "source": [
    "master_df = master_df.join(stats_df,on='playerID',how='inner',rsuffix='mstr')"
   ]
  },
  {
   "cell_type": "code",
   "execution_count": 286,
   "metadata": {
    "collapsed": false
   },
   "outputs": [],
   "source": [
    "def bats_throws(col):\n",
    "    if col == \"R\":\n",
    "        return 1\n",
    "    else:\n",
    "        return 0\n",
    "        \n",
    "master_df['bats_R'] = master_df['bats'].apply(bats_throws)\n",
    "master_df['throws_R'] = master_df['throws'].apply(bats_throws)"
   ]
  },
  {
   "cell_type": "code",
   "execution_count": 287,
   "metadata": {
    "collapsed": false
   },
   "outputs": [],
   "source": [
    "pos_list = []\n",
    "pos_dict = {}\n",
    "for i, row in fielding_df.iterrows():\n",
    "    playerID = row['playerID']\n",
    "    games = row['G']\n",
    "    pos = row['Pos']\n",
    "    if playerID in pos_dict:\n",
    "        if pos in pos_dict[playerID]:\n",
    "            pos_dict[playerID][pos] = pos_dict[playerID][pos] + games\n",
    "        else:\n",
    "            pos_dict[playerID][pos] = games\n",
    "    else:\n",
    "        pos_dict[playerID] = {}\n",
    "        pos_dict[playerID][pos] = games"
   ]
  },
  {
   "cell_type": "code",
   "execution_count": 288,
   "metadata": {
    "collapsed": false
   },
   "outputs": [],
   "source": [
    "primary_pos_dict = {}\n",
    "player_list = []\n",
    "for k, v in pos_dict.items():\n",
    "    playerID = k\n",
    "    primary_pos_dict[playerID] = {}\n",
    "    primary_pos_dict[playerID]['game_count'] = 0\n",
    "    primary_pos_dict[playerID]['game_count2'] = 0\n",
    "    primary_pos_dict[playerID]['pos'] = ''\n",
    "    for key, val in v.items():      \n",
    "        if val > primary_pos_dict[playerID]['game_count']:\n",
    "            primary_pos_dict[playerID]['pos2'] = primary_pos_dict[playerID]['pos']\n",
    "            primary_pos_dict[playerID]['pos'] = key\n",
    "            primary_pos_dict[playerID]['game_count2'] = primary_pos_dict[playerID]['game_count']\n",
    "            primary_pos_dict[playerID]['game_count'] = val"
   ]
  },
  {
   "cell_type": "code",
   "execution_count": 289,
   "metadata": {
    "collapsed": true
   },
   "outputs": [],
   "source": [
    "primary_pos_df = pd.DataFrame.from_dict(primary_pos_dict, orient='index')"
   ]
  },
  {
   "cell_type": "code",
   "execution_count": 290,
   "metadata": {
    "collapsed": false
   },
   "outputs": [],
   "source": [
    "primary_pos_df = primary_pos_df.drop(['game_count','game_count2'], axis=1)"
   ]
  },
  {
   "cell_type": "code",
   "execution_count": 291,
   "metadata": {
    "collapsed": false
   },
   "outputs": [],
   "source": [
    "primary_pos_df = primary_pos_df[primary_pos_df['pos'] != 'P']"
   ]
  },
  {
   "cell_type": "code",
   "execution_count": 292,
   "metadata": {
    "collapsed": false
   },
   "outputs": [
    {
     "name": "stdout",
     "output_type": "stream",
     "text": [
      "          pos2 pos\n",
      "coreyfr01    P  3B\n",
      "yeagejo01    P  3B\n"
     ]
    }
   ],
   "source": [
    "print(primary_pos_df[primary_pos_df['pos2'] == 'P'])"
   ]
  },
  {
   "cell_type": "code",
   "execution_count": 293,
   "metadata": {
    "collapsed": false
   },
   "outputs": [],
   "source": [
    "master_df = master_df.join(primary_pos_df,on='playerID',how='right')"
   ]
  },
  {
   "cell_type": "code",
   "execution_count": 294,
   "metadata": {
    "collapsed": false
   },
   "outputs": [],
   "source": [
    "dummy_df = pd.get_dummies(master_df['pos'], prefix='pos_')\n",
    "master_df = pd.concat([master_df, dummy_df], axis=1)"
   ]
  },
  {
   "cell_type": "code",
   "execution_count": 295,
   "metadata": {
    "collapsed": false
   },
   "outputs": [
    {
     "name": "stdout",
     "output_type": "stream",
     "text": [
      "Index(['playerID', 'nameFirst', 'nameLast', 'bats', 'throws', 'debut',\n",
      "       'finalGame', 'SO', 'Ef', 'PBfc', 'SBfc', 'GIDP', 'IBB', 'GSf', 'WPfc',\n",
      "       'SH', 'Gf', 'HR', 'POf', '3B', 'AB', 'CS', 'RBI', 'InnOutsf', 'SB', 'R',\n",
      "       'HBP', 'BB', 'Af', '2B', 'SF', 'G', 'CSfc', 'DPf', 'Years_Played', 'H',\n",
      "       'Most Valuable Player', 'AS_games', 'HoF', 'Rookie of the Year',\n",
      "       'Silver Slugger', 'Gold Glove', 'playerIDmstr', 'bats_R', 'throws_R',\n",
      "       'pos2', 'pos', 'pos__1B', 'pos__2B', 'pos__3B', 'pos__C', 'pos__OF',\n",
      "       'pos__SS'],\n",
      "      dtype='object')\n"
     ]
    }
   ],
   "source": [
    "print(master_df.columns)"
   ]
  },
  {
   "cell_type": "code",
   "execution_count": 296,
   "metadata": {
    "collapsed": false
   },
   "outputs": [],
   "source": [
    "# Eliminating unnecessary columns\n",
    "df = master_df.drop(['nameFirst', 'nameLast', 'CS', 'IBB', 'bats', 'throws','GIDP','GSf','Ef','CSfc', 'POf','Gf', 'Af', 'PBfc', 'WPfc','InnOutsf', 'SBfc','DPf', 'SH', 'SO','playerIDmstr', 'pos'], axis=1)"
   ]
  },
  {
   "cell_type": "code",
   "execution_count": 297,
   "metadata": {
    "collapsed": true
   },
   "outputs": [],
   "source": [
    "from datetime import datetime\n",
    "df['debut'] =  pd.to_datetime(df['debut'])\n",
    "df['finalGame'] = pd.to_datetime(df['finalGame'])"
   ]
  },
  {
   "cell_type": "code",
   "execution_count": 298,
   "metadata": {
    "collapsed": false
   },
   "outputs": [],
   "source": [
    "df['debutYear'] = pd.to_numeric(df['debut'].dt.strftime('%Y'), errors='coerce')\n",
    "df['finalYear'] = pd.to_numeric(df['finalGame'].dt.strftime('%Y'), errors='coerce')"
   ]
  },
  {
   "cell_type": "code",
   "execution_count": 299,
   "metadata": {
    "collapsed": false
   },
   "outputs": [],
   "source": [
    "df = df.join(eras_df,on='playerID',how='inner')"
   ]
  },
  {
   "cell_type": "code",
   "execution_count": 300,
   "metadata": {
    "collapsed": false
   },
   "outputs": [
    {
     "name": "stdout",
     "output_type": "stream",
     "text": [
      "Index(['playerID', 'debut', 'finalGame', 'HR', '3B', 'AB', 'RBI', 'SB', 'R',\n",
      "       'HBP', 'BB', '2B', 'SF', 'G', 'Years_Played', 'H',\n",
      "       'Most Valuable Player', 'AS_games', 'HoF', 'Rookie of the Year',\n",
      "       'Silver Slugger', 'Gold Glove', 'bats_R', 'throws_R', 'pos2', 'pos__1B',\n",
      "       'pos__2B', 'pos__3B', 'pos__C', 'pos__OF', 'pos__SS', 'debutYear',\n",
      "       'finalYear', '1920-41', '1946-62', '1993-2009', '1963-76', '1977-92',\n",
      "       'pre1920', '1942-45'],\n",
      "      dtype='object')\n"
     ]
    }
   ],
   "source": [
    "print(df.columns)"
   ]
  },
  {
   "cell_type": "code",
   "execution_count": 301,
   "metadata": {
    "collapsed": false
   },
   "outputs": [
    {
     "name": "stdout",
     "output_type": "stream",
     "text": [
      "[0, 5, 5, 0, 0, 0, 275, 425, 0, 839, 0, 0, 5142, 0, 0, 0, 9239, 8394, 9281, 9267, 9110, 9080, 0, 0, 0, 0, 0, 0, 0, 0, 0, 5, 5, 7741, 8058, 7301, 8076, 7628, 6295, 8743]\n"
     ]
    }
   ],
   "source": [
    "print(df.isnull().sum(axis=0).tolist())"
   ]
  },
  {
   "cell_type": "code",
   "execution_count": 302,
   "metadata": {
    "collapsed": true
   },
   "outputs": [],
   "source": [
    "fill_cols = ['AS_games', 'Silver Slugger', 'Rookie of the Year', 'Gold Glove', 'Most Valuable Player', 'HoF',\n",
    "'1977-92', 'pre1920', '1942-45', '1946-62', '1963-76', '1920-41', '1993-2009', 'HBP', 'SB', 'SF', 'RBI']\n",
    "\n",
    "for col in fill_cols:\n",
    "    df[col] = df[col].fillna(0)"
   ]
  },
  {
   "cell_type": "code",
   "execution_count": 303,
   "metadata": {
    "collapsed": false
   },
   "outputs": [
    {
     "name": "stdout",
     "output_type": "stream",
     "text": [
      "[0, 5, 5, 0, 0, 0, 0, 0, 0, 0, 0, 0, 0, 0, 0, 0, 0, 0, 0, 0, 0, 0, 0, 0, 0, 0, 0, 0, 0, 0, 0, 5, 5, 0, 0, 0, 0, 0, 0, 0]\n"
     ]
    }
   ],
   "source": [
    "print(df.isnull().sum(axis=0).tolist())"
   ]
  },
  {
   "cell_type": "code",
   "execution_count": 304,
   "metadata": {
    "collapsed": false
   },
   "outputs": [],
   "source": [
    "# Eliminating rows with null values\n",
    "df = df.dropna()"
   ]
  },
  {
   "cell_type": "code",
   "execution_count": 305,
   "metadata": {
    "collapsed": false
   },
   "outputs": [
    {
     "name": "stdout",
     "output_type": "stream",
     "text": [
      "[0, 0, 0, 0, 0, 0, 0, 0, 0, 0, 0, 0, 0, 0, 0, 0, 0, 0, 0, 0, 0, 0, 0, 0, 0, 0, 0, 0, 0, 0, 0, 0, 0, 0, 0, 0, 0, 0, 0, 0]\n"
     ]
    }
   ],
   "source": [
    "print(df.isnull().sum(axis=0).tolist())"
   ]
  },
  {
   "cell_type": "code",
   "execution_count": 306,
   "metadata": {
    "collapsed": false
   },
   "outputs": [
    {
     "name": "stdout",
     "output_type": "stream",
     "text": [
      "81\n"
     ]
    }
   ],
   "source": [
    "df_hof = df[df['HoF'] == 1]\n",
    "print(len(df_hof))"
   ]
  },
  {
   "cell_type": "code",
   "execution_count": 307,
   "metadata": {
    "collapsed": false
   },
   "outputs": [],
   "source": [
    "df['YSR'] = 2016 - df['finalYear']"
   ]
  },
  {
   "cell_type": "code",
   "execution_count": 308,
   "metadata": {
    "collapsed": true
   },
   "outputs": [],
   "source": [
    "df = df[df['YSR'] > 15]"
   ]
  },
  {
   "cell_type": "code",
   "execution_count": 309,
   "metadata": {
    "collapsed": true
   },
   "outputs": [],
   "source": [
    "df['AVE'] = df['H'] / df['AB']"
   ]
  },
  {
   "cell_type": "code",
   "execution_count": 310,
   "metadata": {
    "collapsed": true
   },
   "outputs": [],
   "source": [
    "df['OBP'] = (df['H'] + df['BB']) / (df['AB'] + df['BB'])"
   ]
  },
  {
   "cell_type": "code",
   "execution_count": 311,
   "metadata": {
    "collapsed": true
   },
   "outputs": [],
   "source": [
    "df['Slug_Percent'] = ((df['HR'] * 4) + (df['3B'] * 3) + (df['2B'] * 2) + (df['H'] - df['2B'] - df['3B'] - df['HR'])) / df['AB']"
   ]
  },
  {
   "cell_type": "code",
   "execution_count": 312,
   "metadata": {
    "collapsed": true
   },
   "outputs": [],
   "source": [
    "hr = df['HR'] * 4\n",
    "triple = df['3B'] * 3\n",
    "double = df['2B'] * 2\n",
    "single = ((df['H'] - df['2B']) - df['3B']) - df['HR']\n",
    "df['OPS'] = ((df['H'] + df['BB'] + df['HBP']) / (df['AB'] + df['BB'] + df['SF'] + df['HBP'])) + ((single + double + triple + hr)/ df['AB'])"
   ]
  },
  {
   "cell_type": "code",
   "execution_count": 313,
   "metadata": {
    "collapsed": false
   },
   "outputs": [
    {
     "name": "stdout",
     "output_type": "stream",
     "text": [
      "    playerID      debut  finalGame   HR  3B     AB     RBI     SB     R   HBP  \\\n",
      "1  aaronha01 1954-04-13 1976-10-03  755  98  12364  2297.0  240.0  2174  32.0   \n",
      "2  aaronto01 1962-04-10 1971-09-26   13   6    944    94.0    9.0   102   0.0   \n",
      "6  abadijo01 1875-04-26 1875-06-10    0   0     49     5.0    1.0     4   0.0   \n",
      "7  abbated01 1897-09-04 1910-09-15   11  43   3044   324.0  142.0   355  33.0   \n",
      "9  abbeych01 1893-08-16 1897-08-19   19  46   1751   280.0   93.0   307  23.0   \n",
      "\n",
      "     ...     1993-2009  1963-76  1977-92  pre1920  1942-45    YSR       AVE  \\\n",
      "1    ...           0.0      1.0      0.0      0.0      0.0   40.0  0.304998   \n",
      "2    ...           0.0      1.0      0.0      0.0      0.0   45.0  0.228814   \n",
      "6    ...           0.0      0.0      0.0      1.0      0.0  141.0  0.224490   \n",
      "7    ...           0.0      0.0      0.0      1.0      0.0  106.0  0.253614   \n",
      "9    ...           0.0      0.0      0.0      1.0      0.0  119.0  0.280982   \n",
      "\n",
      "        OBP  Slug_Percent       OPS  \n",
      "1  0.375781      0.554513  0.928462  \n",
      "2  0.293204      0.327331  0.618836  \n",
      "6  0.224490      0.224490  0.448980  \n",
      "7  0.318332      0.325230  0.650245  \n",
      "9  0.343587      0.404340  0.755706  \n",
      "\n",
      "[5 rows x 45 columns]\n"
     ]
    }
   ],
   "source": [
    "print(df.head())"
   ]
  },
  {
   "cell_type": "code",
   "execution_count": 314,
   "metadata": {
    "collapsed": false
   },
   "outputs": [],
   "source": [
    "df_hitters = df\n",
    "df_hitters = df_hitters[(df_hitters['playerID'] != 'johnswa01') & (df_hitters['playerID'] != 'lemonbo01') & \n",
    "(df_hitters['playerID'] != 'lyonste01') & (df_hitters['playerID'] != 'mathech01') & (df_hitters['playerID'] != 'ruffire01') &\n",
    "(df_hitters['playerID'] != 'alexape01')]"
   ]
  },
  {
   "cell_type": "code",
   "execution_count": 315,
   "metadata": {
    "collapsed": false
   },
   "outputs": [
    {
     "name": "stdout",
     "output_type": "stream",
     "text": [
      "7939\n"
     ]
    }
   ],
   "source": [
    "print(len(df_hitters))"
   ]
  },
  {
   "cell_type": "code",
   "execution_count": 316,
   "metadata": {
    "collapsed": false
   },
   "outputs": [
    {
     "data": {
      "image/png": "[encoded data removed]",
      "text/plain": [
       "<matplotlib.figure.Figure at 0x1614530ecf8>"
      ]
     },
     "metadata": {},
     "output_type": "display_data"
    }
   ],
   "source": [
    "import matplotlib.pyplot as plt\n",
    "%matplotlib inline\n",
    "\n",
    "plt.hist(df_hof['G'])\n",
    "plt.show()"
   ]
  },
  {
   "cell_type": "code",
   "execution_count": 317,
   "metadata": {
    "collapsed": false
   },
   "outputs": [
    {
     "name": "stdout",
     "output_type": "stream",
     "text": [
      "Index(['playerID', 'debut', 'finalGame', 'HR', '3B', 'AB', 'RBI', 'SB', 'R',\n",
      "       'HBP', 'BB', '2B', 'SF', 'G', 'Years_Played', 'H',\n",
      "       'Most Valuable Player', 'AS_games', 'HoF', 'Rookie of the Year',\n",
      "       'Silver Slugger', 'Gold Glove', 'bats_R', 'throws_R', 'pos2', 'pos__1B',\n",
      "       'pos__2B', 'pos__3B', 'pos__C', 'pos__OF', 'pos__SS', 'debutYear',\n",
      "       'finalYear', '1920-41', '1946-62', '1993-2009', '1963-76', '1977-92',\n",
      "       'pre1920', '1942-45', 'YSR', 'AVE', 'OBP', 'Slug_Percent', 'OPS'],\n",
      "      dtype='object')\n"
     ]
    }
   ],
   "source": [
    "print(df.columns)"
   ]
  },
  {
   "cell_type": "code",
   "execution_count": 318,
   "metadata": {
    "collapsed": false
   },
   "outputs": [],
   "source": [
    "num_cols_hitters = ['SB','R','BB', '2B', '3B','HR', 'RBI',\n",
    "       'G', 'H', 'AB', 'AS_games','Gold Glove', 'Rookie of the Year', \n",
    "       'Silver Slugger', 'Most Valuable Player','bats_R',\n",
    "       'throws_R','pos__1B', 'pos__2B',\n",
    "       'pos__3B', 'pos__C', 'pos__OF', 'pos__SS', 'YSR', 'AVE', 'HoF', 'pre1920', '1920-41', '1942-45', '1946-62', '1963-76',\n",
    "       '1977-92', '1993-2009', 'Years_Played', 'OBP', 'Slug_Percent', 'OPS']\n",
    "data = df_hitters[num_cols_hitters]"
   ]
  },
  {
   "cell_type": "code",
   "execution_count": 319,
   "metadata": {
    "collapsed": false
   },
   "outputs": [
    {
     "name": "stdout",
     "output_type": "stream",
     "text": [
      "Index(['SB', 'R', 'BB', '2B', '3B', 'HR', 'RBI', 'G', 'H', 'AB', 'AS_games',\n",
      "       'Gold Glove', 'Rookie of the Year', 'Silver Slugger',\n",
      "       'Most Valuable Player', 'bats_R', 'throws_R', 'pos__1B', 'pos__2B',\n",
      "       'pos__3B', 'pos__C', 'pos__OF', 'pos__SS', 'YSR', 'AVE', 'HoF',\n",
      "       'pre1920', '1920-41', '1942-45', '1946-62', '1963-76', '1977-92',\n",
      "       '1993-2009', 'Years_Played', 'OBP', 'Slug_Percent', 'OPS'],\n",
      "      dtype='object')\n"
     ]
    }
   ],
   "source": [
    "print(data.columns)"
   ]
  },
  {
   "cell_type": "code",
   "execution_count": 320,
   "metadata": {
    "collapsed": false
   },
   "outputs": [
    {
     "name": "stdout",
     "output_type": "stream",
     "text": [
      "[0, 0, 0, 0, 0, 0, 0, 0, 0, 0, 0, 0, 0, 0, 0, 0, 0, 0, 0, 0, 0, 0, 0, 0, 55, 0, 0, 0, 0, 0, 0, 0, 0, 0, 50, 55, 55]\n"
     ]
    }
   ],
   "source": [
    "print(data.isnull().sum(axis=0).tolist())"
   ]
  },
  {
   "cell_type": "code",
   "execution_count": 321,
   "metadata": {
    "collapsed": true
   },
   "outputs": [],
   "source": [
    "# Eliminating rows with null values\n",
    "data = data.dropna()"
   ]
  },
  {
   "cell_type": "code",
   "execution_count": 322,
   "metadata": {
    "collapsed": false
   },
   "outputs": [
    {
     "name": "stdout",
     "output_type": "stream",
     "text": [
      "7884\n"
     ]
    }
   ],
   "source": [
    "print(len(data))"
   ]
  },
  {
   "cell_type": "code",
   "execution_count": 323,
   "metadata": {
    "collapsed": false
   },
   "outputs": [
    {
     "name": "stdout",
     "output_type": "stream",
     "text": [
      "69\n"
     ]
    }
   ],
   "source": [
    "data_hof = data[data['HoF'] == 1]\n",
    "print(len(data_hof))"
   ]
  },
  {
   "cell_type": "code",
   "execution_count": 324,
   "metadata": {
    "collapsed": false
   },
   "outputs": [
    {
     "data": {
      "image/png": "[encoded data removed]",
      "text/plain": [
       "<matplotlib.figure.Figure at 0x16157128748>"
      ]
     },
     "metadata": {},
     "output_type": "display_data"
    }
   ],
   "source": [
    "plt.hist(data_hof['G'])\n",
    "plt.show()"
   ]
  },
  {
   "cell_type": "code",
   "execution_count": 325,
   "metadata": {
    "collapsed": false
   },
   "outputs": [
    {
     "data": {
      "image/png": "[encoded data removed]",
      "text/plain": [
       "<matplotlib.figure.Figure at 0x16144f3a1d0>"
      ]
     },
     "metadata": {},
     "output_type": "display_data"
    }
   ],
   "source": [
    "plt.hist(data_hof['H'])\n",
    "plt.show()"
   ]
  },
  {
   "cell_type": "code",
   "execution_count": 326,
   "metadata": {
    "collapsed": false
   },
   "outputs": [
    {
     "name": "stdout",
     "output_type": "stream",
     "text": [
      "        SB    R    BB   2B  3B   HR     RBI     G     H    AB    ...     \\\n",
      "2486  25.0  627   533  178  18  242   856.0  1215  1161  4205    ...      \n",
      "9123  22.0  971  1011  216  39  369  1015.0  1472  1451  5205    ...      \n",
      "\n",
      "      1920-41  1942-45  1946-62  1963-76  1977-92  1993-2009  Years_Played  \\\n",
      "2486      0.0      0.0      1.0      0.0      0.0        0.0            10   \n",
      "9123      0.0      0.0      1.0      0.0      0.0        0.0            10   \n",
      "\n",
      "           OBP  Slug_Percent       OPS  \n",
      "2486  0.357535      0.499643  0.861220  \n",
      "9123  0.396075      0.547935  0.946332  \n",
      "\n",
      "[2 rows x 37 columns]\n"
     ]
    }
   ],
   "source": [
    "print(data_hof[data_hof['H'] < 1500])"
   ]
  },
  {
   "cell_type": "code",
   "execution_count": 327,
   "metadata": {
    "collapsed": false
   },
   "outputs": [
    {
     "name": "stdout",
     "output_type": "stream",
     "text": [
      "734.0\n"
     ]
    }
   ],
   "source": [
    "print(data_hof['RBI'].min())"
   ]
  },
  {
   "cell_type": "code",
   "execution_count": 328,
   "metadata": {
    "collapsed": false
   },
   "outputs": [
    {
     "name": "stdout",
     "output_type": "stream",
     "text": [
      "playerID                          cochrmi01\n",
      "debut                   1925-04-14 00:00:00\n",
      "finalGame               1937-05-25 00:00:00\n",
      "HR                                      119\n",
      "3B                                       64\n",
      "AB                                     5169\n",
      "RBI                                     832\n",
      "SB                                       64\n",
      "R                                      1041\n",
      "HBP                                      29\n",
      "BB                                      857\n",
      "2B                                      333\n",
      "SF                                        0\n",
      "G                                      1482\n",
      "Years_Played                             13\n",
      "H                                      1652\n",
      "Most Valuable Player                      2\n",
      "AS_games                                  2\n",
      "HoF                                       1\n",
      "Rookie of the Year                        0\n",
      "Silver Slugger                            0\n",
      "Gold Glove                                0\n",
      "bats_R                                    0\n",
      "throws_R                                  1\n",
      "pos2                                       \n",
      "pos__1B                                   0\n",
      "pos__2B                                   0\n",
      "pos__3B                                   0\n",
      "pos__C                                    1\n",
      "pos__OF                                   0\n",
      "pos__SS                                   0\n",
      "debutYear                              1925\n",
      "finalYear                              1937\n",
      "1920-41                                   1\n",
      "1946-62                                   0\n",
      "1993-2009                                 0\n",
      "1963-76                                   0\n",
      "1977-92                                   0\n",
      "pre1920                                   0\n",
      "1942-45                                   0\n",
      "YSR                                      79\n",
      "AVE                                0.319598\n",
      "OBP                                0.416362\n",
      "Slug_Percent                       0.477849\n",
      "OPS                                0.897006\n",
      "Name: 3188, dtype: object\n"
     ]
    }
   ],
   "source": [
    "print(df.loc[3188])"
   ]
  },
  {
   "cell_type": "code",
   "execution_count": 329,
   "metadata": {
    "collapsed": false
   },
   "outputs": [
    {
     "name": "stdout",
     "output_type": "stream",
     "text": [
      "          SB     R    BB   2B  3B   HR     RBI     G     H    AB    ...     \\\n",
      "2486    25.0   627   533  178  18  242   856.0  1215  1161  4205    ...      \n",
      "3188    64.0  1041   857  333  64  119   832.0  1482  1652  5169    ...      \n",
      "6624    58.0  1051   852  379  71  331  1276.0  1394  1628  5193    ...      \n",
      "9123    22.0   971  1011  216  39  369  1015.0  1472  1451  5205    ...      \n",
      "14627  197.0   947   740  273  54  137   734.0  1382  1518  4877    ...      \n",
      "\n",
      "       1920-41  1942-45  1946-62  1963-76  1977-92  1993-2009  Years_Played  \\\n",
      "2486       0.0      0.0      1.0      0.0      0.0        0.0            10   \n",
      "3188       1.0      0.0      0.0      0.0      0.0        0.0            13   \n",
      "6624       1.0      1.0      1.0      0.0      0.0        0.0            13   \n",
      "9123       0.0      0.0      1.0      0.0      0.0        0.0            10   \n",
      "14627      0.0      0.0      1.0      0.0      0.0        0.0            10   \n",
      "\n",
      "            OBP  Slug_Percent       OPS  \n",
      "2486   0.357535      0.499643  0.861220  \n",
      "3188   0.416362      0.477849  0.897006  \n",
      "6624   0.410256      0.605045  1.016858  \n",
      "9123   0.396075      0.547935  0.946332  \n",
      "14627  0.401994      0.473652  0.883214  \n",
      "\n",
      "[5 rows x 37 columns]\n"
     ]
    }
   ],
   "source": [
    "print(data_hof[data_hof['G'] < 1500])"
   ]
  },
  {
   "cell_type": "code",
   "execution_count": 330,
   "metadata": {
    "collapsed": false
   },
   "outputs": [
    {
     "name": "stdout",
     "output_type": "stream",
     "text": [
      "Index(['SB', 'R', 'BB', '2B', '3B', 'HR', 'RBI', 'G', 'H', 'AB', 'AS_games',\n",
      "       'Gold Glove', 'Rookie of the Year', 'Silver Slugger',\n",
      "       'Most Valuable Player', 'bats_R', 'throws_R', 'pos__1B', 'pos__2B',\n",
      "       'pos__3B', 'pos__C', 'pos__OF', 'pos__SS', 'YSR', 'AVE', 'HoF',\n",
      "       'pre1920', '1920-41', '1942-45', '1946-62', '1963-76', '1977-92',\n",
      "       '1993-2009', 'Years_Played', 'OBP', 'Slug_Percent', 'OPS'],\n",
      "      dtype='object')\n"
     ]
    }
   ],
   "source": [
    "print(data_hof.columns)"
   ]
  },
  {
   "cell_type": "code",
   "execution_count": 331,
   "metadata": {
    "collapsed": false
   },
   "outputs": [
    {
     "name": "stdout",
     "output_type": "stream",
     "text": [
      "1161\n"
     ]
    }
   ],
   "source": [
    "print(data_hof['H'].min())"
   ]
  },
  {
   "cell_type": "code",
   "execution_count": 332,
   "metadata": {
    "collapsed": false
   },
   "outputs": [],
   "source": [
    "target = data['HoF']\n",
    "features = data.drop('HoF', axis=1)"
   ]
  },
  {
   "cell_type": "code",
   "execution_count": 333,
   "metadata": {
    "collapsed": false
   },
   "outputs": [
    {
     "name": "stdout",
     "output_type": "stream",
     "text": [
      "7884\n"
     ]
    }
   ],
   "source": [
    "print(len(data))"
   ]
  },
  {
   "cell_type": "markdown",
   "metadata": {},
   "source": [
    "## Don't forget to deal with class imbalance."
   ]
  },
  {
   "cell_type": "code",
   "execution_count": 334,
   "metadata": {
    "collapsed": false
   },
   "outputs": [],
   "source": [
    "from sklearn.cross_validation import cross_val_predict, KFold\n",
    "from sklearn.linear_model import LogisticRegression\n",
    "\n",
    "lr = LogisticRegression(class_weight='balanced')\n",
    "kf = KFold(features.shape[0], random_state=1)\n",
    "\n",
    "predictions_lr = cross_val_predict(lr, features, target, cv=kf)\n",
    "predictions_lr = pd.Series(predictions_lr)"
   ]
  },
  {
   "cell_type": "code",
   "execution_count": 335,
   "metadata": {
    "collapsed": true
   },
   "outputs": [],
   "source": [
    "np_predictions_lr = predictions_lr.as_matrix()\n",
    "np_target = data['HoF'].as_matrix()"
   ]
  },
  {
   "cell_type": "code",
   "execution_count": 336,
   "metadata": {
    "collapsed": false
   },
   "outputs": [],
   "source": [
    "tn_filter_lr = (np_predictions_lr == 0) & (np_target == 0)\n",
    "tn_lr = len(np_predictions_lr[tn_filter_lr])\n",
    "\n",
    "tp_filter_lr = (np_predictions_lr == 1) & (np_target == 1)\n",
    "tp_lr = len(np_predictions_lr[tp_filter_lr])\n",
    "\n",
    "fn_filter_lr = (np_predictions_lr == 0) & (np_target == 1)\n",
    "fn_lr = len(np_predictions_lr[fn_filter_lr])\n",
    "\n",
    "fp_filter_lr = (np_predictions_lr == 1) & (np_target == 0)\n",
    "fp_lr = len(np_predictions_lr[fp_filter_lr])"
   ]
  },
  {
   "cell_type": "code",
   "execution_count": 345,
   "metadata": {
    "collapsed": false
   },
   "outputs": [
    {
     "name": "stdout",
     "output_type": "stream",
     "text": [
      "7730\n",
      "59\n",
      "10\n",
      "85\n",
      "0.855072463768116\n",
      "0.010876519513755598\n",
      "0.9891234804862444\n",
      "0.14492753623188406\n"
     ]
    }
   ],
   "source": [
    "print(tn_lr)\n",
    "print(tp_lr)\n",
    "print(fn_lr)\n",
    "print(fp_lr)\n",
    "tnr_lr = tn_lr / (tn_lr + fp_lr)\n",
    "tpr_lr = tp_lr / (tp_lr + fn_lr)\n",
    "fnr_lr = fn_lr / (fn_lr + tp_lr)\n",
    "fpr_lr = fp_lr / (fp_lr + tn_lr)\n",
    "\n",
    "\n",
    "print(tpr_lr)\n",
    "print(fpr_lr)\n",
    "\n",
    "print(tnr_lr)\n",
    "print(fnr_lr)"
   ]
  },
  {
   "cell_type": "code",
   "execution_count": 346,
   "metadata": {
    "collapsed": false
   },
   "outputs": [],
   "source": [
    "from sklearn.ensemble import RandomForestClassifier\n",
    "\n",
    "rf = RandomForestClassifier(random_state=1, class_weight='balanced')\n",
    "predictions_rf = cross_val_predict(rf, features, target, cv=kf)\n",
    "predictions_rf = pd.Series(predictions_rf)"
   ]
  },
  {
   "cell_type": "code",
   "execution_count": 347,
   "metadata": {
    "collapsed": false
   },
   "outputs": [
    {
     "name": "stdout",
     "output_type": "stream",
     "text": [
      "7884\n",
      "7884\n"
     ]
    }
   ],
   "source": [
    "print(len(predictions_rf))\n",
    "print(len(data['HoF']))"
   ]
  },
  {
   "cell_type": "code",
   "execution_count": 348,
   "metadata": {
    "collapsed": true
   },
   "outputs": [],
   "source": [
    "np_predictions_rf = predictions_rf.as_matrix()"
   ]
  },
  {
   "cell_type": "code",
   "execution_count": 349,
   "metadata": {
    "collapsed": false
   },
   "outputs": [],
   "source": [
    "tn_filter_rf = (np_predictions_rf == 0) & (np_target == 0)\n",
    "tn_rf = len(np_predictions_rf[tn_filter_rf])\n",
    "\n",
    "tp_filter_rf = (np_predictions_rf == 1) & (np_target == 1)\n",
    "tp_rf = len(np_predictions_rf[tp_filter_rf])\n",
    "\n",
    "fn_filter_rf = (np_predictions_rf == 0) & (np_target == 1)\n",
    "fn_rf = len(np_predictions_rf[fn_filter_rf])\n",
    "\n",
    "fp_filter_rf = (np_predictions_rf == 1) & (np_target == 0)\n",
    "fp_rf = len(np_predictions_rf[fp_filter_rf])"
   ]
  },
  {
   "cell_type": "code",
   "execution_count": 350,
   "metadata": {
    "collapsed": false
   },
   "outputs": [
    {
     "name": "stdout",
     "output_type": "stream",
     "text": [
      "7806\n",
      "31\n",
      "38\n",
      "9\n"
     ]
    }
   ],
   "source": [
    "print(tn_rf)\n",
    "print(tp_rf)\n",
    "print(fn_rf)\n",
    "print(fp_rf)"
   ]
  },
  {
   "cell_type": "code",
   "execution_count": 351,
   "metadata": {
    "collapsed": true
   },
   "outputs": [],
   "source": [
    "tnr_rf = tn_rf / (tn_rf + fp_rf)\n",
    "tpr_rf = tp_rf / (tp_rf + fn_rf)\n",
    "fnr_rf = fn_rf / (fn_rf + tp_rf)\n",
    "fpr_rf = fp_rf / (fp_rf + tn_rf)"
   ]
  },
  {
   "cell_type": "code",
   "execution_count": 352,
   "metadata": {
    "collapsed": false
   },
   "outputs": [
    {
     "name": "stdout",
     "output_type": "stream",
     "text": [
      "0.4492753623188406\n",
      "0.0011516314779270633\n",
      "0.9988483685220729\n",
      "0.5507246376811594\n"
     ]
    }
   ],
   "source": [
    "print(tpr_rf)\n",
    "print(fpr_rf)\n",
    "\n",
    "print(tnr_rf)\n",
    "print(fnr_rf)"
   ]
  }
 ],
 "metadata": {
  "anaconda-cloud": {},
  "kernelspec": {
   "display_name": "Python [conda root]",
   "language": "python",
   "name": "conda-root-py"
  },
  "language_info": {
   "codemirror_mode": {
    "name": "ipython",
    "version": 3
   },
   "file_extension": ".py",
   "mimetype": "text/x-python",
   "name": "python",
   "nbconvert_exporter": "python",
   "pygments_lexer": "ipython3",
   "version": "3.5.2"
  }
 },
 "nbformat": 4,
 "nbformat_minor": 1
}
