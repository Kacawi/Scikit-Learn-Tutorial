{
 "cells": [
  {
   "cell_type": "markdown",
   "metadata": {},
   "source": [
    "## Part II: Predicting Hall of Fame Careers"
   ]
  },
  {
   "cell_type": "markdown",
   "metadata": {},
   "source": [
    "# Try the model without using cross val predict.  Split into train and test like in part I to get the model right... then figure out cross val predict."
   ]
  },
  {
   "cell_type": "code",
   "execution_count": 2697,
   "metadata": {
    "collapsed": true
   },
   "outputs": [],
   "source": [
    "# Connecting to SQLite Database\n",
    "import pandas as pd\n",
    "import sqlite3\n",
    "conn = sqlite3.connect(\"lahman2016.sqlite\")"
   ]
  },
  {
   "cell_type": "code",
   "execution_count": 2698,
   "metadata": {
    "collapsed": true
   },
   "outputs": [],
   "source": [
    "queryMaster = 'select playerID,nameFirst,nameLast,bats,throws,debut,finalGame from Master;'\n",
    "queryFielding = 'select * from Fielding;'\n",
    "queryAwards = 'select playerID,awardID,yearID from AwardsPlayers;'\n",
    "queryAllStar = 'select playerID, YearID from AllstarFull;'\n",
    "queryHOF = '''select playerID,yearid,votedBy,needed_note from HallofFame where \n",
    "inducted == \"Y\" and category == \"Player\";'''"
   ]
  },
  {
   "cell_type": "code",
   "execution_count": 2699,
   "metadata": {
    "collapsed": false
   },
   "outputs": [],
   "source": [
    "batting_df = pd.read_csv('Batting.csv')"
   ]
  },
  {
   "cell_type": "code",
   "execution_count": 2700,
   "metadata": {
    "collapsed": false
   },
   "outputs": [],
   "source": [
    "master = conn.execute(queryMaster).fetchall()\n",
    "master_df = pd.DataFrame(master)\n",
    "fielding = conn.execute(queryFielding).fetchall()\n",
    "fielding_df = pd.DataFrame(fielding)\n",
    "awards = conn.execute(queryAwards).fetchall()\n",
    "awards_df = pd.DataFrame(awards)\n",
    "allstar = conn.execute(queryAllStar).fetchall()\n",
    "allstar_df = pd.DataFrame(allstar)\n",
    "hof = conn.execute(queryHOF).fetchall()\n",
    "hof_df = pd.DataFrame(hof)"
   ]
  },
  {
   "cell_type": "code",
   "execution_count": 2701,
   "metadata": {
    "collapsed": false
   },
   "outputs": [],
   "source": [
    "master_cols = ['playerID','nameFirst','nameLast','bats','throws','debut','finalGame']\n",
    "master_df.columns = master_cols\n",
    "\n",
    "fielding_cols = ['playerID','yearID','stint','teamID','lgID','Pos','G','GS','InnOuts','PO','A','E','DP','PB','WP','SB','CS','ZR']\n",
    "fielding_df.columns = fielding_cols\n",
    "\n",
    "awards_cols = ['playerID','awardID','yearID']\n",
    "awards_df.columns = awards_cols\n",
    "\n",
    "allstar_cols = ['playerID','YearID']\n",
    "allstar_df.columns = allstar_cols\n",
    "\n",
    "hof_cols = ['playerID','yearid','votedBy','needed_note']\n",
    "hof_df.columns = hof_cols"
   ]
  },
  {
   "cell_type": "code",
   "execution_count": 2702,
   "metadata": {
    "collapsed": false
   },
   "outputs": [
    {
     "name": "stdout",
     "output_type": "stream",
     "text": [
      "    playerID  yearID  stint teamID lgID   G   AB   R   H  2B  ...    RBI   SB  \\\n",
      "0  abercda01    1871      1    TRO  NaN   1    4   0   0   0  ...    0.0  0.0   \n",
      "1   addybo01    1871      1    RC1  NaN  25  118  30  32   6  ...   13.0  8.0   \n",
      "2  allisar01    1871      1    CL1  NaN  29  137  28  40   4  ...   19.0  3.0   \n",
      "3  allisdo01    1871      1    WS3  NaN  27  133  28  44  10  ...   27.0  1.0   \n",
      "4  ansonca01    1871      1    RC1  NaN  25  120  29  39  11  ...   16.0  6.0   \n",
      "\n",
      "    CS  BB   SO  IBB  HBP  SH  SF  GIDP  \n",
      "0  0.0   0  0.0  NaN  NaN NaN NaN   NaN  \n",
      "1  1.0   4  0.0  NaN  NaN NaN NaN   NaN  \n",
      "2  1.0   2  5.0  NaN  NaN NaN NaN   NaN  \n",
      "3  1.0   0  2.0  NaN  NaN NaN NaN   NaN  \n",
      "4  2.0   2  1.0  NaN  NaN NaN NaN   NaN  \n",
      "\n",
      "[5 rows x 22 columns]\n"
     ]
    }
   ],
   "source": [
    "print(batting_df.head())"
   ]
  },
  {
   "cell_type": "code",
   "execution_count": 2703,
   "metadata": {
    "collapsed": false
   },
   "outputs": [],
   "source": [
    "player_stats = {}\n",
    "years_played = {}\n",
    "for i, row in batting_df.iterrows():\n",
    "    playerID = row['playerID']\n",
    "    G = row['G']\n",
    "    AB = row['AB']\n",
    "    R = row['R']\n",
    "    H = row['H']\n",
    "    twoB = row['2B']\n",
    "    threeB = row['3B']\n",
    "    HR = row['HR']\n",
    "    RBI = row['RBI']\n",
    "    SB = row['SB']\n",
    "    CS = row['CS']\n",
    "    BB = row['BB']\n",
    "    SO = row['SO']\n",
    "    IBB = row['IBB']\n",
    "    HBP = row['HBP']\n",
    "    SH = row['SH']\n",
    "    SF = row['SF']\n",
    "    GIDP = row['GIDP']\n",
    "    yearID = row['yearID']\n",
    "    if playerID in player_stats:\n",
    "        player_stats[playerID]['G'] = player_stats[playerID]['G'] + G\n",
    "        player_stats[playerID]['AB'] = player_stats[playerID]['AB'] + AB\n",
    "        player_stats[playerID]['R'] = player_stats[playerID]['R'] + R\n",
    "        player_stats[playerID]['H'] = player_stats[playerID]['H'] + H\n",
    "        player_stats[playerID]['2B'] = player_stats[playerID]['2B'] + twoB\n",
    "        player_stats[playerID]['3B'] = player_stats[playerID]['3B'] + threeB\n",
    "        player_stats[playerID]['HR'] = player_stats[playerID]['HR'] + HR\n",
    "        player_stats[playerID]['RBI'] = player_stats[playerID]['RBI'] + RBI\n",
    "        player_stats[playerID]['SB'] = player_stats[playerID]['SB'] + SB\n",
    "        player_stats[playerID]['CS'] = player_stats[playerID]['CS'] + CS\n",
    "        player_stats[playerID]['BB'] = player_stats[playerID]['BB'] + BB\n",
    "        player_stats[playerID]['SO'] = player_stats[playerID]['SO'] + SO\n",
    "        player_stats[playerID]['IBB'] = player_stats[playerID]['IBB'] + IBB\n",
    "        player_stats[playerID]['HBP'] = player_stats[playerID]['HBP'] + HBP\n",
    "        player_stats[playerID]['SH'] = player_stats[playerID]['SH'] + SH\n",
    "        player_stats[playerID]['SF'] = player_stats[playerID]['SF'] + SF\n",
    "        player_stats[playerID]['GIDP'] = player_stats[playerID]['GIDP'] + GIDP\n",
    "        years_played[playerID].append(yearID)        \n",
    "    else:\n",
    "        player_stats[playerID] = {}\n",
    "        player_stats[playerID]['G'] = G\n",
    "        player_stats[playerID]['AB'] = AB\n",
    "        player_stats[playerID]['R'] = R\n",
    "        player_stats[playerID]['H'] = H\n",
    "        player_stats[playerID]['2B'] = twoB\n",
    "        player_stats[playerID]['3B'] = threeB\n",
    "        player_stats[playerID]['HR'] = HR\n",
    "        player_stats[playerID]['RBI'] = RBI\n",
    "        player_stats[playerID]['SB'] = SB\n",
    "        player_stats[playerID]['CS'] = CS\n",
    "        player_stats[playerID]['BB'] = BB\n",
    "        player_stats[playerID]['SO'] = SO\n",
    "        player_stats[playerID]['IBB'] = IBB\n",
    "        player_stats[playerID]['HBP'] = HBP\n",
    "        player_stats[playerID]['SH'] = SH\n",
    "        player_stats[playerID]['SF'] = SF\n",
    "        player_stats[playerID]['GIDP'] = GIDP\n",
    "        years_played[playerID] = []\n",
    "        years_played[playerID].append(yearID)"
   ]
  },
  {
   "cell_type": "code",
   "execution_count": 2704,
   "metadata": {
    "collapsed": true
   },
   "outputs": [],
   "source": [
    "eras_played = {}\n",
    "for k, v in years_played.items():\n",
    "    eras_played[k] = {}\n",
    "    player_stats[k]['Years_Played'] = len(list(set(v)))\n",
    "    for year in v:\n",
    "        if year < 1920:\n",
    "            eras_played[k]['pre1920'] = 1\n",
    "        elif year >= 1920 and year <= 1941:\n",
    "            eras_played[k]['1920-41'] = 1\n",
    "        elif year >= 1942 and year <= 1945:\n",
    "            eras_played[k]['1942-45'] = 1\n",
    "        elif year >= 1946 and year <= 1962:\n",
    "            eras_played[k]['1946-62'] = 1\n",
    "        elif year >= 1963 and year <= 1976:\n",
    "            eras_played[k]['1963-76'] = 1\n",
    "        elif year >= 1977 and year <= 1992:\n",
    "            eras_played[k]['1977-92'] = 1\n",
    "        elif year >= 1993 and year <= 2009:\n",
    "            eras_played[k]['1993-2009'] = 1"
   ]
  },
  {
   "cell_type": "code",
   "execution_count": 2705,
   "metadata": {
    "collapsed": true
   },
   "outputs": [],
   "source": [
    "eras_df = pd.DataFrame.from_dict(eras_played, orient='index')"
   ]
  },
  {
   "cell_type": "markdown",
   "metadata": {},
   "source": [
    "## Add in years played and eras played in."
   ]
  },
  {
   "cell_type": "code",
   "execution_count": 2706,
   "metadata": {
    "collapsed": true
   },
   "outputs": [],
   "source": [
    "fielder_list = []\n",
    "for i, row in fielding_df.iterrows():\n",
    "    playerID = row['playerID']\n",
    "    Gf = row['G']\n",
    "    GSf = row['GS']\n",
    "    InnOutsf = row['InnOuts']\n",
    "    POf = row['PO']\n",
    "    Af = row['A']\n",
    "    Ef = row['E']\n",
    "    DPf = row['DP']\n",
    "    PBfc = row['PB']\n",
    "    WPfc = row['WP']\n",
    "    SBfc = row['SB']\n",
    "    CSfc = row['CS']\n",
    "    if playerID in player_stats and playerID in fielder_list:\n",
    "        player_stats[playerID]['Gf'] = player_stats[playerID]['Gf'] + Gf\n",
    "        player_stats[playerID]['GSf'] = player_stats[playerID]['GSf'] + GSf\n",
    "        player_stats[playerID]['InnOutsf'] = player_stats[playerID]['InnOutsf'] + InnOutsf\n",
    "        player_stats[playerID]['POf'] = player_stats[playerID]['POf'] + POf\n",
    "        player_stats[playerID]['Af'] = player_stats[playerID]['Af'] + Af\n",
    "        player_stats[playerID]['Ef'] = player_stats[playerID]['Ef'] + Ef\n",
    "        player_stats[playerID]['DPf'] = player_stats[playerID]['DPf'] + DPf\n",
    "        player_stats[playerID]['PBfc'] = player_stats[playerID]['PBfc'] + PBfc\n",
    "        player_stats[playerID]['WPfc'] = player_stats[playerID]['WPfc'] + WPfc\n",
    "        player_stats[playerID]['SBfc'] = player_stats[playerID]['SBfc'] + SBfc\n",
    "        player_stats[playerID]['CSfc'] = player_stats[playerID]['CSfc'] + CSfc\n",
    "    else:\n",
    "        fielder_list.append(playerID)\n",
    "        player_stats[playerID]['Gf'] = Gf\n",
    "        player_stats[playerID]['GSf'] = GSf\n",
    "        player_stats[playerID]['InnOutsf'] = InnOutsf\n",
    "        player_stats[playerID]['POf'] = POf\n",
    "        player_stats[playerID]['Af'] = Af\n",
    "        player_stats[playerID]['Ef'] = Ef\n",
    "        player_stats[playerID]['DPf'] = DPf\n",
    "        player_stats[playerID]['PBfc'] = PBfc\n",
    "        player_stats[playerID]['WPfc'] = WPfc\n",
    "        player_stats[playerID]['SBfc'] = SBfc\n",
    "        player_stats[playerID]['CSfc'] = CSfc"
   ]
  },
  {
   "cell_type": "code",
   "execution_count": 2707,
   "metadata": {
    "collapsed": false
   },
   "outputs": [
    {
     "name": "stdout",
     "output_type": "stream",
     "text": [
      "['Pitching Triple Crown' 'Triple Crown' 'Baseball Magazine All-Star'\n",
      " 'Most Valuable Player' 'TSN All-Star' 'TSN Guide MVP'\n",
      " 'TSN Major League Player of the Year' 'TSN Pitcher of the Year'\n",
      " 'TSN Player of the Year' 'Rookie of the Year' 'Babe Ruth Award'\n",
      " 'Lou Gehrig Memorial Award' 'World Series MVP' 'Cy Young Award'\n",
      " 'Gold Glove' 'TSN Fireman of the Year' 'All-Star Game MVP' 'Hutch Award'\n",
      " 'Roberto Clemente Award' 'Rolaids Relief Man Award' 'NLCS MVP' 'ALCS MVP'\n",
      " 'Silver Slugger' 'Branch Rickey Award' 'Hank Aaron Award'\n",
      " 'TSN Reliever of the Year' 'Comeback Player of the Year'\n",
      " 'Outstanding DH Award' 'Reliever of the Year Award']\n"
     ]
    }
   ],
   "source": [
    "print(awards_df['awardID'].unique())"
   ]
  },
  {
   "cell_type": "code",
   "execution_count": 2708,
   "metadata": {
    "collapsed": false
   },
   "outputs": [],
   "source": [
    "mvp_df = awards_df[awards_df['awardID'] == 'Most Valuable Player']\n",
    "roy_df = awards_df[awards_df['awardID'] == 'Rookie of the Year']\n",
    "gg_df = awards_df[awards_df['awardID'] == 'Gold Glove']\n",
    "ss_df = awards_df[awards_df['awardID'] == 'Silver Slugger']\n",
    "ws_mvp_df = awards_df[awards_df['awardID'] == 'World Series MVP']\n",
    "awards_list = [mvp_df,roy_df,gg_df,ss_df,ws_mvp_df]"
   ]
  },
  {
   "cell_type": "code",
   "execution_count": 2709,
   "metadata": {
    "collapsed": false
   },
   "outputs": [
    {
     "name": "stdout",
     "output_type": "stream",
     "text": [
      "       playerID             awardID  yearID\n",
      "1796  robinja02  Rookie of the Year    1947\n",
      "1845   darkal01  Rookie of the Year    1948\n",
      "1899  sievero01  Rookie of the Year    1949\n",
      "1900  newcodo01  Rookie of the Year    1949\n",
      "1953  dropowa01  Rookie of the Year    1950\n"
     ]
    }
   ],
   "source": [
    "print(awards_list[1].head())"
   ]
  },
  {
   "cell_type": "code",
   "execution_count": 2710,
   "metadata": {
    "collapsed": false
   },
   "outputs": [],
   "source": [
    "mvp_list = []\n",
    "roy_list = []\n",
    "gg_list = []\n",
    "ss_list = []\n",
    "ws_mvp_list = []\n",
    "lists = [mvp_list,roy_list,gg_list,ss_list,ws_mvp_list]"
   ]
  },
  {
   "cell_type": "code",
   "execution_count": 2711,
   "metadata": {
    "collapsed": false
   },
   "outputs": [],
   "source": [
    "for index, v in enumerate(awards_list):\n",
    "    for i, row in v.iterrows():\n",
    "        playerID = row['playerID']\n",
    "        award = row['awardID']\n",
    "        if playerID in player_stats and playerID in lists[index]:\n",
    "            player_stats[playerID][award] += 1\n",
    "        else:\n",
    "            lists[index].append(playerID)\n",
    "            player_stats[playerID][award] = 1"
   ]
  },
  {
   "cell_type": "code",
   "execution_count": 2712,
   "metadata": {
    "collapsed": true
   },
   "outputs": [],
   "source": [
    "allstar_list = []\n",
    "for i, row in allstar_df.iterrows():\n",
    "    playerID = row['playerID']\n",
    "    if playerID in player_stats and playerID in allstar_list:\n",
    "        player_stats[playerID]['AS_games'] += 1\n",
    "    else:\n",
    "        allstar_list.append(playerID)\n",
    "        player_stats[playerID]['AS_games'] = 1"
   ]
  },
  {
   "cell_type": "code",
   "execution_count": 2713,
   "metadata": {
    "collapsed": false
   },
   "outputs": [],
   "source": [
    "for i, row in hof_df.iterrows():\n",
    "    playerID = row['playerID']\n",
    "    if playerID in player_stats:\n",
    "        player_stats[playerID]['HoF'] = 1\n",
    "        player_stats[playerID]['votedBy'] = row['votedBy']"
   ]
  },
  {
   "cell_type": "code",
   "execution_count": 2714,
   "metadata": {
    "collapsed": false
   },
   "outputs": [
    {
     "name": "stdout",
     "output_type": "stream",
     "text": [
      "250\n",
      "19105\n"
     ]
    }
   ],
   "source": [
    "print(len(hof_df))\n",
    "print(len(master_df))"
   ]
  },
  {
   "cell_type": "code",
   "execution_count": 2715,
   "metadata": {
    "collapsed": false
   },
   "outputs": [
    {
     "name": "stdout",
     "output_type": "stream",
     "text": [
      "{'finlebi01': {'AB': 44, 'CS': nan, 'RBI': 5.0, 'DPf': 1.0, 'SO': 8.0, 'GSf': nan, 'H': 8, 'Af': 10.0, 'HBP': nan, 'InnOutsf': nan, 'SB': 2.0, 'R': 2, 'POf': 29, 'SH': nan, 'IBB': nan, 'SF': nan, 'GIDP': nan, '3B': 0, '2B': 0, 'CSfc': nan, 'WPfc': nan, 'Gf': 16, 'G': 13, 'HR': 0, 'SBfc': nan, 'Years_Played': 1, 'BB': 1, 'PBfc': nan, 'Ef': 5.0}, 'burkebi02': {'AB': 22, 'CS': nan, 'RBI': 1.0, 'DPf': 0.0, 'SO': 8.0, 'GSf': nan, 'H': 5, 'Af': 11.0, 'HBP': 0.0, 'InnOutsf': nan, 'SB': 0.0, 'R': 1, 'POf': 6, 'SH': 1.0, 'IBB': nan, 'SF': nan, 'GIDP': nan, '3B': 0, '2B': 1, 'CSfc': nan, 'WPfc': nan, 'Gf': 21, 'G': 22, 'HR': 0, 'SBfc': nan, 'Years_Played': 2, 'BB': 0, 'PBfc': nan, 'Ef': 3.0}}\n"
     ]
    }
   ],
   "source": [
    "print(dict(list(player_stats.items())[0:2]))"
   ]
  },
  {
   "cell_type": "code",
   "execution_count": 2716,
   "metadata": {
    "collapsed": false
   },
   "outputs": [
    {
     "name": "stdout",
     "output_type": "stream",
     "text": [
      "              AB    CS     RBI    DPf      SO     GSf     H     Af   HBP  \\\n",
      "aardsda01      4   0.0     0.0    2.0     2.0     0.0     0   29.0   0.0   \n",
      "aaronha01  12364  73.0  2297.0  218.0  1383.0  2977.0  3771  429.0  32.0   \n",
      "aaronto01    944   8.0    94.0  124.0   145.0   206.0   216  113.0   0.0   \n",
      "aasedo01       5   0.0     0.0   10.0     3.0    91.0     0  135.0   0.0   \n",
      "abadan01      21   1.0     0.0    3.0     5.0     4.0     2    1.0   0.0   \n",
      "\n",
      "           InnOutsf    ...         Ef  Gold Glove  AS_games  \\\n",
      "aardsda01    1011.0    ...        3.0         NaN       NaN   \n",
      "aaronha01   78413.0    ...      144.0         3.0      25.0   \n",
      "aaronto01    6472.0    ...       22.0         NaN       NaN   \n",
      "aasedo01     3328.0    ...       13.0         NaN       1.0   \n",
      "abadan01      138.0    ...        1.0         NaN       NaN   \n",
      "\n",
      "           Rookie of the Year  Most Valuable Player  HoF  votedBy  \\\n",
      "aardsda01                 NaN                   NaN  NaN      NaN   \n",
      "aaronha01                 NaN                   1.0  1.0    BBWAA   \n",
      "aaronto01                 NaN                   NaN  NaN      NaN   \n",
      "aasedo01                  NaN                   NaN  NaN      NaN   \n",
      "abadan01                  NaN                   NaN  NaN      NaN   \n",
      "\n",
      "           Silver Slugger  World Series MVP   playerID  \n",
      "aardsda01             NaN               NaN  aardsda01  \n",
      "aaronha01             NaN               NaN  aaronha01  \n",
      "aaronto01             NaN               NaN  aaronto01  \n",
      "aasedo01              NaN               NaN   aasedo01  \n",
      "abadan01              NaN               NaN   abadan01  \n",
      "\n",
      "[5 rows x 38 columns]\n",
      "    playerID nameFirst nameLast bats throws       debut   finalGame\n",
      "0  aardsda01     David  Aardsma    R      R  2004-04-06  2015-08-23\n",
      "1  aaronha01      Hank    Aaron    R      R  1954-04-13  1976-10-03\n",
      "2  aaronto01    Tommie    Aaron    R      R  1962-04-10  1971-09-26\n",
      "3   aasedo01       Don     Aase    R      R  1977-07-26  1990-10-03\n",
      "4   abadan01      Andy     Abad    L      L  2001-09-10  2006-04-13\n"
     ]
    }
   ],
   "source": [
    "stats_df = pd.DataFrame.from_dict(player_stats, orient='index')\n",
    "stats_df['playerID'] = stats_df.index\n",
    "print(stats_df.head())\n",
    "print(master_df.head())"
   ]
  },
  {
   "cell_type": "code",
   "execution_count": 2717,
   "metadata": {
    "collapsed": false
   },
   "outputs": [],
   "source": [
    "master_df = master_df.join(stats_df,on='playerID',how='inner',rsuffix='mstr')"
   ]
  },
  {
   "cell_type": "code",
   "execution_count": 2718,
   "metadata": {
    "collapsed": false
   },
   "outputs": [],
   "source": [
    "def bats_throws(col):\n",
    "    if col == \"R\":\n",
    "        return 1\n",
    "    else:\n",
    "        return 0\n",
    "        \n",
    "master_df['bats_R'] = master_df['bats'].apply(bats_throws)\n",
    "master_df['throws_R'] = master_df['throws'].apply(bats_throws)"
   ]
  },
  {
   "cell_type": "code",
   "execution_count": 2719,
   "metadata": {
    "collapsed": false
   },
   "outputs": [],
   "source": [
    "pos_list = []\n",
    "pos_dict = {}\n",
    "for i, row in fielding_df.iterrows():\n",
    "    playerID = row['playerID']\n",
    "    games = row['G']\n",
    "    pos = row['Pos']\n",
    "    if playerID in pos_dict:\n",
    "        if pos in pos_dict[playerID]:\n",
    "            pos_dict[playerID][pos] = pos_dict[playerID][pos] + games\n",
    "        else:\n",
    "            pos_dict[playerID][pos] = games\n",
    "    else:\n",
    "        pos_dict[playerID] = {}\n",
    "        pos_dict[playerID][pos] = games"
   ]
  },
  {
   "cell_type": "code",
   "execution_count": 2720,
   "metadata": {
    "collapsed": false
   },
   "outputs": [],
   "source": [
    "primary_pos_dict = {}\n",
    "player_list = []\n",
    "for k, v in pos_dict.items():\n",
    "    playerID = k\n",
    "    primary_pos_dict[playerID] = {}\n",
    "    primary_pos_dict[playerID]['game_count'] = 0\n",
    "    primary_pos_dict[playerID]['game_count2'] = 0\n",
    "    primary_pos_dict[playerID]['pos'] = ''\n",
    "    for key, val in v.items():      \n",
    "        if val > primary_pos_dict[playerID]['game_count']:\n",
    "            primary_pos_dict[playerID]['pos2'] = primary_pos_dict[playerID]['pos']\n",
    "            primary_pos_dict[playerID]['pos'] = key\n",
    "            primary_pos_dict[playerID]['game_count2'] = primary_pos_dict[playerID]['game_count']\n",
    "            primary_pos_dict[playerID]['game_count'] = val"
   ]
  },
  {
   "cell_type": "code",
   "execution_count": 2721,
   "metadata": {
    "collapsed": true
   },
   "outputs": [],
   "source": [
    "primary_pos_df = pd.DataFrame.from_dict(primary_pos_dict, orient='index')\n",
    "primary_pos_df = primary_pos_df.drop(['game_count','game_count2'], axis=1)\n",
    "primary_pos_df = primary_pos_df[(primary_pos_df['pos'] != 'P') & (primary_pos_df['pos'] != 'C')]"
   ]
  },
  {
   "cell_type": "code",
   "execution_count": 2722,
   "metadata": {
    "collapsed": true
   },
   "outputs": [],
   "source": [
    "def infield(pos):\n",
    "    if pos == '1B':\n",
    "        return 1\n",
    "    if pos == '2B':\n",
    "        return 1\n",
    "    if pos == '3B':\n",
    "        return 1\n",
    "    if pos == 'SS':\n",
    "        return 1\n",
    "    else:\n",
    "        return 0\n",
    "    \n",
    "primary_pos_df['infielder'] = primary_pos_df['pos'].apply(infield)\n",
    "master_df = master_df.join(primary_pos_df,on='playerID',how='right')"
   ]
  },
  {
   "cell_type": "code",
   "execution_count": 2723,
   "metadata": {
    "collapsed": false
   },
   "outputs": [],
   "source": [
    "dummy_df = pd.get_dummies(master_df['pos'], prefix='pos_')\n",
    "master_df = pd.concat([master_df, dummy_df], axis=1)"
   ]
  },
  {
   "cell_type": "code",
   "execution_count": 2724,
   "metadata": {
    "collapsed": false
   },
   "outputs": [],
   "source": [
    "master_df['votedBy'] = master_df['votedBy'].fillna('None')\n",
    "master_df = master_df[(master_df['votedBy'] == 'None') | (master_df['votedBy'] == 'BBWAA') | (master_df['votedBy'] == 'Run Off')]"
   ]
  },
  {
   "cell_type": "code",
   "execution_count": 2725,
   "metadata": {
    "collapsed": false
   },
   "outputs": [
    {
     "name": "stdout",
     "output_type": "stream",
     "text": [
      "Index(['playerID', 'nameFirst', 'nameLast', 'bats', 'throws', 'debut',\n",
      "       'finalGame', 'AB', 'CS', 'RBI', 'DPf', 'SO', 'GSf', 'H', 'Af', 'HBP',\n",
      "       'InnOutsf', 'SB', 'R', 'POf', 'SH', 'IBB', 'SF', 'GIDP', '3B', '2B',\n",
      "       'CSfc', 'WPfc', 'Gf', 'G', 'HR', 'SBfc', 'Years_Played', 'BB', 'PBfc',\n",
      "       'Ef', 'Gold Glove', 'AS_games', 'Rookie of the Year',\n",
      "       'Most Valuable Player', 'HoF', 'votedBy', 'Silver Slugger',\n",
      "       'World Series MVP', 'playerIDmstr', 'bats_R', 'throws_R', 'pos', 'pos2',\n",
      "       'infielder', 'pos__1B', 'pos__2B', 'pos__3B', 'pos__OF', 'pos__SS'],\n",
      "      dtype='object')\n"
     ]
    }
   ],
   "source": [
    "print(master_df.columns)"
   ]
  },
  {
   "cell_type": "code",
   "execution_count": 2726,
   "metadata": {
    "collapsed": false
   },
   "outputs": [],
   "source": [
    "# Eliminating unnecessary columns\n",
    "df = master_df.drop(['votedBy', 'CS', 'IBB', 'bats', 'throws','GIDP','GSf','CSfc', 'POf','Gf', 'PBfc', 'WPfc','InnOutsf', 'SBfc', 'SH', 'playerIDmstr', 'pos'], axis=1)"
   ]
  },
  {
   "cell_type": "code",
   "execution_count": 2727,
   "metadata": {
    "collapsed": true
   },
   "outputs": [],
   "source": [
    "from datetime import datetime\n",
    "df['debut'] =  pd.to_datetime(df['debut'])\n",
    "df['finalGame'] = pd.to_datetime(df['finalGame'])\n",
    "df['debutYear'] = pd.to_numeric(df['debut'].dt.strftime('%Y'), errors='coerce')\n",
    "df['finalYear'] = pd.to_numeric(df['finalGame'].dt.strftime('%Y'), errors='coerce')\n",
    "df = df.join(eras_df,on='playerID',how='inner')"
   ]
  },
  {
   "cell_type": "code",
   "execution_count": 2728,
   "metadata": {
    "collapsed": false
   },
   "outputs": [
    {
     "name": "stdout",
     "output_type": "stream",
     "text": [
      "Index(['playerID', 'nameFirst', 'nameLast', 'debut', 'finalGame', 'AB', 'RBI',\n",
      "       'DPf', 'SO', 'H', 'Af', 'HBP', 'SB', 'R', 'SF', '3B', '2B', 'G', 'HR',\n",
      "       'Years_Played', 'BB', 'Ef', 'Gold Glove', 'AS_games',\n",
      "       'Rookie of the Year', 'Most Valuable Player', 'HoF', 'Silver Slugger',\n",
      "       'World Series MVP', 'bats_R', 'throws_R', 'pos2', 'infielder',\n",
      "       'pos__1B', 'pos__2B', 'pos__3B', 'pos__OF', 'pos__SS', 'debutYear',\n",
      "       'finalYear', 'pre1920', '1977-92', '1993-2009', '1946-62', '1942-45',\n",
      "       '1963-76', '1920-41'],\n",
      "      dtype='object')\n",
      "[0, 28, 0, 2, 2, 0, 213, 1, 1359, 0, 1, 653, 315, 0, 4043, 0, 0, 0, 0, 0, 0, 1, 7308, 6747, 7465, 7449, 7479, 7323, 7523, 0, 0, 0, 0, 0, 0, 0, 0, 0, 2, 2, 5161, 6114, 5818, 6503, 7064, 6492, 6265]\n"
     ]
    }
   ],
   "source": [
    "print(df.columns)\n",
    "print(df.isnull().sum(axis=0).tolist())"
   ]
  },
  {
   "cell_type": "code",
   "execution_count": 2729,
   "metadata": {
    "collapsed": false
   },
   "outputs": [
    {
     "name": "stdout",
     "output_type": "stream",
     "text": [
      "[0, 28, 0, 2, 2, 0, 0, 1, 0, 0, 1, 0, 0, 0, 0, 0, 0, 0, 0, 0, 0, 1, 0, 0, 0, 0, 0, 0, 0, 0, 0, 0, 0, 0, 0, 0, 0, 0, 2, 2, 0, 0, 0, 0, 0, 0, 0]\n"
     ]
    }
   ],
   "source": [
    "fill_cols = ['AS_games', 'Silver Slugger', 'Rookie of the Year', 'Gold Glove', 'Most Valuable Player', 'HoF',\n",
    "'1977-92', 'pre1920', '1942-45', '1946-62', '1963-76', '1920-41', '1993-2009', 'HBP', 'SB', 'SF', 'RBI', 'SO', 'World Series MVP']\n",
    "\n",
    "for col in fill_cols:\n",
    "    df[col] = df[col].fillna(0)\n",
    "    \n",
    "print(df.isnull().sum(axis=0).tolist())"
   ]
  },
  {
   "cell_type": "code",
   "execution_count": 2730,
   "metadata": {
    "collapsed": false
   },
   "outputs": [
    {
     "name": "stdout",
     "output_type": "stream",
     "text": [
      "[0, 0, 0, 0, 0, 0, 0, 0, 0, 0, 0, 0, 0, 0, 0, 0, 0, 0, 0, 0, 0, 0, 0, 0, 0, 0, 0, 0, 0, 0, 0, 0, 0, 0, 0, 0, 0, 0, 0, 0, 0, 0, 0, 0, 0, 0, 0]\n"
     ]
    }
   ],
   "source": [
    "# Eliminating rows with null values\n",
    "df = df.dropna()\n",
    "print(df.isnull().sum(axis=0).tolist())"
   ]
  },
  {
   "cell_type": "code",
   "execution_count": 2731,
   "metadata": {
    "collapsed": false
   },
   "outputs": [
    {
     "name": "stdout",
     "output_type": "stream",
     "text": [
      "71\n"
     ]
    }
   ],
   "source": [
    "df_hof = df[df['HoF'] == 1]\n",
    "print(len(df_hof))"
   ]
  },
  {
   "cell_type": "code",
   "execution_count": 2732,
   "metadata": {
    "collapsed": false
   },
   "outputs": [],
   "source": [
    "df['YSR'] = 2016 - df['finalYear']"
   ]
  },
  {
   "cell_type": "code",
   "execution_count": 2733,
   "metadata": {
    "collapsed": true
   },
   "outputs": [],
   "source": [
    "df['AVE'] = df['H'] / df['AB']\n",
    "df['OBP'] = (df['H'] + df['BB']) / (df['AB'] + df['BB'])\n",
    "df['Slug_Percent'] = ((df['HR'] * 4) + (df['3B'] * 3) + (df['2B'] * 2) + (df['H'] - df['2B'] - df['3B'] - df['HR'])) / df['AB']"
   ]
  },
  {
   "cell_type": "code",
   "execution_count": 2734,
   "metadata": {
    "collapsed": true
   },
   "outputs": [],
   "source": [
    "hr = df['HR'] * 4\n",
    "triple = df['3B'] * 3\n",
    "double = df['2B'] * 2\n",
    "single = ((df['H'] - df['2B']) - df['3B']) - df['HR']\n",
    "df['OPS'] = ((df['H'] + df['BB'] + df['HBP']) / (df['AB'] + df['BB'] + df['SF'] + df['HBP'])) + ((single + double + triple + hr)/ df['AB'])"
   ]
  },
  {
   "cell_type": "code",
   "execution_count": 2735,
   "metadata": {
    "collapsed": true
   },
   "outputs": [],
   "source": [
    "df_hitters = df[df['YSR'] > 15]\n",
    "df_eligable = df[df['YSR']<= 15]"
   ]
  },
  {
   "cell_type": "code",
   "execution_count": 2736,
   "metadata": {
    "collapsed": false
   },
   "outputs": [],
   "source": [
    "df_hitters = df_hitters[(df_hitters['playerID'] != 'johnswa01') & (df_hitters['playerID'] != 'lemonbo01') & \n",
    "(df_hitters['playerID'] != 'lyonste01') & (df_hitters['playerID'] != 'mathech01') & (df_hitters['playerID'] != 'ruffire01') &\n",
    "(df_hitters['playerID'] != 'alexape01') & (df_hitters['playerID'] != 'robinja02')]"
   ]
  },
  {
   "cell_type": "code",
   "execution_count": 2737,
   "metadata": {
    "collapsed": false
   },
   "outputs": [
    {
     "name": "stdout",
     "output_type": "stream",
     "text": [
      "6327\n"
     ]
    }
   ],
   "source": [
    "print(len(df_hitters))"
   ]
  },
  {
   "cell_type": "code",
   "execution_count": 2738,
   "metadata": {
    "collapsed": false
   },
   "outputs": [
    {
     "data": {
      "image/png": "[encoded data removed]",
      "text/plain": [
       "<matplotlib.figure.Figure at 0x1df20ee0e48>"
      ]
     },
     "metadata": {},
     "output_type": "display_data"
    }
   ],
   "source": [
    "import matplotlib.pyplot as plt\n",
    "%matplotlib inline\n",
    "\n",
    "plt.hist(df_hof['G'])\n",
    "plt.show()"
   ]
  },
  {
   "cell_type": "code",
   "execution_count": 2739,
   "metadata": {
    "collapsed": false
   },
   "outputs": [
    {
     "name": "stdout",
     "output_type": "stream",
     "text": [
      "Index(['playerID', 'nameFirst', 'nameLast', 'debut', 'finalGame', 'AB', 'RBI',\n",
      "       'DPf', 'SO', 'H', 'Af', 'HBP', 'SB', 'R', 'SF', '3B', '2B', 'G', 'HR',\n",
      "       'Years_Played', 'BB', 'Ef', 'Gold Glove', 'AS_games',\n",
      "       'Rookie of the Year', 'Most Valuable Player', 'HoF', 'Silver Slugger',\n",
      "       'World Series MVP', 'bats_R', 'throws_R', 'pos2', 'infielder',\n",
      "       'pos__1B', 'pos__2B', 'pos__3B', 'pos__OF', 'pos__SS', 'debutYear',\n",
      "       'finalYear', 'pre1920', '1977-92', '1993-2009', '1946-62', '1942-45',\n",
      "       '1963-76', '1920-41', 'YSR', 'AVE', 'OBP', 'Slug_Percent', 'OPS'],\n",
      "      dtype='object')\n"
     ]
    }
   ],
   "source": [
    "print(df.columns)"
   ]
  },
  {
   "cell_type": "code",
   "execution_count": 2740,
   "metadata": {
    "collapsed": false
   },
   "outputs": [],
   "source": [
    "num_cols_hitters = ['playerID', 'nameFirst', 'nameLast', 'HoF', 'Years_Played', 'H', 'BB', 'HR', 'AVE', 'OBP', 'Slug_Percent', 'OPS',  'RBI',\n",
    "       'R', 'SB',  '2B', '3B', 'G', 'AB', 'SO', 'Most Valuable Player', 'World Series MVP', 'AS_games','Gold Glove', 'Rookie of the Year', \n",
    "       'Silver Slugger', 'bats_R', 'throws_R', 'DPf', 'Af', 'Ef','pos__1B', 'pos__2B', \n",
    "       'pos__3B', 'pos__SS', 'infielder', 'pos__OF', 'YSR', 'pre1920', '1920-41', '1942-45', '1946-62', '1963-76',\n",
    "       '1977-92', '1993-2009']\n",
    "data = df_hitters[num_cols_hitters]"
   ]
  },
  {
   "cell_type": "code",
   "execution_count": 2741,
   "metadata": {
    "collapsed": false
   },
   "outputs": [
    {
     "name": "stdout",
     "output_type": "stream",
     "text": [
      "Index(['playerID', 'nameFirst', 'nameLast', 'HoF', 'Years_Played', 'H', 'BB',\n",
      "       'HR', 'AVE', 'OBP', 'Slug_Percent', 'OPS', 'RBI', 'R', 'SB', '2B', '3B',\n",
      "       'G', 'AB', 'SO', 'Most Valuable Player', 'World Series MVP', 'AS_games',\n",
      "       'Gold Glove', 'Rookie of the Year', 'Silver Slugger', 'bats_R',\n",
      "       'throws_R', 'DPf', 'Af', 'Ef', 'pos__1B', 'pos__2B', 'pos__3B',\n",
      "       'pos__SS', 'infielder', 'pos__OF', 'YSR', 'pre1920', '1920-41',\n",
      "       '1942-45', '1946-62', '1963-76', '1977-92', '1993-2009'],\n",
      "      dtype='object')\n"
     ]
    }
   ],
   "source": [
    "print(data.columns)"
   ]
  },
  {
   "cell_type": "code",
   "execution_count": 2742,
   "metadata": {
    "collapsed": false
   },
   "outputs": [
    {
     "name": "stdout",
     "output_type": "stream",
     "text": [
      "[0, 0, 0, 0, 0, 0, 0, 0, 32, 30, 32, 32, 0, 0, 0, 0, 0, 0, 0, 0, 0, 0, 0, 0, 0, 0, 0, 0, 0, 0, 0, 0, 0, 0, 0, 0, 0, 0, 0, 0, 0, 0, 0, 0, 0]\n"
     ]
    }
   ],
   "source": [
    "print(data.isnull().sum(axis=0).tolist())"
   ]
  },
  {
   "cell_type": "code",
   "execution_count": 2743,
   "metadata": {
    "collapsed": true
   },
   "outputs": [],
   "source": [
    "# Eliminating rows with null values\n",
    "data = data.dropna()"
   ]
  },
  {
   "cell_type": "code",
   "execution_count": 2744,
   "metadata": {
    "collapsed": false
   },
   "outputs": [
    {
     "name": "stdout",
     "output_type": "stream",
     "text": [
      "6295\n"
     ]
    }
   ],
   "source": [
    "print(len(data))"
   ]
  },
  {
   "cell_type": "code",
   "execution_count": 2745,
   "metadata": {
    "collapsed": false
   },
   "outputs": [
    {
     "name": "stdout",
     "output_type": "stream",
     "text": [
      "60\n"
     ]
    }
   ],
   "source": [
    "data_hof = data[data['HoF'] == 1]\n",
    "print(len(data_hof))"
   ]
  },
  {
   "cell_type": "code",
   "execution_count": 2746,
   "metadata": {
    "collapsed": false
   },
   "outputs": [
    {
     "data": {
      "image/png": "[encoded data removed]",
      "text/plain": [
       "<matplotlib.figure.Figure at 0x1df20c8ae80>"
      ]
     },
     "metadata": {},
     "output_type": "display_data"
    }
   ],
   "source": [
    "plt.hist(data_hof['G'])\n",
    "plt.show()"
   ]
  },
  {
   "cell_type": "code",
   "execution_count": 2747,
   "metadata": {
    "collapsed": false
   },
   "outputs": [
    {
     "data": {
      "image/png": "[encoded data removed]",
      "text/plain": [
       "<matplotlib.figure.Figure at 0x1df206f4630>"
      ]
     },
     "metadata": {},
     "output_type": "display_data"
    }
   ],
   "source": [
    "plt.hist(data_hof['H'])\n",
    "plt.show()"
   ]
  },
  {
   "cell_type": "code",
   "execution_count": 2748,
   "metadata": {
    "collapsed": false
   },
   "outputs": [
    {
     "name": "stdout",
     "output_type": "stream",
     "text": [
      "Index(['playerID', 'nameFirst', 'nameLast', 'HoF', 'Years_Played', 'H', 'BB',\n",
      "       'HR', 'AVE', 'OBP', 'Slug_Percent', 'OPS', 'RBI', 'R', 'SB', '2B', '3B',\n",
      "       'G', 'AB', 'SO', 'Most Valuable Player', 'World Series MVP', 'AS_games',\n",
      "       'Gold Glove', 'Rookie of the Year', 'Silver Slugger', 'bats_R',\n",
      "       'throws_R', 'DPf', 'Af', 'Ef', 'pos__1B', 'pos__2B', 'pos__3B',\n",
      "       'pos__SS', 'infielder', 'pos__OF', 'YSR', 'pre1920', '1920-41',\n",
      "       '1942-45', '1946-62', '1963-76', '1977-92', '1993-2009'],\n",
      "      dtype='object')\n"
     ]
    }
   ],
   "source": [
    "print(data_hof.columns)"
   ]
  },
  {
   "cell_type": "code",
   "execution_count": 2749,
   "metadata": {
    "collapsed": false
   },
   "outputs": [],
   "source": [
    "target = data['HoF']\n",
    "features = data.drop(['playerID', 'nameFirst', 'nameLast', 'HoF'], axis=1)"
   ]
  },
  {
   "cell_type": "markdown",
   "metadata": {},
   "source": [
    "## Don't forget to deal with class imbalance."
   ]
  },
  {
   "cell_type": "code",
   "execution_count": 2750,
   "metadata": {
    "collapsed": false
   },
   "outputs": [],
   "source": [
    "from sklearn.cross_validation import cross_val_predict, KFold\n",
    "from sklearn.linear_model import LogisticRegression\n",
    "\n",
    "lr = LogisticRegression(class_weight='balanced')\n",
    "kf = KFold(features.shape[0], random_state=1)\n",
    "\n",
    "predictions_lr = cross_val_predict(lr, features, target, cv=kf)\n",
    "predictions_lr = pd.Series(predictions_lr)"
   ]
  },
  {
   "cell_type": "code",
   "execution_count": 2751,
   "metadata": {
    "collapsed": true
   },
   "outputs": [],
   "source": [
    "np_predictions_lr = predictions_lr.as_matrix()\n",
    "np_target = data['HoF'].as_matrix()"
   ]
  },
  {
   "cell_type": "code",
   "execution_count": 2752,
   "metadata": {
    "collapsed": false
   },
   "outputs": [],
   "source": [
    "tn_filter_lr = (np_predictions_lr == 0) & (np_target == 0)\n",
    "tn_lr = len(np_predictions_lr[tn_filter_lr])\n",
    "\n",
    "tp_filter_lr = (np_predictions_lr == 1) & (np_target == 1)\n",
    "tp_lr = len(np_predictions_lr[tp_filter_lr])\n",
    "\n",
    "fn_filter_lr = (np_predictions_lr == 0) & (np_target == 1)\n",
    "fn_lr = len(np_predictions_lr[fn_filter_lr])\n",
    "\n",
    "fp_filter_lr = (np_predictions_lr == 1) & (np_target == 0)\n",
    "fp_lr = len(np_predictions_lr[fp_filter_lr])"
   ]
  },
  {
   "cell_type": "code",
   "execution_count": 2753,
   "metadata": {
    "collapsed": false
   },
   "outputs": [
    {
     "name": "stdout",
     "output_type": "stream",
     "text": [
      "6201\n",
      "52\n",
      "8\n",
      "34\n",
      "0.8666666666666667\n",
      "0.00545308740978348\n",
      "0.9945469125902165\n",
      "0.13333333333333333\n"
     ]
    }
   ],
   "source": [
    "print(tn_lr)\n",
    "print(tp_lr)\n",
    "print(fn_lr)\n",
    "print(fp_lr)\n",
    "tnr_lr = tn_lr / (tn_lr + fp_lr)\n",
    "tpr_lr = tp_lr / (tp_lr + fn_lr)\n",
    "fnr_lr = fn_lr / (fn_lr + tp_lr)\n",
    "fpr_lr = fp_lr / (fp_lr + tn_lr)\n",
    "\n",
    "\n",
    "print(tpr_lr)\n",
    "print(fpr_lr)\n",
    "\n",
    "print(tnr_lr)\n",
    "print(fnr_lr)"
   ]
  },
  {
   "cell_type": "code",
   "execution_count": 2754,
   "metadata": {
    "collapsed": false
   },
   "outputs": [],
   "source": [
    "from sklearn.ensemble import RandomForestClassifier\n",
    "\n",
    "penalty = {\n",
    "    0: 50,\n",
    "    1: 1\n",
    "}\n",
    "\n",
    "rf = RandomForestClassifier(random_state=1,n_estimators=11, max_depth=10, min_samples_leaf=1, class_weight=penalty)\n",
    "predictions_rf = cross_val_predict(rf, features, target, cv=kf)\n",
    "predictions_rf = pd.Series(predictions_rf)"
   ]
  },
  {
   "cell_type": "code",
   "execution_count": 2755,
   "metadata": {
    "collapsed": false
   },
   "outputs": [
    {
     "name": "stdout",
     "output_type": "stream",
     "text": [
      "6295\n",
      "6295\n"
     ]
    }
   ],
   "source": [
    "print(len(predictions_rf))\n",
    "print(len(data['HoF']))"
   ]
  },
  {
   "cell_type": "code",
   "execution_count": 2756,
   "metadata": {
    "collapsed": true
   },
   "outputs": [],
   "source": [
    "np_predictions_rf = predictions_rf.as_matrix()"
   ]
  },
  {
   "cell_type": "code",
   "execution_count": 2757,
   "metadata": {
    "collapsed": false
   },
   "outputs": [],
   "source": [
    "tn_filter_rf = (np_predictions_rf == 0) & (np_target == 0)\n",
    "tn_rf = len(np_predictions_rf[tn_filter_rf])\n",
    "\n",
    "tp_filter_rf = (np_predictions_rf == 1) & (np_target == 1)\n",
    "tp_rf = len(np_predictions_rf[tp_filter_rf])\n",
    "\n",
    "fn_filter_rf = (np_predictions_rf == 0) & (np_target == 1)\n",
    "fn_rf = len(np_predictions_rf[fn_filter_rf])\n",
    "\n",
    "fp_filter_rf = (np_predictions_rf == 1) & (np_target == 0)\n",
    "fp_rf = len(np_predictions_rf[fp_filter_rf])"
   ]
  },
  {
   "cell_type": "code",
   "execution_count": 2758,
   "metadata": {
    "collapsed": false
   },
   "outputs": [
    {
     "name": "stdout",
     "output_type": "stream",
     "text": [
      "6229\n",
      "50\n",
      "10\n",
      "6\n"
     ]
    }
   ],
   "source": [
    "print(tn_rf)\n",
    "print(tp_rf)\n",
    "print(fn_rf)\n",
    "print(fp_rf)"
   ]
  },
  {
   "cell_type": "code",
   "execution_count": 2759,
   "metadata": {
    "collapsed": true
   },
   "outputs": [],
   "source": [
    "tnr_rf = tn_rf / (tn_rf + fp_rf)\n",
    "tpr_rf = tp_rf / (tp_rf + fn_rf)\n",
    "fnr_rf = fn_rf / (fn_rf + tp_rf)\n",
    "fpr_rf = fp_rf / (fp_rf + tn_rf)"
   ]
  },
  {
   "cell_type": "code",
   "execution_count": 2760,
   "metadata": {
    "collapsed": false
   },
   "outputs": [
    {
     "name": "stdout",
     "output_type": "stream",
     "text": [
      "0.8333333333333334\n",
      "0.999037690457097\n",
      "0.0009623095429029671\n",
      "0.16666666666666666\n"
     ]
    }
   ],
   "source": [
    "print(tpr_rf)\n",
    "print(tnr_rf)\n",
    "print(fpr_rf)\n",
    "print(fnr_rf)"
   ]
  },
  {
   "cell_type": "code",
   "execution_count": 2761,
   "metadata": {
    "collapsed": false
   },
   "outputs": [
    {
     "name": "stdout",
     "output_type": "stream",
     "text": [
      "[0, 0, 0, 0, 0, 0, 0, 0, 1, 1, 1, 1, 0, 0, 0, 0, 0, 0, 0, 0, 0, 0, 0, 0, 0, 0, 0, 0, 0, 0, 0, 0, 0, 0, 0, 0, 0, 0, 0, 0, 0, 0, 0, 0, 0]\n"
     ]
    }
   ],
   "source": [
    "new_data = df_eligable[num_cols_hitters]\n",
    "print(new_data.isnull().sum(axis=0).tolist())"
   ]
  },
  {
   "cell_type": "code",
   "execution_count": 2762,
   "metadata": {
    "collapsed": false
   },
   "outputs": [
    {
     "name": "stdout",
     "output_type": "stream",
     "text": [
      "Index(['playerID', 'nameFirst', 'nameLast', 'debut', 'finalGame', 'AB', 'RBI',\n",
      "       'DPf', 'SO', 'H', 'Af', 'HBP', 'SB', 'R', 'SF', '3B', '2B', 'G', 'HR',\n",
      "       'Years_Played', 'BB', 'Ef', 'Gold Glove', 'AS_games',\n",
      "       'Rookie of the Year', 'Most Valuable Player', 'HoF', 'Silver Slugger',\n",
      "       'World Series MVP', 'bats_R', 'throws_R', 'pos2', 'infielder',\n",
      "       'pos__1B', 'pos__2B', 'pos__3B', 'pos__OF', 'pos__SS', 'debutYear',\n",
      "       'finalYear', 'pre1920', '1977-92', '1993-2009', '1946-62', '1942-45',\n",
      "       '1963-76', '1920-41', 'YSR', 'AVE', 'OBP', 'Slug_Percent', 'OPS'],\n",
      "      dtype='object')\n"
     ]
    }
   ],
   "source": [
    "print(df_eligable.columns)"
   ]
  },
  {
   "cell_type": "code",
   "execution_count": 2763,
   "metadata": {
    "collapsed": false
   },
   "outputs": [],
   "source": [
    "new_data = new_data.dropna()\n",
    "new_features = new_data.drop(['playerID', 'nameFirst', 'nameLast', 'HoF'], axis=1)"
   ]
  },
  {
   "cell_type": "code",
   "execution_count": 2764,
   "metadata": {
    "collapsed": false
   },
   "outputs": [],
   "source": [
    "rf.fit(features, target)\n",
    "probabilities = rf.predict_proba(new_features)"
   ]
  },
  {
   "cell_type": "code",
   "execution_count": 2766,
   "metadata": {
    "collapsed": true
   },
   "outputs": [],
   "source": [
    "hof_predictions = pd.DataFrame(probabilities[:,1])"
   ]
  },
  {
   "cell_type": "code",
   "execution_count": 2767,
   "metadata": {
    "collapsed": false
   },
   "outputs": [],
   "source": [
    "hof_predictions = hof_predictions.sort_values(0,ascending=False)"
   ]
  },
  {
   "cell_type": "code",
   "execution_count": 2776,
   "metadata": {
    "collapsed": false
   },
   "outputs": [
    {
     "name": "stdout",
     "output_type": "stream",
     "text": [
      "             0\n",
      "938   1.000000\n",
      "883   1.000000\n",
      "582   1.000000\n",
      "82    1.000000\n",
      "83    1.000000\n",
      "48    1.000000\n",
      "898   1.000000\n",
      "606   1.000000\n",
      "1034  1.000000\n",
      "829   1.000000\n",
      "455   1.000000\n",
      "1077  1.000000\n",
      "1078  1.000000\n",
      "732   1.000000\n",
      "472   1.000000\n",
      "818   1.000000\n",
      "113   1.000000\n",
      "1008  1.000000\n",
      "168   0.909173\n",
      "98    0.909091\n",
      "636   0.909091\n",
      "565   0.909091\n",
      "46    0.909091\n",
      "501   0.909091\n",
      "285   0.909091\n",
      "926   0.909091\n",
      "434   0.818461\n",
      "500   0.818461\n",
      "459   0.818264\n",
      "1131  0.818182\n",
      "1058  0.818182\n",
      "5     0.727592\n",
      "270   0.636404\n",
      "20    0.545774\n",
      "433   0.545534\n",
      "734   0.545455\n",
      "387   0.454824\n",
      "405   0.454712\n",
      "946   0.454668\n",
      "180   0.454624\n",
      "700   0.367342\n",
      "892   0.363915\n",
      "360   0.363915\n",
      "809   0.363798\n",
      "316   0.363637\n",
      "662   0.273208\n",
      "616   0.273006\n",
      "1134  0.272936\n",
      "945   0.272935\n",
      "580   0.272728\n"
     ]
    }
   ],
   "source": [
    "print(hof_predictions.head(50))"
   ]
  },
  {
   "cell_type": "code",
   "execution_count": 2777,
   "metadata": {
    "collapsed": false
   },
   "outputs": [
    {
     "name": "stdout",
     "output_type": "stream",
     "text": [
      "nameFirst                    Alex\n",
      "nameLast                Rodriguez\n",
      "HoF                             0\n",
      "Years_Played                   22\n",
      "H                            3115\n",
      "BB                           1338\n",
      "HR                            696\n",
      "AVE                      0.294814\n",
      "OBP                      0.374076\n",
      "Slug_Percent             0.550161\n",
      "OPS                      0.929867\n",
      "RBI                          2086\n",
      "R                            2021\n",
      "SB                            329\n",
      "2B                            548\n",
      "3B                             31\n",
      "G                            2784\n",
      "AB                          10566\n",
      "SO                           2287\n",
      "Most Valuable Player            3\n",
      "World Series MVP                0\n",
      "AS_games                       14\n",
      "Gold Glove                      2\n",
      "Rookie of the Year              0\n",
      "Silver Slugger                 10\n",
      "bats_R                          1\n",
      "throws_R                        1\n",
      "Name: 14668, dtype: object\n",
      "nameFirst                 Albert\n",
      "nameLast                  Pujols\n",
      "HoF                            0\n",
      "Years_Played                  16\n",
      "H                           2825\n",
      "BB                          1214\n",
      "HR                           591\n",
      "AVE                     0.309149\n",
      "OBP                     0.390166\n",
      "Slug_Percent            0.572554\n",
      "OPS                     0.964839\n",
      "RBI                         1817\n",
      "R                           1670\n",
      "SB                           107\n",
      "2B                           602\n",
      "3B                            16\n",
      "G                           2426\n",
      "AB                          9138\n",
      "SO                          1053\n",
      "Most Valuable Player           3\n",
      "World Series MVP               0\n",
      "AS_games                      10\n",
      "Gold Glove                     2\n",
      "Rookie of the Year             1\n",
      "Silver Slugger                 6\n",
      "bats_R                         1\n",
      "throws_R                       1\n",
      "Name: 13916, dtype: object\n",
      "nameFirst                Chipper\n",
      "nameLast                   Jones\n",
      "HoF                            0\n",
      "Years_Played                  19\n",
      "H                           2726\n",
      "BB                          1512\n",
      "HR                           468\n",
      "AVE                     0.303428\n",
      "OBP                     0.403773\n",
      "Slug_Percent            0.529274\n",
      "OPS                     0.930367\n",
      "RBI                         1623\n",
      "R                           1619\n",
      "SB                           150\n",
      "2B                           549\n",
      "3B                            38\n",
      "G                           2499\n",
      "AB                          8984\n",
      "SO                          1409\n",
      "Most Valuable Player           1\n",
      "World Series MVP               0\n",
      "AS_games                       8\n",
      "Gold Glove                     0\n",
      "Rookie of the Year             0\n",
      "Silver Slugger                 2\n",
      "bats_R                         0\n",
      "throws_R                       1\n",
      "Name: 8646, dtype: object\n",
      "nameFirst                 Adrian\n",
      "nameLast                  Beltre\n",
      "HoF                            0\n",
      "Years_Played                  19\n",
      "H                           2942\n",
      "BB                           775\n",
      "HR                           445\n",
      "AVE                      0.28577\n",
      "OBP                     0.335772\n",
      "Slug_Percent            0.479845\n",
      "OPS                     0.818098\n",
      "RBI                         1571\n",
      "R                           1428\n",
      "SB                           119\n",
      "2B                           591\n",
      "3B                            36\n",
      "G                           2720\n",
      "AB                         10295\n",
      "SO                          1584\n",
      "Most Valuable Player           0\n",
      "World Series MVP               0\n",
      "AS_games                       4\n",
      "Gold Glove                     5\n",
      "Rookie of the Year             0\n",
      "Silver Slugger                 4\n",
      "bats_R                         1\n",
      "throws_R                       1\n",
      "Name: 1123, dtype: object\n",
      "nameFirst                 Carlos\n",
      "nameLast                 Beltran\n",
      "HoF                            0\n",
      "Years_Played                  19\n",
      "H                           2617\n",
      "BB                          1051\n",
      "HR                           421\n",
      "AVE                     0.281368\n",
      "OBP                     0.354328\n",
      "Slug_Percent             0.49156\n",
      "OPS                      0.84533\n",
      "RBI                         1536\n",
      "R                           1522\n",
      "SB                           312\n",
      "2B                           536\n",
      "3B                            78\n",
      "G                           2457\n",
      "AB                          9301\n",
      "SO                          1693\n",
      "Most Valuable Player           0\n",
      "World Series MVP               0\n",
      "AS_games                       9\n",
      "Gold Glove                     3\n",
      "Rookie of the Year             1\n",
      "Silver Slugger                 2\n",
      "bats_R                         0\n",
      "throws_R                       1\n",
      "Name: 1124, dtype: object\n",
      "nameFirst                 Harold\n",
      "nameLast                  Baines\n",
      "HoF                            0\n",
      "Years_Played                  22\n",
      "H                           2866\n",
      "BB                          1062\n",
      "HR                           384\n",
      "AVE                     0.289261\n",
      "OBP                     0.358067\n",
      "Slug_Percent            0.464675\n",
      "OPS                     0.820355\n",
      "RBI                         1628\n",
      "R                           1299\n",
      "SB                            34\n",
      "2B                           488\n",
      "3B                            49\n",
      "G                           2830\n",
      "AB                          9908\n",
      "SO                          1441\n",
      "Most Valuable Player           0\n",
      "World Series MVP               0\n",
      "AS_games                       6\n",
      "Gold Glove                     0\n",
      "Rookie of the Year             0\n",
      "Silver Slugger                 1\n",
      "bats_R                         0\n",
      "throws_R                       0\n",
      "Name: 621, dtype: object\n",
      "nameFirst                  Manny\n",
      "nameLast                 Ramirez\n",
      "HoF                            0\n",
      "Years_Played                  19\n",
      "H                           2574\n",
      "BB                          1329\n",
      "HR                           555\n",
      "AVE                     0.312227\n",
      "OBP                     0.407709\n",
      "Slug_Percent            0.585395\n",
      "OPS                     0.995956\n",
      "RBI                         1831\n",
      "R                           1544\n",
      "SB                            38\n",
      "2B                           547\n",
      "3B                            20\n",
      "G                           2302\n",
      "AB                          8244\n",
      "SO                          1813\n",
      "Most Valuable Player           0\n",
      "World Series MVP               1\n",
      "AS_games                      12\n",
      "Gold Glove                     0\n",
      "Rookie of the Year             0\n",
      "Silver Slugger                 9\n",
      "bats_R                         1\n",
      "throws_R                       1\n",
      "Name: 14069, dtype: object\n",
      "nameFirst                   Jeff\n",
      "nameLast                    Kent\n",
      "HoF                            0\n",
      "Years_Played                  17\n",
      "H                           2461\n",
      "BB                           801\n",
      "HR                           377\n",
      "AVE                     0.289598\n",
      "OBP                      0.35079\n",
      "Slug_Percent            0.499647\n",
      "OPS                     0.855163\n",
      "RBI                         1518\n",
      "R                           1320\n",
      "SB                            94\n",
      "2B                           560\n",
      "3B                            47\n",
      "G                           2298\n",
      "AB                          8498\n",
      "SO                          1522\n",
      "Most Valuable Player           1\n",
      "World Series MVP               0\n",
      "AS_games                       5\n",
      "Gold Glove                     0\n",
      "Rookie of the Year             0\n",
      "Silver Slugger                 4\n",
      "bats_R                         1\n",
      "throws_R                       1\n",
      "Name: 9029, dtype: object\n",
      "nameFirst                  Sammy\n",
      "nameLast                    Sosa\n",
      "HoF                            0\n",
      "Years_Played                  18\n",
      "H                           2408\n",
      "BB                           929\n",
      "HR                           609\n",
      "AVE                     0.273233\n",
      "OBP                     0.342537\n",
      "Slug_Percent            0.533757\n",
      "OPS                     0.877516\n",
      "RBI                         1667\n",
      "R                           1475\n",
      "SB                           234\n",
      "2B                           379\n",
      "3B                            45\n",
      "G                           2354\n",
      "AB                          8813\n",
      "SO                          2306\n",
      "Most Valuable Player           1\n",
      "World Series MVP               0\n",
      "AS_games                       7\n",
      "Gold Glove                     0\n",
      "Rookie of the Year             0\n",
      "Silver Slugger                 6\n",
      "bats_R                         1\n",
      "throws_R                       1\n",
      "Name: 16261, dtype: object\n",
      "nameFirst                 Rafael\n",
      "nameLast                Palmeiro\n",
      "HoF                            0\n",
      "Years_Played                  20\n",
      "H                           3020\n",
      "BB                          1353\n",
      "HR                           569\n",
      "AVE                     0.288388\n",
      "OBP                      0.36981\n",
      "Slug_Percent            0.514515\n",
      "OPS                     0.885224\n",
      "RBI                         1835\n",
      "R                           1663\n",
      "SB                            97\n",
      "2B                           585\n",
      "3B                            38\n",
      "G                           2831\n",
      "AB                         10472\n",
      "SO                          1348\n",
      "Most Valuable Player           0\n",
      "World Series MVP               0\n",
      "AS_games                       4\n",
      "Gold Glove                     3\n",
      "Rookie of the Year             0\n",
      "Silver Slugger                 2\n",
      "bats_R                         0\n",
      "throws_R                       0\n",
      "Name: 13095, dtype: object\n",
      "nameFirst                    Ken\n",
      "nameLast                 Griffey\n",
      "HoF                            1\n",
      "Years_Played                  22\n",
      "H                           2781\n",
      "BB                          1312\n",
      "HR                           630\n",
      "AVE                     0.283747\n",
      "OBP                     0.368307\n",
      "Slug_Percent            0.537802\n",
      "OPS                     0.907314\n",
      "RBI                         1836\n",
      "R                           1662\n",
      "SB                           184\n",
      "2B                           524\n",
      "3B                            38\n",
      "G                           2671\n",
      "AB                          9801\n",
      "SO                          1779\n",
      "Most Valuable Player           1\n",
      "World Series MVP               0\n",
      "AS_games                      13\n",
      "Gold Glove                    10\n",
      "Rookie of the Year             0\n",
      "Silver Slugger                 7\n",
      "bats_R                         0\n",
      "throws_R                       0\n",
      "Name: 6694, dtype: object\n",
      "nameFirst                  Frank\n",
      "nameLast                  Thomas\n",
      "HoF                            1\n",
      "Years_Played                  19\n",
      "H                           2468\n",
      "BB                          1667\n",
      "HR                           521\n",
      "AVE                     0.301012\n",
      "OBP                     0.419116\n",
      "Slug_Percent            0.554946\n",
      "OPS                     0.974044\n",
      "RBI                         1704\n",
      "R                           1494\n",
      "SB                            32\n",
      "2B                           495\n",
      "3B                            12\n",
      "G                           2322\n",
      "AB                          8199\n",
      "SO                          1397\n",
      "Most Valuable Player           2\n",
      "World Series MVP               0\n",
      "AS_games                       5\n",
      "Gold Glove                     0\n",
      "Rookie of the Year             0\n",
      "Silver Slugger                 4\n",
      "bats_R                         1\n",
      "throws_R                       1\n",
      "Name: 17144, dtype: object\n",
      "nameFirst                    Jim\n",
      "nameLast                   Thome\n",
      "HoF                            0\n",
      "Years_Played                  22\n",
      "H                           2328\n",
      "BB                          1747\n",
      "HR                           612\n",
      "AVE                     0.276419\n",
      "OBP                     0.400728\n",
      "Slug_Percent            0.554144\n",
      "OPS                     0.956006\n",
      "RBI                         1699\n",
      "R                           1583\n",
      "SB                            19\n",
      "2B                           451\n",
      "3B                            26\n",
      "G                           2543\n",
      "AB                          8422\n",
      "SO                          2548\n",
      "Most Valuable Player           0\n",
      "World Series MVP               0\n",
      "AS_games                       5\n",
      "Gold Glove                     0\n",
      "Rookie of the Year             0\n",
      "Silver Slugger                 1\n",
      "bats_R                         0\n",
      "throws_R                       1\n",
      "Name: 17170, dtype: object\n",
      "nameFirst                   Fred\n",
      "nameLast                 McGriff\n",
      "HoF                            0\n",
      "Years_Played                  19\n",
      "H                           2490\n",
      "BB                          1305\n",
      "HR                           493\n",
      "AVE                     0.284344\n",
      "OBP                     0.377162\n",
      "Slug_Percent            0.509078\n",
      "OPS                     0.885995\n",
      "RBI                         1550\n",
      "R                           1349\n",
      "SB                            72\n",
      "2B                           441\n",
      "3B                            24\n",
      "G                           2460\n",
      "AB                          8757\n",
      "SO                          1882\n",
      "Most Valuable Player           0\n",
      "World Series MVP               0\n",
      "AS_games                       5\n",
      "Gold Glove                     0\n",
      "Rookie of the Year             0\n",
      "Silver Slugger                 3\n",
      "bats_R                         0\n",
      "throws_R                       0\n",
      "Name: 11238, dtype: object\n",
      "nameFirst                   Tony\n",
      "nameLast                   Gwynn\n",
      "HoF                            1\n",
      "Years_Played                  20\n",
      "H                           3141\n",
      "BB                           790\n",
      "HR                           135\n",
      "AVE                     0.338178\n",
      "OBP                     0.390058\n",
      "Slug_Percent            0.458549\n",
      "OPS                     0.846789\n",
      "RBI                         1138\n",
      "R                           1383\n",
      "SB                           319\n",
      "2B                           543\n",
      "3B                            85\n",
      "G                           2440\n",
      "AB                          9288\n",
      "SO                           434\n",
      "Most Valuable Player           0\n",
      "World Series MVP               0\n",
      "AS_games                      15\n",
      "Gold Glove                     5\n",
      "Rookie of the Year             0\n",
      "Silver Slugger                 7\n",
      "bats_R                         0\n",
      "throws_R                       0\n",
      "Name: 6858, dtype: object\n",
      "nameFirst                  David\n",
      "nameLast                   Ortiz\n",
      "HoF                            0\n",
      "Years_Played                  20\n",
      "H                           2472\n",
      "BB                          1319\n",
      "HR                           541\n",
      "AVE                     0.286111\n",
      "OBP                     0.380661\n",
      "Slug_Percent            0.551505\n",
      "OPS                     0.931027\n",
      "RBI                         1768\n",
      "R                           1419\n",
      "SB                            17\n",
      "2B                           632\n",
      "3B                            19\n",
      "G                           2408\n",
      "AB                          8640\n",
      "SO                          1750\n",
      "Most Valuable Player           0\n",
      "World Series MVP               1\n",
      "AS_games                      10\n",
      "Gold Glove                     0\n",
      "Rookie of the Year             0\n",
      "Silver Slugger                 7\n",
      "bats_R                         0\n",
      "throws_R                       0\n",
      "Name: 12934, dtype: object\n",
      "nameFirst                  Barry\n",
      "nameLast                   Bonds\n",
      "HoF                            0\n",
      "Years_Played                  22\n",
      "H                           2935\n",
      "BB                          2558\n",
      "HR                           762\n",
      "AVE                      0.29806\n",
      "OBP                     0.442805\n",
      "Slug_Percent            0.606885\n",
      "OPS                      1.05118\n",
      "RBI                         1996\n",
      "R                           2227\n",
      "SB                           514\n",
      "2B                           601\n",
      "3B                            77\n",
      "G                           2986\n",
      "AB                          9847\n",
      "SO                          1539\n",
      "Most Valuable Player           7\n",
      "World Series MVP               0\n",
      "AS_games                      14\n",
      "Gold Glove                     8\n",
      "Rookie of the Year             0\n",
      "Silver Slugger                12\n",
      "bats_R                         0\n",
      "throws_R                       0\n",
      "Name: 1553, dtype: object\n",
      "nameFirst                    Gary\n",
      "nameLast                Sheffield\n",
      "HoF                             0\n",
      "Years_Played                   22\n",
      "H                            2689\n",
      "BB                           1475\n",
      "HR                            509\n",
      "AVE                      0.291744\n",
      "OBP                       0.38945\n",
      "Slug_Percent             0.513942\n",
      "OPS                      0.906975\n",
      "RBI                          1676\n",
      "R                            1636\n",
      "SB                            253\n",
      "2B                            467\n",
      "3B                             27\n",
      "G                            2576\n",
      "AB                           9217\n",
      "SO                           1171\n",
      "Most Valuable Player            0\n",
      "World Series MVP                0\n",
      "AS_games                        9\n",
      "Gold Glove                      0\n",
      "Rookie of the Year              0\n",
      "Silver Slugger                  5\n",
      "bats_R                          1\n",
      "throws_R                        1\n",
      "Name: 15716, dtype: object\n",
      "nameFirst                 Miguel\n",
      "nameLast                 Cabrera\n",
      "HoF                            0\n",
      "Years_Played                  14\n",
      "H                           2519\n",
      "BB                          1011\n",
      "HR                           446\n",
      "AVE                     0.320769\n",
      "OBP                      0.39824\n",
      "Slug_Percent            0.562078\n",
      "OPS                     0.960811\n",
      "RBI                         1553\n",
      "R                           1321\n",
      "SB                            38\n",
      "2B                           523\n",
      "3B                            17\n",
      "G                           2096\n",
      "AB                          7853\n",
      "SO                          1516\n",
      "Most Valuable Player           2\n",
      "World Series MVP               0\n",
      "AS_games                      11\n",
      "Gold Glove                     0\n",
      "Rookie of the Year             0\n",
      "Silver Slugger                 7\n",
      "bats_R                         1\n",
      "throws_R                       1\n",
      "Name: 2405, dtype: object\n",
      "nameFirst                  Craig\n",
      "nameLast                  Biggio\n",
      "HoF                            1\n",
      "Years_Played                  20\n",
      "H                           3060\n",
      "BB                          1160\n",
      "HR                           291\n",
      "AVE                     0.281353\n",
      "OBP                     0.350615\n",
      "Slug_Percent            0.433156\n",
      "OPS                     0.796403\n",
      "RBI                         1175\n",
      "R                           1844\n",
      "SB                           414\n",
      "2B                           668\n",
      "3B                            55\n",
      "G                           2850\n",
      "AB                         10876\n",
      "SO                          1753\n",
      "Most Valuable Player           0\n",
      "World Series MVP               0\n",
      "AS_games                       7\n",
      "Gold Glove                     4\n",
      "Rookie of the Year             0\n",
      "Silver Slugger                 5\n",
      "bats_R                         1\n",
      "throws_R                       1\n",
      "Name: 1313, dtype: object\n",
      "nameFirst                  Barry\n",
      "nameLast                  Larkin\n",
      "HoF                            1\n",
      "Years_Played                  19\n",
      "H                           2340\n",
      "BB                           939\n",
      "HR                           198\n",
      "AVE                     0.294822\n",
      "OBP                     0.369423\n",
      "Slug_Percent            0.444374\n",
      "OPS                     0.814901\n",
      "RBI                          960\n",
      "R                           1329\n",
      "SB                           379\n",
      "2B                           441\n",
      "3B                            76\n",
      "G                           2180\n",
      "AB                          7937\n",
      "SO                           817\n",
      "Most Valuable Player           1\n",
      "World Series MVP               0\n",
      "AS_games                      12\n",
      "Gold Glove                     3\n",
      "Rookie of the Year             0\n",
      "Silver Slugger                 9\n",
      "bats_R                         1\n",
      "throws_R                       1\n",
      "Name: 9643, dtype: object\n",
      "nameFirst                  Derek\n",
      "nameLast                   Jeter\n",
      "HoF                            0\n",
      "Years_Played                  20\n",
      "H                           3465\n",
      "BB                          1082\n",
      "HR                           260\n",
      "AVE                     0.309513\n",
      "OBP                     0.370367\n",
      "Slug_Percent            0.439571\n",
      "OPS                      0.81678\n",
      "RBI                         1311\n",
      "R                           1923\n",
      "SB                           358\n",
      "2B                           544\n",
      "3B                            66\n",
      "G                           2747\n",
      "AB                         11195\n",
      "SO                          1840\n",
      "Most Valuable Player           0\n",
      "World Series MVP               1\n",
      "AS_games                      14\n",
      "Gold Glove                     5\n",
      "Rookie of the Year             1\n",
      "Silver Slugger                 5\n",
      "bats_R                         1\n",
      "throws_R                       1\n",
      "Name: 8463, dtype: object\n",
      "nameFirst                   Jeff\n",
      "nameLast                 Bagwell\n",
      "HoF                            1\n",
      "Years_Played                  15\n",
      "H                           2314\n",
      "BB                          1401\n",
      "HR                           449\n",
      "AVE                     0.296781\n",
      "OBP                     0.403892\n",
      "Slug_Percent            0.540336\n",
      "OPS                     0.947952\n",
      "RBI                         1529\n",
      "R                           1517\n",
      "SB                           202\n",
      "2B                           488\n",
      "3B                            32\n",
      "G                           2150\n",
      "AB                          7797\n",
      "SO                          1558\n",
      "Most Valuable Player           1\n",
      "World Series MVP               0\n",
      "AS_games                       4\n",
      "Gold Glove                     1\n",
      "Rookie of the Year             1\n",
      "Silver Slugger                 3\n",
      "bats_R                         1\n",
      "throws_R                       1\n",
      "Name: 596, dtype: object\n",
      "nameFirst                  Rickey\n",
      "nameLast                Henderson\n",
      "HoF                             1\n",
      "Years_Played                   25\n",
      "H                            3055\n",
      "BB                           2190\n",
      "HR                            297\n",
      "AVE                      0.278715\n",
      "OBP                      0.398829\n",
      "Slug_Percent             0.418575\n",
      "OPS                      0.819822\n",
      "RBI                          1115\n",
      "R                            2295\n",
      "SB                           1406\n",
      "2B                            510\n",
      "3B                             66\n",
      "G                            3081\n",
      "AB                          10961\n",
      "SO                           1694\n",
      "Most Valuable Player            1\n",
      "World Series MVP                0\n",
      "AS_games                       10\n",
      "Gold Glove                      1\n",
      "Rookie of the Year              0\n",
      "Silver Slugger                  3\n",
      "bats_R                          1\n",
      "throws_R                        0\n",
      "Name: 7452, dtype: object\n",
      "nameFirst                 Carlos\n",
      "nameLast                 Delgado\n",
      "HoF                            0\n",
      "Years_Played                  17\n",
      "H                           2038\n",
      "BB                          1109\n",
      "HR                           473\n",
      "AVE                      0.27983\n",
      "OBP                        0.375\n",
      "Slug_Percent            0.545929\n",
      "OPS                     0.929318\n",
      "RBI                         1512\n",
      "R                           1241\n",
      "SB                            14\n",
      "2B                           483\n",
      "3B                            18\n",
      "G                           2035\n",
      "AB                          7283\n",
      "SO                          1745\n",
      "Most Valuable Player           0\n",
      "World Series MVP               0\n",
      "AS_games                       2\n",
      "Gold Glove                     0\n",
      "Rookie of the Year             0\n",
      "Silver Slugger                 3\n",
      "bats_R                         0\n",
      "throws_R                       1\n",
      "Name: 4198, dtype: object\n",
      "nameFirst                    Cal\n",
      "nameLast                  Ripken\n",
      "HoF                            1\n",
      "Years_Played                  21\n",
      "H                           3184\n",
      "BB                          1129\n",
      "HR                           431\n",
      "AVE                     0.275647\n",
      "OBP                     0.340142\n",
      "Slug_Percent            0.447407\n",
      "OPS                     0.787576\n",
      "RBI                         1695\n",
      "R                           1647\n",
      "SB                            36\n",
      "2B                           603\n",
      "3B                            44\n",
      "G                           3001\n",
      "AB                         11551\n",
      "SO                          1305\n",
      "Most Valuable Player           2\n",
      "World Series MVP               0\n",
      "AS_games                      19\n",
      "Gold Glove                     2\n",
      "Rookie of the Year             1\n",
      "Silver Slugger                 8\n",
      "bats_R                         1\n",
      "throws_R                       1\n",
      "Name: 14497, dtype: object\n",
      "nameFirst                   Luis\n",
      "nameLast                Gonzalez\n",
      "HoF                            0\n",
      "Years_Played                  19\n",
      "H                           2591\n",
      "BB                          1155\n",
      "HR                           354\n",
      "AVE                     0.282953\n",
      "OBP                     0.363266\n",
      "Slug_Percent            0.478869\n",
      "OPS                     0.845469\n",
      "RBI                         1439\n",
      "R                           1412\n",
      "SB                           128\n",
      "2B                           596\n",
      "3B                            68\n",
      "G                           2591\n",
      "AB                          9157\n",
      "SO                          1218\n",
      "Most Valuable Player           0\n",
      "World Series MVP               0\n",
      "AS_games                       5\n",
      "Gold Glove                     0\n",
      "Rookie of the Year             0\n",
      "Silver Slugger                 1\n",
      "bats_R                         0\n",
      "throws_R                       1\n",
      "Name: 6415, dtype: object\n",
      "nameFirst                   Todd\n",
      "nameLast                  Helton\n",
      "HoF                            0\n",
      "Years_Played                  17\n",
      "H                           2519\n",
      "BB                          1335\n",
      "HR                           369\n",
      "AVE                     0.316378\n",
      "OBP                     0.414542\n",
      "Slug_Percent            0.539061\n",
      "OPS                     0.953054\n",
      "RBI                         1406\n",
      "R                           1401\n",
      "SB                            37\n",
      "2B                           592\n",
      "3B                            37\n",
      "G                           2247\n",
      "AB                          7962\n",
      "SO                          1175\n",
      "Most Valuable Player           0\n",
      "World Series MVP               0\n",
      "AS_games                       5\n",
      "Gold Glove                     3\n",
      "Rookie of the Year             0\n",
      "Silver Slugger                 4\n",
      "bats_R                         0\n",
      "throws_R                       0\n",
      "Name: 7429, dtype: object\n",
      "nameFirst               Vladimir\n",
      "nameLast                Guerrero\n",
      "HoF                            0\n",
      "Years_Played                  16\n",
      "H                           2590\n",
      "BB                           737\n",
      "HR                           449\n",
      "AVE                     0.317597\n",
      "OBP                     0.374157\n",
      "Slug_Percent            0.552544\n",
      "OPS                     0.931173\n",
      "RBI                         1496\n",
      "R                           1328\n",
      "SB                           181\n",
      "2B                           477\n",
      "3B                            46\n",
      "G                           2147\n",
      "AB                          8155\n",
      "SO                           985\n",
      "Most Valuable Player           1\n",
      "World Series MVP               0\n",
      "AS_games                       9\n",
      "Gold Glove                     0\n",
      "Rookie of the Year             0\n",
      "Silver Slugger                 8\n",
      "bats_R                         1\n",
      "throws_R                       1\n",
      "Name: 6791, dtype: object\n",
      "nameFirst                   Omar\n",
      "nameLast                 Vizquel\n",
      "HoF                            0\n",
      "Years_Played                  24\n",
      "H                           2877\n",
      "BB                          1028\n",
      "HR                            80\n",
      "AVE                     0.271774\n",
      "OBP                     0.336232\n",
      "Slug_Percent            0.352069\n",
      "OPS                     0.688379\n",
      "RBI                          951\n",
      "R                           1445\n",
      "SB                           404\n",
      "2B                           456\n",
      "3B                            77\n",
      "G                           2968\n",
      "AB                         10586\n",
      "SO                          1087\n",
      "Most Valuable Player           0\n",
      "World Series MVP               0\n",
      "AS_games                       3\n",
      "Gold Glove                    11\n",
      "Rookie of the Year             0\n",
      "Silver Slugger                 0\n",
      "bats_R                         0\n",
      "throws_R                       1\n",
      "Name: 17813, dtype: object\n",
      "nameFirst                 Ichiro\n",
      "nameLast                  Suzuki\n",
      "HoF                            0\n",
      "Years_Played                  16\n",
      "H                           3030\n",
      "BB                           626\n",
      "HR                           114\n",
      "AVE                     0.312726\n",
      "OBP                     0.354435\n",
      "Slug_Percent            0.404583\n",
      "OPS                     0.760731\n",
      "RBI                          760\n",
      "R                           1396\n",
      "SB                           508\n",
      "2B                           356\n",
      "3B                            96\n",
      "G                           2500\n",
      "AB                          9689\n",
      "SO                          1037\n",
      "Most Valuable Player           1\n",
      "World Series MVP               0\n",
      "AS_games                      10\n",
      "Gold Glove                    10\n",
      "Rookie of the Year             1\n",
      "Silver Slugger                 3\n",
      "bats_R                         0\n",
      "throws_R                       1\n",
      "Name: 16830, dtype: object\n",
      "nameFirst                  Bobby\n",
      "nameLast                   Abreu\n",
      "HoF                            0\n",
      "Years_Played                  18\n",
      "H                           2470\n",
      "BB                          1476\n",
      "HR                           288\n",
      "AVE                     0.291274\n",
      "OBP                     0.396344\n",
      "Slug_Percent            0.474764\n",
      "OPS                     0.869741\n",
      "RBI                         1363\n",
      "R                           1453\n",
      "SB                           400\n",
      "2B                           574\n",
      "3B                            59\n",
      "G                           2425\n",
      "AB                          8480\n",
      "SO                          1840\n",
      "Most Valuable Player           0\n",
      "World Series MVP               0\n",
      "AS_games                       2\n",
      "Gold Glove                     1\n",
      "Rookie of the Year             0\n",
      "Silver Slugger                 1\n",
      "bats_R                         0\n",
      "throws_R                       1\n",
      "Name: 33, dtype: object\n",
      "nameFirst                 Johnny\n",
      "nameLast                   Damon\n",
      "HoF                            0\n",
      "Years_Played                  18\n",
      "H                           2769\n",
      "BB                          1003\n",
      "HR                           235\n",
      "AVE                     0.284408\n",
      "OBP                     0.351243\n",
      "Slug_Percent            0.432827\n",
      "OPS                      0.78476\n",
      "RBI                         1139\n",
      "R                           1668\n",
      "SB                           408\n",
      "2B                           522\n",
      "3B                           109\n",
      "G                           2490\n",
      "AB                          9736\n",
      "SO                          1257\n",
      "Most Valuable Player           0\n",
      "World Series MVP               0\n",
      "AS_games                       2\n",
      "Gold Glove                     0\n",
      "Rookie of the Year             0\n",
      "Silver Slugger                 0\n",
      "bats_R                         0\n",
      "throws_R                       0\n",
      "Name: 3921, dtype: object\n",
      "nameFirst                Roberto\n",
      "nameLast                  Alomar\n",
      "HoF                            1\n",
      "Years_Played                  17\n",
      "H                           2724\n",
      "BB                          1032\n",
      "HR                           210\n",
      "AVE                     0.300231\n",
      "OBP                     0.371697\n",
      "Slug_Percent            0.442852\n",
      "OPS                     0.814097\n",
      "RBI                         1134\n",
      "R                           1508\n",
      "SB                           474\n",
      "2B                           504\n",
      "3B                            80\n",
      "G                           2379\n",
      "AB                          9073\n",
      "SO                          1140\n",
      "Most Valuable Player           0\n",
      "World Series MVP               0\n",
      "AS_games                      12\n",
      "Gold Glove                    10\n",
      "Rookie of the Year             0\n",
      "Silver Slugger                 4\n",
      "bats_R                         0\n",
      "throws_R                       1\n",
      "Name: 245, dtype: object\n",
      "nameFirst                   Juan\n",
      "nameLast                Gonzalez\n",
      "HoF                            0\n",
      "Years_Played                  17\n",
      "H                           1936\n",
      "BB                           457\n",
      "HR                           434\n",
      "AVE                     0.295302\n",
      "OBP                     0.341223\n",
      "Slug_Percent            0.560708\n",
      "OPS                      0.90392\n",
      "RBI                         1404\n",
      "R                           1061\n",
      "SB                            26\n",
      "2B                           388\n",
      "3B                            25\n",
      "G                           1689\n",
      "AB                          6556\n",
      "SO                          1273\n",
      "Most Valuable Player           2\n",
      "World Series MVP               0\n",
      "AS_games                       3\n",
      "Gold Glove                     0\n",
      "Rookie of the Year             0\n",
      "Silver Slugger                 6\n",
      "bats_R                         1\n",
      "throws_R                       1\n",
      "Name: 6412, dtype: object\n",
      "nameFirst                   Mark\n",
      "nameLast                 McGwire\n",
      "HoF                            0\n",
      "Years_Played                  16\n",
      "H                           1626\n",
      "BB                          1317\n",
      "HR                           583\n",
      "AVE                     0.262809\n",
      "OBP                     0.392191\n",
      "Slug_Percent            0.588169\n",
      "OPS                     0.982318\n",
      "RBI                         1414\n",
      "R                           1167\n",
      "SB                            12\n",
      "2B                           252\n",
      "3B                             6\n",
      "G                           1874\n",
      "AB                          6187\n",
      "SO                          1596\n",
      "Most Valuable Player           0\n",
      "World Series MVP               0\n",
      "AS_games                      12\n",
      "Gold Glove                     1\n",
      "Rookie of the Year             1\n",
      "Silver Slugger                 3\n",
      "bats_R                         1\n",
      "throws_R                       1\n",
      "Name: 11252, dtype: object\n",
      "nameFirst                  Andres\n",
      "nameLast                Galarraga\n",
      "HoF                             0\n",
      "Years_Played                   19\n",
      "H                            2333\n",
      "BB                            583\n",
      "HR                            399\n",
      "AVE                      0.288167\n",
      "OBP                      0.335983\n",
      "Slug_Percent             0.498765\n",
      "OPS                       0.84582\n",
      "RBI                          1425\n",
      "R                            1195\n",
      "SB                            128\n",
      "2B                            444\n",
      "3B                             32\n",
      "G                            2257\n",
      "AB                           8096\n",
      "SO                           2003\n",
      "Most Valuable Player            0\n",
      "World Series MVP                0\n",
      "AS_games                        5\n",
      "Gold Glove                      2\n",
      "Rookie of the Year              0\n",
      "Silver Slugger                  2\n",
      "bats_R                          1\n",
      "throws_R                        1\n",
      "Name: 5861, dtype: object\n",
      "nameFirst                  Jason\n",
      "nameLast                  Giambi\n",
      "HoF                            0\n",
      "Years_Played                  20\n",
      "H                           2010\n",
      "BB                          1366\n",
      "HR                           440\n",
      "AVE                     0.276593\n",
      "OBP                     0.391058\n",
      "Slug_Percent            0.516444\n",
      "OPS                     0.915726\n",
      "RBI                         1441\n",
      "R                           1227\n",
      "SB                            20\n",
      "2B                           405\n",
      "3B                             9\n",
      "G                           2260\n",
      "AB                          7267\n",
      "SO                          1572\n",
      "Most Valuable Player           1\n",
      "World Series MVP               0\n",
      "AS_games                       5\n",
      "Gold Glove                     0\n",
      "Rookie of the Year             0\n",
      "Silver Slugger                 2\n",
      "bats_R                         0\n",
      "throws_R                       1\n",
      "Name: 6148, dtype: object\n",
      "nameFirst                  Jimmy\n",
      "nameLast                 Rollins\n",
      "HoF                            0\n",
      "Years_Played                  17\n",
      "H                           2455\n",
      "BB                           813\n",
      "HR                           231\n",
      "AVE                     0.264149\n",
      "OBP                      0.32334\n",
      "Slug_Percent            0.418442\n",
      "OPS                     0.742623\n",
      "RBI                          936\n",
      "R                           1421\n",
      "SB                           470\n",
      "2B                           511\n",
      "3B                           115\n",
      "G                           2275\n",
      "AB                          9294\n",
      "SO                          1264\n",
      "Most Valuable Player           1\n",
      "World Series MVP               0\n",
      "AS_games                       3\n",
      "Gold Glove                     4\n",
      "Rookie of the Year             0\n",
      "Silver Slugger                 1\n",
      "bats_R                         0\n",
      "throws_R                       1\n",
      "Name: 14771, dtype: object\n",
      "nameFirst                   Jose\n",
      "nameLast                 Canseco\n",
      "HoF                            0\n",
      "Years_Played                  17\n",
      "H                           1877\n",
      "BB                           906\n",
      "HR                           462\n",
      "AVE                     0.265977\n",
      "OBP                     0.349491\n",
      "Slug_Percent            0.514525\n",
      "OPS                     0.867256\n",
      "RBI                         1407\n",
      "R                           1186\n",
      "SB                           200\n",
      "2B                           340\n",
      "3B                            14\n",
      "G                           1887\n",
      "AB                          7057\n",
      "SO                          1942\n",
      "Most Valuable Player           1\n",
      "World Series MVP               0\n",
      "AS_games                       6\n",
      "Gold Glove                     0\n",
      "Rookie of the Year             1\n",
      "Silver Slugger                 4\n",
      "bats_R                         1\n",
      "throws_R                       1\n",
      "Name: 2546, dtype: object\n",
      "nameFirst                  Edgar\n",
      "nameLast                Martinez\n",
      "HoF                            0\n",
      "Years_Played                  18\n",
      "H                           2247\n",
      "BB                          1283\n",
      "HR                           309\n",
      "AVE                     0.311521\n",
      "OBP                      0.41549\n",
      "Slug_Percent            0.515458\n",
      "OPS                      0.93326\n",
      "RBI                         1261\n",
      "R                           1219\n",
      "SB                            49\n",
      "2B                           514\n",
      "3B                            15\n",
      "G                           2055\n",
      "AB                          7213\n",
      "SO                          1202\n",
      "Most Valuable Player           0\n",
      "World Series MVP               0\n",
      "AS_games                       7\n",
      "Gold Glove                     0\n",
      "Rookie of the Year             0\n",
      "Silver Slugger                 5\n",
      "bats_R                         1\n",
      "throws_R                       1\n",
      "Name: 10744, dtype: object\n",
      "nameFirst                    Tim\n",
      "nameLast                  Raines\n",
      "HoF                            1\n",
      "Years_Played                  23\n",
      "H                           2605\n",
      "BB                          1330\n",
      "HR                           170\n",
      "AVE                      0.29362\n",
      "OBP                     0.385709\n",
      "Slug_Percent            0.425045\n",
      "OPS                     0.810413\n",
      "RBI                          980\n",
      "R                           1571\n",
      "SB                           808\n",
      "2B                           430\n",
      "3B                           113\n",
      "G                           2502\n",
      "AB                          8872\n",
      "SO                           966\n",
      "Most Valuable Player           0\n",
      "World Series MVP               0\n",
      "AS_games                       7\n",
      "Gold Glove                     0\n",
      "Rookie of the Year             0\n",
      "Silver Slugger                 1\n",
      "bats_R                         0\n",
      "throws_R                       1\n",
      "Name: 14038, dtype: object\n",
      "nameFirst                  Steve\n",
      "nameLast                  Finley\n",
      "HoF                            0\n",
      "Years_Played                  19\n",
      "H                           2548\n",
      "BB                           844\n",
      "HR                           304\n",
      "AVE                      0.27115\n",
      "OBP                     0.331218\n",
      "Slug_Percent            0.442375\n",
      "OPS                     0.774616\n",
      "RBI                         1167\n",
      "R                           1443\n",
      "SB                           320\n",
      "2B                           449\n",
      "3B                           124\n",
      "G                           2583\n",
      "AB                          9397\n",
      "SO                          1299\n",
      "Most Valuable Player           0\n",
      "World Series MVP               0\n",
      "AS_games                       2\n",
      "Gold Glove                     5\n",
      "Rookie of the Year             0\n",
      "Silver Slugger                 0\n",
      "bats_R                         0\n",
      "throws_R                       0\n",
      "Name: 5371, dtype: object\n",
      "nameFirst                   John\n",
      "nameLast                  Olerud\n",
      "HoF                            0\n",
      "Years_Played                  17\n",
      "H                           2239\n",
      "BB                          1275\n",
      "HR                           255\n",
      "AVE                     0.294916\n",
      "OBP                     0.396301\n",
      "Slug_Percent            0.464963\n",
      "OPS                      0.86293\n",
      "RBI                         1230\n",
      "R                           1139\n",
      "SB                            11\n",
      "2B                           500\n",
      "3B                            13\n",
      "G                           2234\n",
      "AB                          7592\n",
      "SO                          1016\n",
      "Most Valuable Player           0\n",
      "World Series MVP               0\n",
      "AS_games                       2\n",
      "Gold Glove                     3\n",
      "Rookie of the Year             0\n",
      "Silver Slugger                 0\n",
      "bats_R                         0\n",
      "throws_R                       0\n",
      "Name: 12810, dtype: object\n",
      "nameFirst                   Adam\n",
      "nameLast                    Dunn\n",
      "HoF                            0\n",
      "Years_Played                  14\n",
      "H                           1631\n",
      "BB                          1317\n",
      "HR                           462\n",
      "AVE                     0.236961\n",
      "OBP                     0.359512\n",
      "Slug_Percent            0.489757\n",
      "OPS                     0.854158\n",
      "RBI                         1168\n",
      "R                           1097\n",
      "SB                            63\n",
      "2B                           334\n",
      "3B                            10\n",
      "G                           2001\n",
      "AB                          6883\n",
      "SO                          2379\n",
      "Most Valuable Player           0\n",
      "World Series MVP               0\n",
      "AS_games                       2\n",
      "Gold Glove                     0\n",
      "Rookie of the Year             0\n",
      "Silver Slugger                 0\n",
      "bats_R                         0\n",
      "throws_R                       1\n",
      "Name: 4734, dtype: object\n",
      "nameFirst                  Kenny\n",
      "nameLast                  Lofton\n",
      "HoF                            0\n",
      "Years_Played                  17\n",
      "H                           2428\n",
      "BB                           945\n",
      "HR                           130\n",
      "AVE                     0.299015\n",
      "OBP                      0.37209\n",
      "Slug_Percent            0.422783\n",
      "OPS                     0.794427\n",
      "RBI                          781\n",
      "R                           1528\n",
      "SB                           622\n",
      "2B                           383\n",
      "3B                           116\n",
      "G                           2103\n",
      "AB                          8120\n",
      "SO                          1016\n",
      "Most Valuable Player           0\n",
      "World Series MVP               0\n",
      "AS_games                       6\n",
      "Gold Glove                     4\n",
      "Rookie of the Year             0\n",
      "Silver Slugger                 0\n",
      "bats_R                         0\n",
      "throws_R                       0\n",
      "Name: 10110, dtype: object\n",
      "nameFirst                   Paul\n",
      "nameLast                 Konerko\n",
      "HoF                            0\n",
      "Years_Played                  18\n",
      "H                           2340\n",
      "BB                           921\n",
      "HR                           439\n",
      "AVE                     0.278804\n",
      "OBP                     0.350118\n",
      "Slug_Percent            0.486477\n",
      "OPS                     0.840538\n",
      "RBI                         1412\n",
      "R                           1162\n",
      "SB                             9\n",
      "2B                           410\n",
      "3B                             8\n",
      "G                           2349\n",
      "AB                          8393\n",
      "SO                          1391\n",
      "Most Valuable Player           0\n",
      "World Series MVP               0\n",
      "AS_games                       6\n",
      "Gold Glove                     0\n",
      "Rookie of the Year             0\n",
      "Silver Slugger                 0\n",
      "bats_R                         1\n",
      "throws_R                       1\n",
      "Name: 9327, dtype: object\n",
      "nameFirst                  Larry\n",
      "nameLast                  Walker\n",
      "HoF                            0\n",
      "Years_Played                  17\n",
      "H                           2160\n",
      "BB                           913\n",
      "HR                           383\n",
      "AVE                     0.312726\n",
      "OBP                     0.392967\n",
      "Slug_Percent            0.565224\n",
      "OPS                     0.965448\n",
      "RBI                         1311\n",
      "R                           1355\n",
      "SB                           230\n",
      "2B                           471\n",
      "3B                            62\n",
      "G                           1988\n",
      "AB                          6907\n",
      "SO                          1231\n",
      "Most Valuable Player           1\n",
      "World Series MVP               0\n",
      "AS_games                       5\n",
      "Gold Glove                     7\n",
      "Rookie of the Year             0\n",
      "Silver Slugger                 3\n",
      "bats_R                         0\n",
      "throws_R                       1\n",
      "Name: 17921, dtype: object\n",
      "nameFirst                  Scott\n",
      "nameLast                   Rolen\n",
      "HoF                            0\n",
      "Years_Played                  17\n",
      "H                           2077\n",
      "BB                           899\n",
      "HR                           316\n",
      "AVE                     0.280752\n",
      "OBP                     0.358684\n",
      "Slug_Percent            0.490403\n",
      "OPS                     0.854733\n",
      "RBI                         1287\n",
      "R                           1211\n",
      "SB                           118\n",
      "2B                           517\n",
      "3B                            43\n",
      "G                           2038\n",
      "AB                          7398\n",
      "SO                          1410\n",
      "Most Valuable Player           0\n",
      "World Series MVP               0\n",
      "AS_games                       7\n",
      "Gold Glove                     8\n",
      "Rookie of the Year             1\n",
      "Silver Slugger                 1\n",
      "bats_R                         1\n",
      "throws_R                       1\n",
      "Name: 14766, dtype: object\n",
      "nameFirst                 Andruw\n",
      "nameLast                   Jones\n",
      "HoF                            0\n",
      "Years_Played                  17\n",
      "H                           1933\n",
      "BB                           891\n",
      "HR                           434\n",
      "AVE                     0.254376\n",
      "OBP                     0.332627\n",
      "Slug_Percent             0.48559\n",
      "OPS                     0.822966\n",
      "RBI                         1289\n",
      "R                           1204\n",
      "SB                           152\n",
      "2B                           383\n",
      "3B                            36\n",
      "G                           2196\n",
      "AB                          7599\n",
      "SO                          1748\n",
      "Most Valuable Player           0\n",
      "World Series MVP               0\n",
      "AS_games                       5\n",
      "Gold Glove                    10\n",
      "Rookie of the Year             0\n",
      "Silver Slugger                 1\n",
      "bats_R                         1\n",
      "throws_R                       1\n",
      "Name: 8627, dtype: object\n"
     ]
    }
   ],
   "source": [
    "for i, row in hof_predictions.head(50).iterrows():\n",
    "    print(new_data.iloc[i,1:28])"
   ]
  }
 ],
 "metadata": {
  "anaconda-cloud": {},
  "kernelspec": {
   "display_name": "Python [conda root]",
   "language": "python",
   "name": "conda-root-py"
  },
  "language_info": {
   "codemirror_mode": {
    "name": "ipython",
    "version": 3
   },
   "file_extension": ".py",
   "mimetype": "text/x-python",
   "name": "python",
   "nbconvert_exporter": "python",
   "pygments_lexer": "ipython3",
   "version": "3.5.2"
  }
 },
 "nbformat": 4,
 "nbformat_minor": 1
}
