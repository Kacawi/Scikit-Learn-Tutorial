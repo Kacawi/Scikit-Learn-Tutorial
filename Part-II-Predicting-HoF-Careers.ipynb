{
 "cells": [
  {
   "cell_type": "markdown",
   "metadata": {},
   "source": [
    "## Part II: Predicting Hall of Fame Careers"
   ]
  },
  {
   "cell_type": "code",
   "execution_count": 33,
   "metadata": {
    "collapsed": true
   },
   "outputs": [],
   "source": [
    "# Connecting to SQLite Database\n",
    "import pandas as pd\n",
    "import sqlite3\n",
    "conn = sqlite3.connect(\"lahman2016.sqlite\")"
   ]
  },
  {
   "cell_type": "code",
   "execution_count": 34,
   "metadata": {
    "collapsed": true
   },
   "outputs": [],
   "source": [
    "queryMaster = 'select playerID,nameFirst,nameLast,bats,throws,debut,finalGame from Master;'\n",
    "queryPitching = 'select * from Pitching;'\n",
    "queryFielding = 'select * from Fielding;'\n",
    "queryAwards = 'select playerID,awardID,yearID from AwardsPlayers;'\n",
    "queryAllStar = 'select playerID, YearID from AllstarFull;'\n",
    "queryHOF = 'select playerID,yearid from HallofFame where inducted == \"Y\" and category == \"Player\";'"
   ]
  },
  {
   "cell_type": "code",
   "execution_count": 35,
   "metadata": {
    "collapsed": false
   },
   "outputs": [],
   "source": [
    "batting_df = pd.read_csv('Batting.csv')"
   ]
  },
  {
   "cell_type": "code",
   "execution_count": 36,
   "metadata": {
    "collapsed": false
   },
   "outputs": [],
   "source": [
    "master = conn.execute(queryMaster).fetchall()\n",
    "master_df = pd.DataFrame(master)\n",
    "pitching = conn.execute(queryPitching).fetchall()\n",
    "pitching_df = pd.DataFrame(pitching)\n",
    "fielding = conn.execute(queryFielding).fetchall()\n",
    "fielding_df = pd.DataFrame(fielding)\n",
    "awards = conn.execute(queryAwards).fetchall()\n",
    "awards_df = pd.DataFrame(awards)\n",
    "allstar = conn.execute(queryAllStar).fetchall()\n",
    "allstar_df = pd.DataFrame(allstar)\n",
    "hof = conn.execute(queryHOF).fetchall()\n",
    "hof_df = pd.DataFrame(hof)"
   ]
  },
  {
   "cell_type": "code",
   "execution_count": 37,
   "metadata": {
    "collapsed": false
   },
   "outputs": [],
   "source": [
    "master_cols = ['playerID','nameFirst','nameLast','bats','throws','debut','finalGame']\n",
    "master_df.columns = master_cols\n",
    "\n",
    "pitching_cols = ['playerID','yearID','stint','teamID','lgID','W','L','G','GS','CG','SHO',\n",
    "'SV','IPOuts','H','ER','HR','BB','SO','BAOpp','ERA','IBB','WP','HBP','BK','BFP','GF','R','SH','SF','GIDP']\n",
    "pitching_df.columns = pitching_cols\n",
    "\n",
    "fielding_cols = ['playerID','yearID','stint','teamID','lgID','Pos','G','GS','InnOuts','PO','A','E','DP','PB','WP','SB','CS','ZR']\n",
    "fielding_df.columns = fielding_cols\n",
    "\n",
    "awards_cols = ['playerID','awardID','yearID']\n",
    "awards_df.columns = awards_cols\n",
    "\n",
    "allstar_cols = ['playerID','YearID']\n",
    "allstar_df.columns = allstar_cols\n",
    "\n",
    "hof_cols = ['playerID','yearid']\n",
    "hof_df.columns = hof_cols"
   ]
  },
  {
   "cell_type": "code",
   "execution_count": 38,
   "metadata": {
    "collapsed": false
   },
   "outputs": [
    {
     "name": "stdout",
     "output_type": "stream",
     "text": [
      "    playerID  yearID  stint teamID lgID   G   AB   R   H  2B  ...    RBI   SB  \\\n",
      "0  abercda01    1871      1    TRO  NaN   1    4   0   0   0  ...    0.0  0.0   \n",
      "1   addybo01    1871      1    RC1  NaN  25  118  30  32   6  ...   13.0  8.0   \n",
      "2  allisar01    1871      1    CL1  NaN  29  137  28  40   4  ...   19.0  3.0   \n",
      "3  allisdo01    1871      1    WS3  NaN  27  133  28  44  10  ...   27.0  1.0   \n",
      "4  ansonca01    1871      1    RC1  NaN  25  120  29  39  11  ...   16.0  6.0   \n",
      "\n",
      "    CS  BB   SO  IBB  HBP  SH  SF  GIDP  \n",
      "0  0.0   0  0.0  NaN  NaN NaN NaN   NaN  \n",
      "1  1.0   4  0.0  NaN  NaN NaN NaN   NaN  \n",
      "2  1.0   2  5.0  NaN  NaN NaN NaN   NaN  \n",
      "3  1.0   0  2.0  NaN  NaN NaN NaN   NaN  \n",
      "4  2.0   2  1.0  NaN  NaN NaN NaN   NaN  \n",
      "\n",
      "[5 rows x 22 columns]\n"
     ]
    }
   ],
   "source": [
    "print(batting_df.head())"
   ]
  }
 ],
 "metadata": {
  "anaconda-cloud": {},
  "kernelspec": {
   "display_name": "Python [conda root]",
   "language": "python",
   "name": "conda-root-py"
  },
  "language_info": {
   "codemirror_mode": {
    "name": "ipython",
    "version": 3
   },
   "file_extension": ".py",
   "mimetype": "text/x-python",
   "name": "python",
   "nbconvert_exporter": "python",
   "pygments_lexer": "ipython3",
   "version": "3.5.2"
  }
 },
 "nbformat": 4,
 "nbformat_minor": 1
}
