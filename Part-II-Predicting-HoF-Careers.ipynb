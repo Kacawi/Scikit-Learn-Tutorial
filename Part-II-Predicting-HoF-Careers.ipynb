{
 "cells": [
  {
   "cell_type": "markdown",
   "metadata": {},
   "source": [
    "## Part II: Predicting Hall of Fame Careers"
   ]
  },
  {
   "cell_type": "code",
   "execution_count": 32,
   "metadata": {
    "collapsed": true
   },
   "outputs": [],
   "source": [
    "# Connecting to SQLite Database\n",
    "import pandas as pd\n",
    "import sqlite3\n",
    "conn = sqlite3.connect(\"lahman2016.sqlite\")"
   ]
  },
  {
   "cell_type": "code",
   "execution_count": 33,
   "metadata": {
    "collapsed": true
   },
   "outputs": [],
   "source": [
    "queryMaster = 'select playerID,nameFirst,nameLast,bats,throws,debut,finalGame from Master;'\n",
    "queryPitching = 'select * from Pitching;'\n",
    "queryFielding = 'select * from Fielding;'\n",
    "queryAwards = 'select playerID,awardID,yearID from AwardsPlayers;'\n",
    "queryAllStar = 'select playerID, YearID from AllstarFull;'\n",
    "queryHOF = 'select playerID,yearid from HallofFame where inducted == \"Y\" and category == \"Player\";'"
   ]
  },
  {
   "cell_type": "code",
   "execution_count": 34,
   "metadata": {
    "collapsed": false
   },
   "outputs": [],
   "source": [
    "batting_df = pd.read_csv('Batting.csv')"
   ]
  },
  {
   "cell_type": "code",
   "execution_count": 35,
   "metadata": {
    "collapsed": false
   },
   "outputs": [],
   "source": [
    "master = conn.execute(queryMaster).fetchall()\n",
    "master_df = pd.DataFrame(master)\n",
    "pitching = conn.execute(queryPitching).fetchall()\n",
    "pitching_df = pd.DataFrame(pitching)\n",
    "fielding = conn.execute(queryFielding).fetchall()\n",
    "fielding_df = pd.DataFrame(fielding)\n",
    "awards = conn.execute(queryAwards).fetchall()\n",
    "awards_df = pd.DataFrame(awards)\n",
    "allstar = conn.execute(queryAllStar).fetchall()\n",
    "allstar_df = pd.DataFrame(allstar)\n",
    "hof = conn.execute(queryHOF).fetchall()\n",
    "hof_df = pd.DataFrame(hof)"
   ]
  },
  {
   "cell_type": "code",
   "execution_count": 36,
   "metadata": {
    "collapsed": false
   },
   "outputs": [],
   "source": [
    "master_cols = ['playerID','nameFirst','nameLast','bats','throws','debut','finalGame']\n",
    "master_df.columns = master_cols\n",
    "\n",
    "pitching_cols = ['playerID','yearID','stint','teamID','lgID','W','L','G','GS','CG','SHO',\n",
    "'SV','IPOuts','H','ER','HR','BB','SO','BAOpp','ERA','IBB','WP','HBP','BK','BFP','GF','R','SH','SF','GIDP']\n",
    "pitching_df.columns = pitching_cols\n",
    "\n",
    "fielding_cols = ['playerID','yearID','stint','teamID','lgID','Pos','G','GS','InnOuts','PO','A','E','DP','PB','WP','SB','CS','ZR']\n",
    "fielding_df.columns = fielding_cols\n",
    "\n",
    "awards_cols = ['playerID','awardID','yearID']\n",
    "awards_df.columns = awards_cols\n",
    "\n",
    "allstar_cols = ['playerID','YearID']\n",
    "allstar_df.columns = allstar_cols\n",
    "\n",
    "hof_cols = ['playerID','yearid']\n",
    "hof_df.columns = hof_cols"
   ]
  },
  {
   "cell_type": "code",
   "execution_count": 37,
   "metadata": {
    "collapsed": false
   },
   "outputs": [
    {
     "name": "stdout",
     "output_type": "stream",
     "text": [
      "    playerID  yearID  stint teamID lgID   G   AB   R   H  2B  ...    RBI   SB  \\\n",
      "0  abercda01    1871      1    TRO  NaN   1    4   0   0   0  ...    0.0  0.0   \n",
      "1   addybo01    1871      1    RC1  NaN  25  118  30  32   6  ...   13.0  8.0   \n",
      "2  allisar01    1871      1    CL1  NaN  29  137  28  40   4  ...   19.0  3.0   \n",
      "3  allisdo01    1871      1    WS3  NaN  27  133  28  44  10  ...   27.0  1.0   \n",
      "4  ansonca01    1871      1    RC1  NaN  25  120  29  39  11  ...   16.0  6.0   \n",
      "\n",
      "    CS  BB   SO  IBB  HBP  SH  SF  GIDP  \n",
      "0  0.0   0  0.0  NaN  NaN NaN NaN   NaN  \n",
      "1  1.0   4  0.0  NaN  NaN NaN NaN   NaN  \n",
      "2  1.0   2  5.0  NaN  NaN NaN NaN   NaN  \n",
      "3  1.0   0  2.0  NaN  NaN NaN NaN   NaN  \n",
      "4  2.0   2  1.0  NaN  NaN NaN NaN   NaN  \n",
      "\n",
      "[5 rows x 22 columns]\n"
     ]
    }
   ],
   "source": [
    "print(batting_df.head())"
   ]
  },
  {
   "cell_type": "code",
   "execution_count": 38,
   "metadata": {
    "collapsed": false
   },
   "outputs": [],
   "source": [
    "player_stats = {}\n",
    "for i, row in batting_df.iterrows():\n",
    "    playerID = row['playerID']\n",
    "    G = row['G']\n",
    "    AB = row['AB']\n",
    "    R = row['R']\n",
    "    H = row['H']\n",
    "    twoB = row['2B']\n",
    "    threeB = row['3B']\n",
    "    HR = row['HR']\n",
    "    RBI = row['RBI']\n",
    "    SB = row['SB']\n",
    "    CS = row['CS']\n",
    "    BB = row['BB']\n",
    "    SO = row['SO']\n",
    "    IBB = row['IBB']\n",
    "    HBP = row['HBP']\n",
    "    SH = row['SH']\n",
    "    SF = row['SF']\n",
    "    GIDP = row['GIDP']\n",
    "    if playerID in player_stats:\n",
    "        player_stats[playerID]['G'] = player_stats[playerID]['G'] + G\n",
    "        player_stats[playerID]['AB'] = player_stats[playerID]['AB'] + AB\n",
    "        player_stats[playerID]['R'] = player_stats[playerID]['R'] + R\n",
    "        player_stats[playerID]['H'] = player_stats[playerID]['H'] + H\n",
    "        player_stats[playerID]['2B'] = player_stats[playerID]['2B'] + twoB\n",
    "        player_stats[playerID]['3B'] = player_stats[playerID]['3B'] + threeB\n",
    "        player_stats[playerID]['HR'] = player_stats[playerID]['HR'] + HR\n",
    "        player_stats[playerID]['RBI'] = player_stats[playerID]['RBI'] + RBI\n",
    "        player_stats[playerID]['SB'] = player_stats[playerID]['SB'] + SB\n",
    "        player_stats[playerID]['CS'] = player_stats[playerID]['CS'] + CS\n",
    "        player_stats[playerID]['BB'] = player_stats[playerID]['BB'] + BB\n",
    "        player_stats[playerID]['SO'] = player_stats[playerID]['SO'] + SO\n",
    "        player_stats[playerID]['IBB'] = player_stats[playerID]['IBB'] + IBB\n",
    "        player_stats[playerID]['HBP'] = player_stats[playerID]['HBP'] + HBP\n",
    "        player_stats[playerID]['SH'] = player_stats[playerID]['SH'] + SH\n",
    "        player_stats[playerID]['GIDP'] = player_stats[playerID]['GIDP'] + GIDP\n",
    "    else:\n",
    "        player_stats[playerID] = {}\n",
    "        player_stats[playerID]['G'] = G\n",
    "        player_stats[playerID]['AB'] = AB\n",
    "        player_stats[playerID]['R'] = R\n",
    "        player_stats[playerID]['H'] = H\n",
    "        player_stats[playerID]['2B'] = twoB\n",
    "        player_stats[playerID]['3B'] = threeB\n",
    "        player_stats[playerID]['HR'] = HR\n",
    "        player_stats[playerID]['RBI'] = RBI\n",
    "        player_stats[playerID]['SB'] = SB\n",
    "        player_stats[playerID]['CS'] = CS\n",
    "        player_stats[playerID]['BB'] = BB\n",
    "        player_stats[playerID]['SO'] = SO\n",
    "        player_stats[playerID]['IBB'] = IBB\n",
    "        player_stats[playerID]['HBP'] = HBP\n",
    "        player_stats[playerID]['SH'] = SH\n",
    "        player_stats[playerID]['GIDP'] = GIDP        \n"
   ]
  },
  {
   "cell_type": "code",
   "execution_count": 39,
   "metadata": {
    "collapsed": false
   },
   "outputs": [],
   "source": [
    "pitcher_list = []\n",
    "for i, row in pitching_df.iterrows():\n",
    "    playerID = row['playerID']\n",
    "    Wp = row['W']\n",
    "    Lp = row['L']\n",
    "    Gp = row['G']\n",
    "    GSp = row['GS']\n",
    "    CGp = row['CG']\n",
    "    SHOp = row['SHO']\n",
    "    SVp = row['SV']\n",
    "    IPOutsp = row['IPOuts']\n",
    "    Hp = row['H']\n",
    "    ERp = row['ER']\n",
    "    HRp = row['HR']\n",
    "    BBp = row['BB']\n",
    "    SOp = row['SO']\n",
    "    IBBp = row['IBB']\n",
    "    WPp = row['WP']\n",
    "    HBPp = row['HBP']\n",
    "    BKp = row['BK']\n",
    "    BFPp = row['BFP']\n",
    "    GFp = row['GF']\n",
    "    Rp = row['R']\n",
    "    SHp = row['SH']\n",
    "    SFp = row['SF']\n",
    "    GIDPp = row['GIDP']\n",
    "    if playerID in player_stats and playerID in pitcher_list:\n",
    "        player_stats[playerID]['Wp'] = player_stats[playerID]['Wp'] + Wp\n",
    "        player_stats[playerID]['Lp'] = player_stats[playerID]['Lp'] + Lp\n",
    "        player_stats[playerID]['Gp'] = player_stats[playerID]['Gp'] + Gp\n",
    "        player_stats[playerID]['GSp'] = player_stats[playerID]['GSp'] + GSp\n",
    "        player_stats[playerID]['CGp'] = player_stats[playerID]['CGp'] + CGp\n",
    "        player_stats[playerID]['SHOp'] = player_stats[playerID]['SHOp'] + SHOp\n",
    "        player_stats[playerID]['SVp'] = player_stats[playerID]['SVp'] + SVp\n",
    "        player_stats[playerID]['IPOutsp'] = player_stats[playerID]['IPOutsp'] + IPOutsp\n",
    "        player_stats[playerID]['Hp'] = player_stats[playerID]['Hp'] + Hp\n",
    "        player_stats[playerID]['ERp'] = player_stats[playerID]['ERp'] + ERp\n",
    "        player_stats[playerID]['HRp'] = player_stats[playerID]['HRp'] + HRp\n",
    "        player_stats[playerID]['BBp'] = player_stats[playerID]['BBp'] + BBp\n",
    "        player_stats[playerID]['SOp'] = player_stats[playerID]['SOp'] + SOp\n",
    "        player_stats[playerID]['IBBp'] = player_stats[playerID]['IBBp'] + IBBp\n",
    "        player_stats[playerID]['WPp'] = player_stats[playerID]['WPp'] + WPp\n",
    "        player_stats[playerID]['HBPp'] = player_stats[playerID]['HBPp'] + HBPp\n",
    "        player_stats[playerID]['BKp'] = player_stats[playerID]['BKp'] + BKp\n",
    "        player_stats[playerID]['BFPp'] = player_stats[playerID]['BFPp'] + BFPp\n",
    "        player_stats[playerID]['GFp'] = player_stats[playerID]['GFp'] + GFp\n",
    "        player_stats[playerID]['Rp'] = player_stats[playerID]['Rp'] + Rp\n",
    "        player_stats[playerID]['SHp'] = player_stats[playerID]['SHp'] + SHp\n",
    "        player_stats[playerID]['SFp'] = player_stats[playerID]['SFp'] + SFp\n",
    "        player_stats[playerID]['GIDPp'] = player_stats[playerID]['GIDPp'] + GIDPp\n",
    "    else:\n",
    "        pitcher_list.append(playerID)\n",
    "        player_stats[playerID]['Wp'] = Wp\n",
    "        player_stats[playerID]['Lp'] = Lp\n",
    "        player_stats[playerID]['Gp'] = Gp\n",
    "        player_stats[playerID]['GSp'] = GSp\n",
    "        player_stats[playerID]['CGp'] = CGp\n",
    "        player_stats[playerID]['SHOp'] = SHOp\n",
    "        player_stats[playerID]['SVp'] = SVp\n",
    "        player_stats[playerID]['IPOutsp'] = IPOutsp\n",
    "        player_stats[playerID]['Hp'] = Hp\n",
    "        player_stats[playerID]['ERp'] = ERp\n",
    "        player_stats[playerID]['HRp'] = HRp\n",
    "        player_stats[playerID]['BBp'] = BBp\n",
    "        player_stats[playerID]['SOp'] = SOp\n",
    "        player_stats[playerID]['IBBp'] = IBBp\n",
    "        player_stats[playerID]['WPp'] = WPp\n",
    "        player_stats[playerID]['HBPp'] = HBPp\n",
    "        player_stats[playerID]['BKp'] = BKp\n",
    "        player_stats[playerID]['BFPp'] = BFPp\n",
    "        player_stats[playerID]['GFp'] = GFp\n",
    "        player_stats[playerID]['Rp'] = Rp\n",
    "        player_stats[playerID]['SHp'] = SHp\n",
    "        player_stats[playerID]['SFp'] = SFp\n",
    "        player_stats[playerID]['GIDPp'] = GIDPp\n",
    "\n",
    "        "
   ]
  },
  {
   "cell_type": "code",
   "execution_count": 40,
   "metadata": {
    "collapsed": true
   },
   "outputs": [],
   "source": [
    "fielder_list = []\n",
    "for i, row in fielding_df.iterrows():\n",
    "    playerID = row['playerID']\n",
    "    Gf = row['G']\n",
    "    GSf = row['GS']\n",
    "    InnOutsf = row['InnOuts']\n",
    "    POf = row['PO']\n",
    "    Af = row['A']\n",
    "    Ef = row['E']\n",
    "    DPf = row['DP']\n",
    "    PBfc = row['PB']\n",
    "    WPfc = row['WP']\n",
    "    SBfc = row['SB']\n",
    "    CSfc = row['CS']\n",
    "    if playerID in player_stats and playerID in fielder_list:\n",
    "        player_stats[playerID]['Gf'] = player_stats[playerID]['Gf'] + Gf\n",
    "        player_stats[playerID]['GSf'] = player_stats[playerID]['GSf'] + GSf\n",
    "        player_stats[playerID]['InnOutsf'] = player_stats[playerID]['InnOutsf'] + InnOutsf\n",
    "        player_stats[playerID]['POf'] = player_stats[playerID]['POf'] + POf\n",
    "        player_stats[playerID]['Af'] = player_stats[playerID]['Af'] + Af\n",
    "        player_stats[playerID]['Ef'] = player_stats[playerID]['Ef'] + Ef\n",
    "        player_stats[playerID]['DPf'] = player_stats[playerID]['DPf'] + DPf\n",
    "        player_stats[playerID]['PBfc'] = player_stats[playerID]['PBfc'] + PBfc\n",
    "        player_stats[playerID]['WPfc'] = player_stats[playerID]['WPfc'] + WPfc\n",
    "        player_stats[playerID]['SBfc'] = player_stats[playerID]['SBfc'] + SBfc\n",
    "        player_stats[playerID]['CSfc'] = player_stats[playerID]['CSfc'] + CSfc\n",
    "    else:\n",
    "        fielder_list.append(playerID)\n",
    "        player_stats[playerID]['Gf'] = Gf\n",
    "        player_stats[playerID]['GSf'] = GSf\n",
    "        player_stats[playerID]['InnOutsf'] = InnOutsf\n",
    "        player_stats[playerID]['POf'] = POf\n",
    "        player_stats[playerID]['Af'] = Af\n",
    "        player_stats[playerID]['Ef'] = Ef\n",
    "        player_stats[playerID]['DPf'] = DPf\n",
    "        player_stats[playerID]['PBfc'] = PBfc\n",
    "        player_stats[playerID]['WPfc'] = WPfc\n",
    "        player_stats[playerID]['SBfc'] = SBfc\n",
    "        player_stats[playerID]['CSfc'] = CSfc"
   ]
  },
  {
   "cell_type": "code",
   "execution_count": 41,
   "metadata": {
    "collapsed": false
   },
   "outputs": [
    {
     "name": "stdout",
     "output_type": "stream",
     "text": [
      "250\n",
      "19105\n"
     ]
    }
   ],
   "source": [
    "print(len(hof_df))\n",
    "print(len(master_df))"
   ]
  },
  {
   "cell_type": "code",
   "execution_count": 42,
   "metadata": {
    "collapsed": false
   },
   "outputs": [
    {
     "name": "stdout",
     "output_type": "stream",
     "text": [
      "{'johnsch01': {'GSf': nan, 'DPf': 0.0, 'G': 6, '3B': 1, 'POf': 8, 'SBfc': nan, 'InnOutsf': nan, '2B': 0, 'GIDP': nan, 'CSfc': nan, 'SB': 0.0, 'IBB': nan, 'BB': 1, 'CS': nan, 'RBI': 2.0, 'Gf': 4, 'Ef': 0.0, 'AB': 16, 'SO': nan, 'HBP': 1.0, 'Af': 0.0, 'PBfc': nan, 'SH': 0.0, 'H': 4, 'HR': 0, 'R': 2, 'WPfc': nan}, 'mcpheky01': {'DPf': 0.0, 'SHOp': 0, 'GSp': 3, 'SBfc': nan, 'SHp': 1.0, 'Wp': 0, 'GFp': 2.0, '2B': 0, 'BFPp': 107.0, 'IBB': 0.0, 'ERp': 8, 'CS': 0.0, 'G': 10, 'Lp': 2, 'Ef': 0.0, 'WPfc': nan, 'BBp': 7, 'SH': 0.0, 'Hp': 24, 'HR': 0, 'R': 0, 'IPOutsp': 79, 'Rp': 8, 'GSf': 3.0, 'GIDPp': 3.0, 'BKp': 1, 'CGp': 0, 'SOp': 21, 'Af': 1.0, 'WPp': 0.0, 'POf': 3, 'PBfc': nan, 'InnOutsf': 79.0, 'AB': 5, 'GIDP': 0.0, 'IBBp': 0.0, 'CSfc': nan, 'SB': 0.0, 'Gp': 10, 'BB': 1, 'HBPp': 2.0, 'RBI': 0.0, 'Gf': 10, 'SVp': 0, 'HRp': 3, 'SO': 3.0, 'HBP': 0.0, '3B': 0, 'SFp': 0.0, 'H': 0}}\n"
     ]
    }
   ],
   "source": [
    "print(dict(list(player_stats.items())[0:2]))"
   ]
  }
 ],
 "metadata": {
  "anaconda-cloud": {},
  "kernelspec": {
   "display_name": "Python [conda root]",
   "language": "python",
   "name": "conda-root-py"
  },
  "language_info": {
   "codemirror_mode": {
    "name": "ipython",
    "version": 3
   },
   "file_extension": ".py",
   "mimetype": "text/x-python",
   "name": "python",
   "nbconvert_exporter": "python",
   "pygments_lexer": "ipython3",
   "version": "3.5.2"
  }
 },
 "nbformat": 4,
 "nbformat_minor": 1
}
