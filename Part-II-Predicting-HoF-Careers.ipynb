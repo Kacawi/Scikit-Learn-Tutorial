{
 "cells": [
  {
   "cell_type": "markdown",
   "metadata": {},
   "source": [
    "## Part II: Predicting Hall of Fame Careers"
   ]
  },
  {
   "cell_type": "code",
   "execution_count": 70,
   "metadata": {
    "collapsed": true
   },
   "outputs": [],
   "source": [
    "# Connecting to SQLite Database\n",
    "import pandas as pd\n",
    "import sqlite3\n",
    "conn = sqlite3.connect(\"lahman2016.sqlite\")"
   ]
  },
  {
   "cell_type": "code",
   "execution_count": 71,
   "metadata": {
    "collapsed": true
   },
   "outputs": [],
   "source": [
    "queryMaster = 'select playerID,nameFirst,nameLast,bats,throws,debut,finalGame from Master;'\n",
    "queryPitching = 'select * from Pitching;'\n",
    "queryFielding = 'select * from Fielding;'\n",
    "queryAwards = 'select playerID,awardID,yearID from AwardsPlayers;'\n",
    "queryAllStar = 'select playerID, YearID from AllstarFull;'\n",
    "queryHOF = 'select playerID,yearid from HallofFame where inducted == \"Y\" and category == \"Player\";'"
   ]
  },
  {
   "cell_type": "code",
   "execution_count": 72,
   "metadata": {
    "collapsed": false
   },
   "outputs": [],
   "source": [
    "batting_df = pd.read_csv('Batting.csv')"
   ]
  },
  {
   "cell_type": "code",
   "execution_count": 73,
   "metadata": {
    "collapsed": false
   },
   "outputs": [],
   "source": [
    "master = conn.execute(queryMaster).fetchall()\n",
    "master_df = pd.DataFrame(master)\n",
    "pitching = conn.execute(queryPitching).fetchall()\n",
    "pitching_df = pd.DataFrame(pitching)\n",
    "fielding = conn.execute(queryFielding).fetchall()\n",
    "fielding_df = pd.DataFrame(fielding)\n",
    "awards = conn.execute(queryAwards).fetchall()\n",
    "awards_df = pd.DataFrame(awards)\n",
    "allstar = conn.execute(queryAllStar).fetchall()\n",
    "allstar_df = pd.DataFrame(allstar)\n",
    "hof = conn.execute(queryHOF).fetchall()\n",
    "hof_df = pd.DataFrame(hof)"
   ]
  },
  {
   "cell_type": "code",
   "execution_count": 74,
   "metadata": {
    "collapsed": false
   },
   "outputs": [],
   "source": [
    "master_cols = ['playerID','nameFirst','nameLast','bats','throws','debut','finalGame']\n",
    "master_df.columns = master_cols\n",
    "\n",
    "pitching_cols = ['playerID','yearID','stint','teamID','lgID','W','L','G','GS','CG','SHO',\n",
    "'SV','IPOuts','H','ER','HR','BB','SO','BAOpp','ERA','IBB','WP','HBP','BK','BFP','GF','R','SH','SF','GIDP']\n",
    "pitching_df.columns = pitching_cols\n",
    "\n",
    "fielding_cols = ['playerID','yearID','stint','teamID','lgID','Pos','G','GS','InnOuts','PO','A','E','DP','PB','WP','SB','CS','ZR']\n",
    "fielding_df.columns = fielding_cols\n",
    "\n",
    "awards_cols = ['playerID','awardID','yearID']\n",
    "awards_df.columns = awards_cols\n",
    "\n",
    "allstar_cols = ['playerID','YearID']\n",
    "allstar_df.columns = allstar_cols\n",
    "\n",
    "hof_cols = ['playerID','yearid']\n",
    "hof_df.columns = hof_cols"
   ]
  },
  {
   "cell_type": "code",
   "execution_count": 75,
   "metadata": {
    "collapsed": false
   },
   "outputs": [
    {
     "name": "stdout",
     "output_type": "stream",
     "text": [
      "    playerID  yearID  stint teamID lgID   G   AB   R   H  2B  ...    RBI   SB  \\\n",
      "0  abercda01    1871      1    TRO  NaN   1    4   0   0   0  ...    0.0  0.0   \n",
      "1   addybo01    1871      1    RC1  NaN  25  118  30  32   6  ...   13.0  8.0   \n",
      "2  allisar01    1871      1    CL1  NaN  29  137  28  40   4  ...   19.0  3.0   \n",
      "3  allisdo01    1871      1    WS3  NaN  27  133  28  44  10  ...   27.0  1.0   \n",
      "4  ansonca01    1871      1    RC1  NaN  25  120  29  39  11  ...   16.0  6.0   \n",
      "\n",
      "    CS  BB   SO  IBB  HBP  SH  SF  GIDP  \n",
      "0  0.0   0  0.0  NaN  NaN NaN NaN   NaN  \n",
      "1  1.0   4  0.0  NaN  NaN NaN NaN   NaN  \n",
      "2  1.0   2  5.0  NaN  NaN NaN NaN   NaN  \n",
      "3  1.0   0  2.0  NaN  NaN NaN NaN   NaN  \n",
      "4  2.0   2  1.0  NaN  NaN NaN NaN   NaN  \n",
      "\n",
      "[5 rows x 22 columns]\n"
     ]
    }
   ],
   "source": [
    "print(batting_df.head())"
   ]
  },
  {
   "cell_type": "code",
   "execution_count": 76,
   "metadata": {
    "collapsed": false
   },
   "outputs": [],
   "source": [
    "player_stats = {}\n",
    "for i, row in batting_df.iterrows():\n",
    "    playerID = row['playerID']\n",
    "    G = row['G']\n",
    "    AB = row['AB']\n",
    "    R = row['R']\n",
    "    H = row['H']\n",
    "    twoB = row['2B']\n",
    "    threeB = row['3B']\n",
    "    HR = row['HR']\n",
    "    RBI = row['RBI']\n",
    "    SB = row['SB']\n",
    "    CS = row['CS']\n",
    "    BB = row['BB']\n",
    "    SO = row['SO']\n",
    "    IBB = row['IBB']\n",
    "    HBP = row['HBP']\n",
    "    SH = row['SH']\n",
    "    SF = row['SF']\n",
    "    GIDP = row['GIDP']\n",
    "    if playerID in player_stats:\n",
    "        player_stats[playerID]['G'] = player_stats[playerID]['G'] + G\n",
    "        player_stats[playerID]['AB'] = player_stats[playerID]['AB'] + AB\n",
    "        player_stats[playerID]['R'] = player_stats[playerID]['R'] + R\n",
    "        player_stats[playerID]['H'] = player_stats[playerID]['H'] + H\n",
    "        player_stats[playerID]['2B'] = player_stats[playerID]['2B'] + twoB\n",
    "        player_stats[playerID]['3B'] = player_stats[playerID]['3B'] + threeB\n",
    "        player_stats[playerID]['HR'] = player_stats[playerID]['HR'] + HR\n",
    "        player_stats[playerID]['RBI'] = player_stats[playerID]['RBI'] + RBI\n",
    "        player_stats[playerID]['SB'] = player_stats[playerID]['SB'] + SB\n",
    "        player_stats[playerID]['CS'] = player_stats[playerID]['CS'] + CS\n",
    "        player_stats[playerID]['BB'] = player_stats[playerID]['BB'] + BB\n",
    "        player_stats[playerID]['SO'] = player_stats[playerID]['SO'] + SO\n",
    "        player_stats[playerID]['IBB'] = player_stats[playerID]['IBB'] + IBB\n",
    "        player_stats[playerID]['HBP'] = player_stats[playerID]['HBP'] + HBP\n",
    "        player_stats[playerID]['SH'] = player_stats[playerID]['SH'] + SH\n",
    "        player_stats[playerID]['GIDP'] = player_stats[playerID]['GIDP'] + GIDP\n",
    "    else:\n",
    "        player_stats[playerID] = {}\n",
    "        player_stats[playerID]['G'] = G\n",
    "        player_stats[playerID]['AB'] = AB\n",
    "        player_stats[playerID]['R'] = R\n",
    "        player_stats[playerID]['H'] = H\n",
    "        player_stats[playerID]['2B'] = twoB\n",
    "        player_stats[playerID]['3B'] = threeB\n",
    "        player_stats[playerID]['HR'] = HR\n",
    "        player_stats[playerID]['RBI'] = RBI\n",
    "        player_stats[playerID]['SB'] = SB\n",
    "        player_stats[playerID]['CS'] = CS\n",
    "        player_stats[playerID]['BB'] = BB\n",
    "        player_stats[playerID]['SO'] = SO\n",
    "        player_stats[playerID]['IBB'] = IBB\n",
    "        player_stats[playerID]['HBP'] = HBP\n",
    "        player_stats[playerID]['SH'] = SH\n",
    "        player_stats[playerID]['GIDP'] = GIDP        \n"
   ]
  },
  {
   "cell_type": "code",
   "execution_count": 77,
   "metadata": {
    "collapsed": false
   },
   "outputs": [],
   "source": [
    "pitcher_list = []\n",
    "for i, row in pitching_df.iterrows():\n",
    "    playerID = row['playerID']\n",
    "    Wp = row['W']\n",
    "    Lp = row['L']\n",
    "    Gp = row['G']\n",
    "    GSp = row['GS']\n",
    "    CGp = row['CG']\n",
    "    SHOp = row['SHO']\n",
    "    SVp = row['SV']\n",
    "    IPOutsp = row['IPOuts']\n",
    "    Hp = row['H']\n",
    "    ERp = row['ER']\n",
    "    HRp = row['HR']\n",
    "    BBp = row['BB']\n",
    "    SOp = row['SO']\n",
    "    IBBp = row['IBB']\n",
    "    WPp = row['WP']\n",
    "    HBPp = row['HBP']\n",
    "    BKp = row['BK']\n",
    "    BFPp = row['BFP']\n",
    "    GFp = row['GF']\n",
    "    Rp = row['R']\n",
    "    SHp = row['SH']\n",
    "    SFp = row['SF']\n",
    "    GIDPp = row['GIDP']\n",
    "    if playerID in player_stats and playerID in pitcher_list:\n",
    "        player_stats[playerID]['Wp'] = player_stats[playerID]['Wp'] + Wp\n",
    "        player_stats[playerID]['Lp'] = player_stats[playerID]['Lp'] + Lp\n",
    "        player_stats[playerID]['Gp'] = player_stats[playerID]['Gp'] + Gp\n",
    "        player_stats[playerID]['GSp'] = player_stats[playerID]['GSp'] + GSp\n",
    "        player_stats[playerID]['CGp'] = player_stats[playerID]['CGp'] + CGp\n",
    "        player_stats[playerID]['SHOp'] = player_stats[playerID]['SHOp'] + SHOp\n",
    "        player_stats[playerID]['SVp'] = player_stats[playerID]['SVp'] + SVp\n",
    "        player_stats[playerID]['IPOutsp'] = player_stats[playerID]['IPOutsp'] + IPOutsp\n",
    "        player_stats[playerID]['Hp'] = player_stats[playerID]['Hp'] + Hp\n",
    "        player_stats[playerID]['ERp'] = player_stats[playerID]['ERp'] + ERp\n",
    "        player_stats[playerID]['HRp'] = player_stats[playerID]['HRp'] + HRp\n",
    "        player_stats[playerID]['BBp'] = player_stats[playerID]['BBp'] + BBp\n",
    "        player_stats[playerID]['SOp'] = player_stats[playerID]['SOp'] + SOp\n",
    "        player_stats[playerID]['IBBp'] = player_stats[playerID]['IBBp'] + IBBp\n",
    "        player_stats[playerID]['WPp'] = player_stats[playerID]['WPp'] + WPp\n",
    "        player_stats[playerID]['HBPp'] = player_stats[playerID]['HBPp'] + HBPp\n",
    "        player_stats[playerID]['BKp'] = player_stats[playerID]['BKp'] + BKp\n",
    "        player_stats[playerID]['BFPp'] = player_stats[playerID]['BFPp'] + BFPp\n",
    "        player_stats[playerID]['GFp'] = player_stats[playerID]['GFp'] + GFp\n",
    "        player_stats[playerID]['Rp'] = player_stats[playerID]['Rp'] + Rp\n",
    "        player_stats[playerID]['SHp'] = player_stats[playerID]['SHp'] + SHp\n",
    "        player_stats[playerID]['SFp'] = player_stats[playerID]['SFp'] + SFp\n",
    "        player_stats[playerID]['GIDPp'] = player_stats[playerID]['GIDPp'] + GIDPp\n",
    "    else:\n",
    "        pitcher_list.append(playerID)\n",
    "        player_stats[playerID]['Wp'] = Wp\n",
    "        player_stats[playerID]['Lp'] = Lp\n",
    "        player_stats[playerID]['Gp'] = Gp\n",
    "        player_stats[playerID]['GSp'] = GSp\n",
    "        player_stats[playerID]['CGp'] = CGp\n",
    "        player_stats[playerID]['SHOp'] = SHOp\n",
    "        player_stats[playerID]['SVp'] = SVp\n",
    "        player_stats[playerID]['IPOutsp'] = IPOutsp\n",
    "        player_stats[playerID]['Hp'] = Hp\n",
    "        player_stats[playerID]['ERp'] = ERp\n",
    "        player_stats[playerID]['HRp'] = HRp\n",
    "        player_stats[playerID]['BBp'] = BBp\n",
    "        player_stats[playerID]['SOp'] = SOp\n",
    "        player_stats[playerID]['IBBp'] = IBBp\n",
    "        player_stats[playerID]['WPp'] = WPp\n",
    "        player_stats[playerID]['HBPp'] = HBPp\n",
    "        player_stats[playerID]['BKp'] = BKp\n",
    "        player_stats[playerID]['BFPp'] = BFPp\n",
    "        player_stats[playerID]['GFp'] = GFp\n",
    "        player_stats[playerID]['Rp'] = Rp\n",
    "        player_stats[playerID]['SHp'] = SHp\n",
    "        player_stats[playerID]['SFp'] = SFp\n",
    "        player_stats[playerID]['GIDPp'] = GIDPp\n",
    "\n",
    "        "
   ]
  },
  {
   "cell_type": "code",
   "execution_count": 78,
   "metadata": {
    "collapsed": true
   },
   "outputs": [],
   "source": [
    "fielder_list = []\n",
    "for i, row in fielding_df.iterrows():\n",
    "    playerID = row['playerID']\n",
    "    Gf = row['G']\n",
    "    GSf = row['GS']\n",
    "    InnOutsf = row['InnOuts']\n",
    "    POf = row['PO']\n",
    "    Af = row['A']\n",
    "    Ef = row['E']\n",
    "    DPf = row['DP']\n",
    "    PBfc = row['PB']\n",
    "    WPfc = row['WP']\n",
    "    SBfc = row['SB']\n",
    "    CSfc = row['CS']\n",
    "    if playerID in player_stats and playerID in fielder_list:\n",
    "        player_stats[playerID]['Gf'] = player_stats[playerID]['Gf'] + Gf\n",
    "        player_stats[playerID]['GSf'] = player_stats[playerID]['GSf'] + GSf\n",
    "        player_stats[playerID]['InnOutsf'] = player_stats[playerID]['InnOutsf'] + InnOutsf\n",
    "        player_stats[playerID]['POf'] = player_stats[playerID]['POf'] + POf\n",
    "        player_stats[playerID]['Af'] = player_stats[playerID]['Af'] + Af\n",
    "        player_stats[playerID]['Ef'] = player_stats[playerID]['Ef'] + Ef\n",
    "        player_stats[playerID]['DPf'] = player_stats[playerID]['DPf'] + DPf\n",
    "        player_stats[playerID]['PBfc'] = player_stats[playerID]['PBfc'] + PBfc\n",
    "        player_stats[playerID]['WPfc'] = player_stats[playerID]['WPfc'] + WPfc\n",
    "        player_stats[playerID]['SBfc'] = player_stats[playerID]['SBfc'] + SBfc\n",
    "        player_stats[playerID]['CSfc'] = player_stats[playerID]['CSfc'] + CSfc\n",
    "    else:\n",
    "        fielder_list.append(playerID)\n",
    "        player_stats[playerID]['Gf'] = Gf\n",
    "        player_stats[playerID]['GSf'] = GSf\n",
    "        player_stats[playerID]['InnOutsf'] = InnOutsf\n",
    "        player_stats[playerID]['POf'] = POf\n",
    "        player_stats[playerID]['Af'] = Af\n",
    "        player_stats[playerID]['Ef'] = Ef\n",
    "        player_stats[playerID]['DPf'] = DPf\n",
    "        player_stats[playerID]['PBfc'] = PBfc\n",
    "        player_stats[playerID]['WPfc'] = WPfc\n",
    "        player_stats[playerID]['SBfc'] = SBfc\n",
    "        player_stats[playerID]['CSfc'] = CSfc"
   ]
  },
  {
   "cell_type": "code",
   "execution_count": 79,
   "metadata": {
    "collapsed": false
   },
   "outputs": [
    {
     "name": "stdout",
     "output_type": "stream",
     "text": [
      "['Pitching Triple Crown' 'Triple Crown' 'Baseball Magazine All-Star'\n",
      " 'Most Valuable Player' 'TSN All-Star' 'TSN Guide MVP'\n",
      " 'TSN Major League Player of the Year' 'TSN Pitcher of the Year'\n",
      " 'TSN Player of the Year' 'Rookie of the Year' 'Babe Ruth Award'\n",
      " 'Lou Gehrig Memorial Award' 'World Series MVP' 'Cy Young Award'\n",
      " 'Gold Glove' 'TSN Fireman of the Year' 'All-Star Game MVP' 'Hutch Award'\n",
      " 'Roberto Clemente Award' 'Rolaids Relief Man Award' 'NLCS MVP' 'ALCS MVP'\n",
      " 'Silver Slugger' 'Branch Rickey Award' 'Hank Aaron Award'\n",
      " 'TSN Reliever of the Year' 'Comeback Player of the Year'\n",
      " 'Outstanding DH Award' 'Reliever of the Year Award']\n"
     ]
    }
   ],
   "source": [
    "print(awards_df['awardID'].unique())"
   ]
  },
  {
   "cell_type": "code",
   "execution_count": 80,
   "metadata": {
    "collapsed": false
   },
   "outputs": [],
   "source": [
    "mvp_df = awards_df[awards_df['awardID'] == 'Most Valuable Player']\n",
    "roy_df = awards_df[awards_df['awardID'] == 'Rookie of the Year']\n",
    "cy_df = awards_df[awards_df['awardID'] == 'Cy Young Award']\n",
    "gg_df = awards_df[awards_df['awardID'] == 'Gold Glove']\n",
    "ss_df = awards_df[awards_df['awardID'] == 'Silver Slugger']\n",
    "\n",
    "awards_list = [mvp_df,roy_df,cy_df,gg_df,ss_df]"
   ]
  },
  {
   "cell_type": "code",
   "execution_count": 81,
   "metadata": {
    "collapsed": false
   },
   "outputs": [
    {
     "name": "stdout",
     "output_type": "stream",
     "text": [
      "       playerID             awardID  yearID\n",
      "1796  robinja02  Rookie of the Year    1947\n",
      "1845   darkal01  Rookie of the Year    1948\n",
      "1899  sievero01  Rookie of the Year    1949\n",
      "1900  newcodo01  Rookie of the Year    1949\n",
      "1953  dropowa01  Rookie of the Year    1950\n"
     ]
    }
   ],
   "source": [
    "print(awards_list[1].head())"
   ]
  },
  {
   "cell_type": "code",
   "execution_count": 82,
   "metadata": {
    "collapsed": true
   },
   "outputs": [],
   "source": [
    "mvp_list = []\n",
    "roy_list = []\n",
    "cy_list = []\n",
    "gg_list = []\n",
    "ss_list = []\n",
    "lists = [mvp_list,roy_list,cy_list,gg_list,ss_list]"
   ]
  },
  {
   "cell_type": "code",
   "execution_count": 83,
   "metadata": {
    "collapsed": false
   },
   "outputs": [],
   "source": [
    "for index, v in enumerate(awards_list):\n",
    "    for i, row in v.iterrows():\n",
    "        playerID = row['playerID']\n",
    "        award = row['awardID']\n",
    "        if playerID in player_stats and playerID in lists[index]:\n",
    "            player_stats[playerID][award] += 1\n",
    "        else:\n",
    "            lists[index].append(playerID)\n",
    "            player_stats[playerID][award] = 1"
   ]
  },
  {
   "cell_type": "code",
   "execution_count": 84,
   "metadata": {
    "collapsed": true
   },
   "outputs": [],
   "source": [
    "allstar_list = []\n",
    "for i, row in allstar_df.iterrows():\n",
    "    playerID = row['playerID']\n",
    "    if playerID in player_stats and playerID in allstar_list:\n",
    "        player_stats[playerID]['AS_games'] += 1\n",
    "    else:\n",
    "        allstar_list.append(playerID)\n",
    "        player_stats[playerID]['AS_games'] = 1"
   ]
  },
  {
   "cell_type": "code",
   "execution_count": 85,
   "metadata": {
    "collapsed": false
   },
   "outputs": [],
   "source": [
    "for i, row in hof_df.iterrows():\n",
    "    playerID = row['playerID']\n",
    "    if playerID in player_stats:\n",
    "        player_stats[playerID]['HoF'] = 1"
   ]
  },
  {
   "cell_type": "code",
   "execution_count": 86,
   "metadata": {
    "collapsed": false
   },
   "outputs": [
    {
     "name": "stdout",
     "output_type": "stream",
     "text": [
      "250\n",
      "19105\n"
     ]
    }
   ],
   "source": [
    "print(len(hof_df))\n",
    "print(len(master_df))"
   ]
  },
  {
   "cell_type": "code",
   "execution_count": 87,
   "metadata": {
    "collapsed": false
   },
   "outputs": [
    {
     "name": "stdout",
     "output_type": "stream",
     "text": [
      "{'saverjo01': {'GSf': 0.0, 'HBP': 0.0, 'InnOutsf': 155.0, 'Wp': 3, 'H': 0, 'HR': 0, 'WPp': 0.0, 'HRp': 5, 'ERp': 22, 'Lp': 2, 'SO': 1.0, 'IBBp': 1.0, 'CGp': 0, 'Af': 10.0, 'Ef': 2.0, 'CSfc': nan, 'GIDPp': 3.0, 'PBfc': nan, 'SH': 1.0, 'R': 0, 'BFPp': 218.0, 'G': 44, 'Gp': 44, '2B': 0, 'SOp': 32, 'BKp': 1, 'Hp': 45, 'SFp': 3.0, 'CS': 0.0, 'SBfc': nan, 'AB': 2, 'SB': 0.0, 'GIDP': 0.0, 'IBB': 0.0, 'GFp': 19.0, 'Gf': 44, 'SHp': 4.0, 'IPOutsp': 155, 'WPfc': nan, 'Rp': 28, 'HBPp': 1.0, 'SVp': 0, '3B': 0, 'BBp': 20, 'SHOp': 0, 'BB': 0, 'POf': 2, 'DPf': 0.0, 'GSp': 0, 'RBI': 0.0}, 'floredo01': {'GSf': 0.0, 'HBP': 0.0, 'InnOutsf': 36.0, 'Wp': 3, 'H': 0, 'HR': 0, 'WPp': 0.0, 'HRp': 0, 'ERp': 2, 'Lp': 0, 'SO': 1.0, 'IBBp': 0.0, 'CGp': 0, 'Af': 4.0, 'Ef': 0.0, 'CSfc': nan, 'GIDPp': nan, 'PBfc': nan, 'SH': 0.0, 'R': 0, 'BFPp': 57.0, 'G': 14, 'Gp': 14, '2B': 0, 'SOp': 5, 'BKp': 0, 'Hp': 17, 'SFp': nan, 'CS': 0.0, 'SBfc': nan, 'AB': 1, 'SB': 0.0, 'GIDP': 0.0, 'IBB': 0.0, 'GFp': 3.0, 'Gf': 14, 'SHp': nan, 'IPOutsp': 36, 'WPfc': nan, 'Rp': 3, 'HBPp': 0.0, 'SVp': 0, '3B': 0, 'BBp': 6, 'SHOp': 0, 'BB': 0, 'POf': 0, 'DPf': 0.0, 'GSp': 0, 'RBI': 0.0}}\n"
     ]
    }
   ],
   "source": [
    "print(dict(list(player_stats.items())[0:2]))"
   ]
  },
  {
   "cell_type": "code",
   "execution_count": 88,
   "metadata": {
    "collapsed": false
   },
   "outputs": [],
   "source": [
    "stats_df = pd.DataFrame.from_dict(player_stats, orient='index')"
   ]
  },
  {
   "cell_type": "code",
   "execution_count": 89,
   "metadata": {
    "collapsed": false
   },
   "outputs": [],
   "source": [
    "stats_df['playerID'] = stats_df.index"
   ]
  },
  {
   "cell_type": "code",
   "execution_count": 90,
   "metadata": {
    "collapsed": false
   },
   "outputs": [
    {
     "name": "stdout",
     "output_type": "stream",
     "text": [
      "              GSf   HBP  InnOutsf    Wp     H   HR   WPp   HRp    ERp    Lp  \\\n",
      "aardsda01     0.0   0.0    1011.0  16.0     0    0  12.0  41.0  160.0  18.0   \n",
      "aaronha01  2977.0  32.0   78413.0   NaN  3771  755   NaN   NaN    NaN   NaN   \n",
      "aaronto01   206.0   0.0    6472.0   NaN   216   13   NaN   NaN    NaN   NaN   \n",
      "aasedo01     91.0   0.0    3328.0  66.0     0    0  21.0  89.0  468.0  60.0   \n",
      "abadan01      4.0   0.0     138.0   NaN     2    0   NaN   NaN    NaN   NaN   \n",
      "\n",
      "             ...       GSp     RBI  AS_games  Gold Glove  HoF  Cy Young Award  \\\n",
      "aardsda01    ...       0.0     0.0       NaN         NaN  NaN             NaN   \n",
      "aaronha01    ...       NaN  2297.0      25.0         3.0  1.0             NaN   \n",
      "aaronto01    ...       NaN    94.0       NaN         NaN  NaN             NaN   \n",
      "aasedo01     ...      91.0     0.0       1.0         NaN  NaN             NaN   \n",
      "abadan01     ...       NaN     0.0       NaN         NaN  NaN             NaN   \n",
      "\n",
      "           Most Valuable Player  Silver Slugger  Rookie of the Year   playerID  \n",
      "aardsda01                   NaN             NaN                 NaN  aardsda01  \n",
      "aaronha01                   1.0             NaN                 NaN  aaronha01  \n",
      "aaronto01                   NaN             NaN                 NaN  aaronto01  \n",
      "aasedo01                    NaN             NaN                 NaN   aasedo01  \n",
      "abadan01                    NaN             NaN                 NaN   abadan01  \n",
      "\n",
      "[5 rows x 58 columns]\n"
     ]
    }
   ],
   "source": [
    "print(stats_df.head())"
   ]
  },
  {
   "cell_type": "code",
   "execution_count": 91,
   "metadata": {
    "collapsed": false
   },
   "outputs": [
    {
     "name": "stdout",
     "output_type": "stream",
     "text": [
      "    playerID nameFirst nameLast bats throws       debut   finalGame\n",
      "0  aardsda01     David  Aardsma    R      R  2004-04-06  2015-08-23\n",
      "1  aaronha01      Hank    Aaron    R      R  1954-04-13  1976-10-03\n",
      "2  aaronto01    Tommie    Aaron    R      R  1962-04-10  1971-09-26\n",
      "3   aasedo01       Don     Aase    R      R  1977-07-26  1990-10-03\n",
      "4   abadan01      Andy     Abad    L      L  2001-09-10  2006-04-13\n"
     ]
    }
   ],
   "source": [
    "print(master_df.head())"
   ]
  },
  {
   "cell_type": "code",
   "execution_count": 92,
   "metadata": {
    "collapsed": false
   },
   "outputs": [],
   "source": [
    "df = master_df.join(stats_df,on='playerID',how='inner',rsuffix='mstr')"
   ]
  },
  {
   "cell_type": "code",
   "execution_count": 93,
   "metadata": {
    "collapsed": false
   },
   "outputs": [
    {
     "name": "stdout",
     "output_type": "stream",
     "text": [
      "    playerID nameFirst nameLast bats throws       debut   finalGame     GSf  \\\n",
      "0  aardsda01     David  Aardsma    R      R  2004-04-06  2015-08-23     0.0   \n",
      "1  aaronha01      Hank    Aaron    R      R  1954-04-13  1976-10-03  2977.0   \n",
      "2  aaronto01    Tommie    Aaron    R      R  1962-04-10  1971-09-26   206.0   \n",
      "3   aasedo01       Don     Aase    R      R  1977-07-26  1990-10-03    91.0   \n",
      "4   abadan01      Andy     Abad    L      L  2001-09-10  2006-04-13     4.0   \n",
      "\n",
      "    HBP  InnOutsf      ...        GSp     RBI  AS_games  Gold Glove  HoF  \\\n",
      "0   0.0    1011.0      ...        0.0     0.0       NaN         NaN  NaN   \n",
      "1  32.0   78413.0      ...        NaN  2297.0      25.0         3.0  1.0   \n",
      "2   0.0    6472.0      ...        NaN    94.0       NaN         NaN  NaN   \n",
      "3   0.0    3328.0      ...       91.0     0.0       1.0         NaN  NaN   \n",
      "4   0.0     138.0      ...        NaN     0.0       NaN         NaN  NaN   \n",
      "\n",
      "   Cy Young Award  Most Valuable Player  Silver Slugger  Rookie of the Year  \\\n",
      "0             NaN                   NaN             NaN                 NaN   \n",
      "1             NaN                   1.0             NaN                 NaN   \n",
      "2             NaN                   NaN             NaN                 NaN   \n",
      "3             NaN                   NaN             NaN                 NaN   \n",
      "4             NaN                   NaN             NaN                 NaN   \n",
      "\n",
      "   playerIDmstr  \n",
      "0     aardsda01  \n",
      "1     aaronha01  \n",
      "2     aaronto01  \n",
      "3      aasedo01  \n",
      "4      abadan01  \n",
      "\n",
      "[5 rows x 65 columns]\n",
      "18915\n",
      "18915\n",
      "19105\n"
     ]
    }
   ],
   "source": [
    "print(df.head())\n",
    "print(len(stats_df))\n",
    "print(len(df))\n",
    "print(len(master_df))"
   ]
  },
  {
   "cell_type": "code",
   "execution_count": null,
   "metadata": {
    "collapsed": false
   },
   "outputs": [],
   "source": [
    "def bats_throws(col):\n",
    "    if col == \"R\":\n",
    "        return 1\n",
    "    else:\n",
    "        return 0\n",
    "        \n",
    "df['bats_R'] = df['bats'].apply(bats_throws)\n",
    "df['throws_R'] = df['throws'].apply(bats_throws)"
   ]
  },
  {
   "cell_type": "code",
   "execution_count": null,
   "metadata": {
    "collapsed": false
   },
   "outputs": [],
   "source": [
    "pos_list = []\n",
    "pos_dict = {}\n",
    "for i, row in fielding_df.iterrows():\n",
    "    playerID = row['playerID']\n",
    "    games = row['G']\n",
    "    pos = row['Pos']\n",
    "    if playerID in pos_dict:\n",
    "        if pos in pos_dict[playerID]:\n",
    "            pos_dict[playerID][pos] = pos_dict[playerID][pos] + games\n",
    "        else:\n",
    "            pos_dict[playerID][pos] = games\n",
    "    else:\n",
    "        pos_dict[playerID] = {}\n",
    "        pos_dict[playerID][pos] = games"
   ]
  },
  {
   "cell_type": "code",
   "execution_count": null,
   "metadata": {
    "collapsed": false
   },
   "outputs": [],
   "source": [
    "print(len(player_stats))"
   ]
  },
  {
   "cell_type": "code",
   "execution_count": null,
   "metadata": {
    "collapsed": false
   },
   "outputs": [],
   "source": [
    "primary_pos_dict = {}\n",
    "player_list = []\n",
    "for k, v in pos_dict.items():\n",
    "    playerID = k\n",
    "    primary_pos_dict[playerID] = {}\n",
    "    for key, val in v.items():\n",
    "        primary_pos_dict[playerID]['game_count'] = 0\n",
    "        if val > primary_pos_dict[playerID]['game_count']:\n",
    "            primary_pos_dict[playerID]['pos'] = key\n",
    "            primary_pos_dict[playerID]['game_count'] = val"
   ]
  },
  {
   "cell_type": "code",
   "execution_count": null,
   "metadata": {
    "collapsed": false
   },
   "outputs": [],
   "source": [
    "print(len(primary_pos_dict))\n",
    "print(primary_pos_dict)"
   ]
  },
  {
   "cell_type": "code",
   "execution_count": null,
   "metadata": {
    "collapsed": true
   },
   "outputs": [],
   "source": [
    "primary_pos_df = pd.DataFrame.from_dict(primary_pos_dict, orient='index')"
   ]
  },
  {
   "cell_type": "code",
   "execution_count": null,
   "metadata": {
    "collapsed": true
   },
   "outputs": [],
   "source": [
    "primary_pos_df = primary_pos_df.drop('game_count', axis=1)"
   ]
  },
  {
   "cell_type": "code",
   "execution_count": null,
   "metadata": {
    "collapsed": true
   },
   "outputs": [],
   "source": [
    "df = df.join(primary_pos_df,on='playerID',how='inner')"
   ]
  },
  {
   "cell_type": "code",
   "execution_count": null,
   "metadata": {
    "collapsed": false
   },
   "outputs": [],
   "source": [
    "dummy_df = pd.get_dummies(df['pos'], prefix='pos_')\n",
    "df = pd.concat([df, dummy_df], axis=1)"
   ]
  },
  {
   "cell_type": "code",
   "execution_count": null,
   "metadata": {
    "collapsed": false
   },
   "outputs": [],
   "source": [
    "print(df.head())"
   ]
  },
  {
   "cell_type": "code",
   "execution_count": null,
   "metadata": {
    "collapsed": false
   },
   "outputs": [],
   "source": [
    "print(df.columns)"
   ]
  },
  {
   "cell_type": "code",
   "execution_count": null,
   "metadata": {
    "collapsed": true
   },
   "outputs": [],
   "source": [
    "numeric_cols = ['Rp', 'SVp', 'GIDP', 'RBI', 'IBBp', 'BFPp', 'InnOutsf',\n",
    "       'HRp', 'SHOp', 'CSfc', 'SB', 'GSp', 'CS', 'Ef', 'R', 'BKp', 'IPOutsp',\n",
    "       'WPp', 'PBfc', 'BB', 'SBfc', 'Af', 'HBPp', '2B', '3B', 'SFp', 'SO',\n",
    "       'HR', 'DPf', 'POf', 'Gf', 'CGp', 'WPfc', 'Lp', 'Gp', 'SH', 'G', 'IBB',\n",
    "       'H', 'SOp', 'AB', 'ERp', 'Hp', 'GSf', 'SHp', 'HBP', 'BBp', 'GIDPp',\n",
    "       'Wp', 'GFp', 'AS_games', 'HoF', 'Gold Glove', 'Rookie of the Year',\n",
    "       'Silver Slugger', 'Most Valuable Player', 'Cy Young Award', 'bats_R',\n",
    "       'throws_R','pos__1B', 'pos__2B',\n",
    "       'pos__3B', 'pos__C', 'pos__OF', 'pos__P', 'pos__SS']\n",
    "data = df[numeric_cols]"
   ]
  },
  {
   "cell_type": "code",
   "execution_count": null,
   "metadata": {
    "collapsed": true
   },
   "outputs": [],
   "source": [
    "data = data.fillna(0)"
   ]
  },
  {
   "cell_type": "code",
   "execution_count": null,
   "metadata": {
    "collapsed": false
   },
   "outputs": [],
   "source": [
    "print(data.head())"
   ]
  },
  {
   "cell_type": "code",
   "execution_count": null,
   "metadata": {
    "collapsed": false
   },
   "outputs": [],
   "source": [
    "features = data.drop('HoF', axis=1)\n",
    "target = data['HoF']"
   ]
  },
  {
   "cell_type": "code",
   "execution_count": null,
   "metadata": {
    "collapsed": false
   },
   "outputs": [],
   "source": [
    "print(target)"
   ]
  },
  {
   "cell_type": "markdown",
   "metadata": {},
   "source": [
    "## Don't forget to deal with class imbalance."
   ]
  },
  {
   "cell_type": "code",
   "execution_count": null,
   "metadata": {
    "collapsed": false
   },
   "outputs": [],
   "source": [
    "from sklearn.cross_validation import cross_val_predict, KFold\n",
    "from sklearn.linear_model import LogisticRegression\n",
    "\n",
    "lr = LogisticRegression(class_weight='balanced')\n",
    "kf = KFold(features.shape[0], random_state=1)\n",
    "\n",
    "predictions = cross_val_predict(lr, features, target, cv=kf)\n",
    "predictions = pd.Series(predictions)"
   ]
  },
  {
   "cell_type": "code",
   "execution_count": null,
   "metadata": {
    "collapsed": true
   },
   "outputs": [],
   "source": [
    "tn_filter = (predictions == 0) & (data['HoF'] == 0)\n",
    "tn = len(predictions[tn_filter])\n",
    "\n",
    "tp_filter = (predictions == 1) & (data['HoF'] == 1)\n",
    "tp = len(predictions[tp_filter])\n",
    "\n",
    "fn_filter = (predictions == 0) & (data['HoF'] == 1)\n",
    "fn = len(predictions[fn_filter])\n",
    "\n",
    "fp_filter = (predictions == 1) & (data['HoF'] == 0)\n",
    "fp = len(predictions[fp_filter])"
   ]
  },
  {
   "cell_type": "code",
   "execution_count": null,
   "metadata": {
    "collapsed": false
   },
   "outputs": [],
   "source": [
    "print(tn)\n",
    "print(tp)\n",
    "print(fn)\n",
    "print(fp)\n",
    "fpr = fp / (fp + tn)\n",
    "tpr = tp / (tp + fn)\n",
    "print(fpr)\n",
    "print(tpr)"
   ]
  },
  {
   "cell_type": "code",
   "execution_count": null,
   "metadata": {
    "collapsed": false
   },
   "outputs": [],
   "source": [
    "print(target)"
   ]
  },
  {
   "cell_type": "code",
   "execution_count": null,
   "metadata": {
    "collapsed": true
   },
   "outputs": [],
   "source": [
    "from sklearn.ensemble import RandomForestClassifier\n",
    "\n",
    "rf = RandomForestClassifier(random_state=1, class_weight='balanced')\n",
    "predictions = cross_val_predict(rf, features, target, cv=kf)\n",
    "predictions= pd.Series(predictions)"
   ]
  },
  {
   "cell_type": "code",
   "execution_count": null,
   "metadata": {
    "collapsed": false
   },
   "outputs": [],
   "source": [
    "tn_filter = (predictions == 0) & (data['HoF'] == 0)\n",
    "tn = len(predictions[tn_filter])\n",
    "\n",
    "tp_filter = (predictions == 1) & (data['HoF'] == 1)\n",
    "tp = len(predictions[tp_filter])\n",
    "\n",
    "fn_filter = (predictions == 0) & (data['HoF'] == 1)\n",
    "fn = len(predictions[fn_filter])\n",
    "\n",
    "fp_filter = (predictions == 1) & (data['HoF'] == 0)\n",
    "fp = len(predictions[fp_filter])"
   ]
  },
  {
   "cell_type": "code",
   "execution_count": null,
   "metadata": {
    "collapsed": false
   },
   "outputs": [],
   "source": [
    "print(tn)\n",
    "print(tp)\n",
    "print(fn)\n",
    "print(fp)"
   ]
  },
  {
   "cell_type": "code",
   "execution_count": null,
   "metadata": {
    "collapsed": true
   },
   "outputs": [],
   "source": [
    "fpr = fp / (fp + tn)\n",
    "tpr = tp / (tp + fn)"
   ]
  },
  {
   "cell_type": "code",
   "execution_count": null,
   "metadata": {
    "collapsed": false
   },
   "outputs": [],
   "source": [
    "print(fpr)\n",
    "print(tpr)"
   ]
  }
 ],
 "metadata": {
  "anaconda-cloud": {},
  "kernelspec": {
   "display_name": "Python [conda root]",
   "language": "python",
   "name": "conda-root-py"
  },
  "language_info": {
   "codemirror_mode": {
    "name": "ipython",
    "version": 3
   },
   "file_extension": ".py",
   "mimetype": "text/x-python",
   "name": "python",
   "nbconvert_exporter": "python",
   "pygments_lexer": "ipython3",
   "version": "3.5.2"
  }
 },
 "nbformat": 4,
 "nbformat_minor": 1
}
